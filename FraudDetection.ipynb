{
  "cells": [
    {
      "cell_type": "code",
      "execution_count": 2,
      "metadata": {
        "id": "ND1Jwc6Vm0_V"
      },
      "outputs": [],
      "source": [
        "import pandas as pd\n",
        "import numpy as np\n",
        "import matplotlib.pyplot as plt\n",
        "import seaborn as sns\n"
      ]
    },
    {
      "cell_type": "markdown",
      "metadata": {
        "id": "zG2rVkhxnx5u"
      },
      "source": [
        "**READ THE DATASET**"
      ]
    },
    {
      "cell_type": "code",
      "execution_count": 3,
      "metadata": {
        "id": "EMf4x7GbnVDf"
      },
      "outputs": [],
      "source": [
        "train_label = pd.read_csv('fraud_analysis_data\\Train_data.csv')\n",
        "train_IP = pd.read_csv('fraud_analysis_data\\Train_IP_data.csv')\n",
        "train_OP = pd.read_csv('fraud_analysis_data\\Train_OP_data.csv')\n",
        "train_BF = pd.read_csv('fraud_analysis_data\\Train_Benef_data.csv')\n",
        "\n",
        "test_IP = pd.read_csv('fraud_analysis_data\\Test_IP_data.csv')\n",
        "test_OP = pd.read_csv('fraud_analysis_data\\Test_OP_data.csv')\n",
        "test_BF = pd.read_csv('fraud_analysis_data\\Test_BF_data.csv')\n",
        "test_label = pd.read_csv('fraud_analysis_data\\Test_data.csv')"
      ]
    },
    {
      "cell_type": "code",
      "execution_count": 5,
      "metadata": {
        "colab": {
          "base_uri": "https://localhost:8080/"
        },
        "id": "k7orkxPTnokZ",
        "outputId": "78c47541-6aa0-45e9-bfdb-e6cd0280d041"
      },
      "outputs": [
        {
          "data": {
            "text/plain": [
              "(517737, 27)"
            ]
          },
          "execution_count": 5,
          "metadata": {},
          "output_type": "execute_result"
        }
      ],
      "source": [
        "train_OP.shape"
      ]
    },
    {
      "cell_type": "code",
      "execution_count": 8,
      "metadata": {},
      "outputs": [
        {
          "data": {
            "text/plain": [
              "(40474, 30)"
            ]
          },
          "execution_count": 8,
          "metadata": {},
          "output_type": "execute_result"
        }
      ],
      "source": [
        "train_IP.shape"
      ]
    },
    {
      "cell_type": "code",
      "execution_count": 7,
      "metadata": {
        "colab": {
          "base_uri": "https://localhost:8080/"
        },
        "id": "e5ire8xUzyxg",
        "outputId": "a1832288-d51e-4891-efff-fd5dc8b140d4"
      },
      "outputs": [
        {
          "data": {
            "text/plain": [
              "(138556, 25)"
            ]
          },
          "execution_count": 7,
          "metadata": {},
          "output_type": "execute_result"
        }
      ],
      "source": [
        "train_BF.shape"
      ]
    },
    {
      "cell_type": "code",
      "execution_count": 9,
      "metadata": {
        "colab": {
          "base_uri": "https://localhost:8080/",
          "height": 472
        },
        "id": "1weqW40zLbeL",
        "outputId": "539a7d8a-2e39-4755-8149-ff45f0d14892"
      },
      "outputs": [
        {
          "data": {
            "image/png": "[encoded data removed]",
            "text/plain": [
              "<Figure size 640x480 with 1 Axes>"
            ]
          },
          "metadata": {},
          "output_type": "display_data"
        }
      ],
      "source": [
        "import matplotlib.pyplot as plt\n",
        "\n",
        "count = train_label['PotentialFraud'].value_counts()\n",
        "\n",
        "# Creating the bar plot with different colors\n",
        "colors = ['skyblue', 'salmon']\n",
        "plt.bar(count.index, count.values, color=colors)\n",
        "\n",
        "# Adding labels and title\n",
        "plt.xlabel('Potential fraud class')\n",
        "plt.ylabel('Count')\n",
        "plt.title('Distribution of class label')\n",
        "\n",
        "# Adding percentages above each bar\n",
        "total = count.sum()\n",
        "for i, v in enumerate(count.values):\n",
        "    percent = (v / total) * 100\n",
        "    plt.text(i, v + 5, f'{percent:.1f}%', ha='center')\n",
        "\n",
        "# Displaying the plot\n",
        "plt.show()\n"
      ]
    },
    {
      "cell_type": "markdown",
      "metadata": {
        "id": "63F3JjXeqSe_"
      },
      "source": [
        "**DATA PREPROCESS**"
      ]
    },
    {
      "cell_type": "code",
      "execution_count": 10,
      "metadata": {
        "id": "STfDk7hqqOGh"
      },
      "outputs": [],
      "source": [
        "def preprocess_data(df_label, df_beneficiary, df_inpatient, df_outpatient):\n",
        "\n",
        "  ### replace the various chronicdisease indicator, 0 Indicate the absence, 1 indicates presence\n",
        "  df_beneficiary = df_beneficiary.replace({'ChronicCond_Alzheimer': 2, 'ChronicCond_Heartfailure': 2, 'ChronicCond_KidneyDisease': 2,\n",
        "                               'ChronicCond_Cancer': 2, 'ChronicCond_ObstrPulmonary': 2, 'ChronicCond_Depression': 2,\n",
        "                               'ChronicCond_Diabetes': 2, 'ChronicCond_IschemicHeart': 2, 'ChronicCond_Osteoporasis': 2,\n",
        "                               'ChronicCond_rheumatoidarthritis': 2, 'ChronicCond_stroke': 2 }, 0)\n",
        "\n",
        "  ### replace the presence of  RenalDiseaseIndicator as 1\n",
        "  df_beneficiary=df_beneficiary.replace({'RenalDiseaseIndicator':'Y'},1)\n",
        "  df_beneficiary['RenalDiseaseIndicator']=df_beneficiary['RenalDiseaseIndicator'].astype('int64')\n",
        "\n",
        "  ### change the  categorical datatype column to numeric datatype\n",
        "  df_beneficiary[[\"ChronicCond_Alzheimer\", \"ChronicCond_Heartfailure\", \"ChronicCond_KidneyDisease\", \"ChronicCond_Cancer\", \"ChronicCond_ObstrPulmonary\", \"ChronicCond_Depression\", \"ChronicCond_Diabetes\", \"ChronicCond_IschemicHeart\", \"ChronicCond_Osteoporasis\", \"ChronicCond_rheumatoidarthritis\", \"ChronicCond_stroke\", \"RenalDiseaseIndicator\"]] = df_beneficiary[[\"ChronicCond_Alzheimer\", \"ChronicCond_Heartfailure\", \"ChronicCond_KidneyDisease\", \"ChronicCond_Cancer\", \"ChronicCond_ObstrPulmonary\", \"ChronicCond_Depression\", \"ChronicCond_Diabetes\", \"ChronicCond_IschemicHeart\", \"ChronicCond_Osteoporasis\", \"ChronicCond_rheumatoidarthritis\", \"ChronicCond_stroke\", \"RenalDiseaseIndicator\"]].apply(pd.to_numeric)\n",
        "\n",
        "  ### replace the  '2' with  '0' for gender type\n",
        "  df_beneficiary=df_beneficiary.replace({'Gender': 2}, 0)\n",
        "\n",
        "  ### create a new feature for understaning the nature of patient  in terms of DOD\n",
        "  ### set is_dead=1 for patient that has DOD and  0 for null\n",
        "  df_beneficiary.loc[df_beneficiary['DOD'].isnull(), 'is_dead'] = 0\n",
        "  df_beneficiary.loc[df_beneficiary['DOD'].notnull(), 'is_dead'] = 1\n",
        "\n",
        "  ### Convert Date of Birth and Date of Death from String to Datetime format\n",
        "  df_beneficiary['DOB'] = pd.to_datetime(df_beneficiary['DOB'] , format = '%Y-%m-%d')\n",
        "  df_beneficiary['DOD'] = pd.to_datetime(df_beneficiary['DOD'],format = '%Y-%m-%d')\n",
        "\n",
        "  ### calculate age of the patient\n",
        "  df_beneficiary['Patient_Age'] = round(((df_beneficiary['DOD'] - df_beneficiary['DOB']).dt.days)/365)\n",
        "  df_beneficiary.Patient_Age.fillna(round(((pd.to_datetime('2009-12-01',format ='%Y-%m-%d')-df_beneficiary['DOB']).dt.days)/365),inplace=True)\n",
        "\n",
        "  ### convert the ClaimStartDt, ClaimEndDt from string to datetime format\n",
        "  df_inpatient['ClaimStartDt'] = pd.to_datetime(df_inpatient['ClaimStartDt'] , format = '%Y-%m-%d')\n",
        "  df_inpatient['ClaimEndDt'] = pd.to_datetime(df_inpatient['ClaimEndDt'],format = '%Y-%m-%d')\n",
        "\n",
        "  ### convert the AdmissionDt, DischargeDt from string to datetime format\n",
        "  df_inpatient['AdmissionDt'] = pd.to_datetime(df_inpatient['AdmissionDt'] , format = '%Y-%m-%d')\n",
        "  df_inpatient['DischargeDt'] = pd.to_datetime(df_inpatient['DischargeDt'],format = '%Y-%m-%d')\n",
        "\n",
        "  ### Calculate Hospitalization_Duration = DischargeDt - AdmissionDt\n",
        "  df_inpatient['Hospitalization_Duration'] = ((df_inpatient['DischargeDt'] - df_inpatient['AdmissionDt']).dt.days)+1\n",
        "\n",
        "  ### Calculate Claim_Period = ClaimEndDt - ClaimStartDt\n",
        "  df_inpatient['Claim_Period'] = ((df_inpatient['ClaimEndDt'] - df_inpatient['ClaimStartDt']).dt.days)+1\n",
        "\n",
        "  ### ExtraClaimDays = Claim_Period - Hospitalization_Duration\n",
        "  ### np.where(condition, x, y)\n",
        "  df_inpatient['ExtraClaimDays'] = np.where(df_inpatient['Claim_Period']>df_inpatient['Hospitalization_Duration'], df_inpatient['Claim_Period'] - df_inpatient['Hospitalization_Duration'], 0)\n",
        "\n",
        "  ### convert the ClaimStartDt, ClaimEndDt from string to datetime format\n",
        "\n",
        "  df_outpatient['ClaimStartDt'] = pd.to_datetime(df_outpatient['ClaimStartDt'] , format = '%Y-%m-%d')\n",
        "  df_outpatient['ClaimEndDt'] = pd.to_datetime(df_outpatient['ClaimEndDt'],format = '%Y-%m-%d')\n",
        "\n",
        "  ### Calculate Claim_Period = ClaimEndDt - ClaimStartDt\n",
        "  df_outpatient['Claim_Period'] = ((df_outpatient['ClaimEndDt'] - df_outpatient['ClaimStartDt']).dt.days)+1\n",
        "\n",
        "  ### create a new feature for understaning the nature of patient in  terms of inpatient and outpatient\n",
        "  ### set is_admistted=1 for inpatient and 0 for outpatient\n",
        "  df_inpatient['is_admitted'] = 1\n",
        "  df_outpatient['is_admitted'] = 0\n",
        "\n",
        "  ### MERGE THE DATASET\n",
        "\n",
        "  ###Merge inpatient and outpatient dataframes based on common columns\n",
        "  common_columns = [ idx for idx in df_outpatient.columns if idx in df_inpatient.columns]\n",
        "  IP_OP_MERGE = pd.merge(df_inpatient, df_outpatient, left_on = common_columns, right_on = common_columns,how = 'outer')\n",
        "\n",
        "  ### Merge beneficiary details with inpatient and outpatient data\n",
        "  Inpatient_Outpatient_Beneficiary_Merge = pd.merge(IP_OP_MERGE, df_beneficiary,left_on='BeneID',right_on='BeneID',how='inner')\n",
        "  Final_Dataset = pd.merge(Inpatient_Outpatient_Beneficiary_Merge, df_label ,how = 'inner', on = 'Provider')\n",
        "\n",
        "  return Final_Dataset\n",
        "\n"
      ]
    },
    {
      "cell_type": "markdown",
      "metadata": {
        "id": "jYiG__e_IWaz"
      },
      "source": [
        "DATA SET AFTER PREPROCESSING"
      ]
    },
    {
      "cell_type": "code",
      "execution_count": 12,
      "metadata": {
        "id": "LFOpOLa6_Kr2"
      },
      "outputs": [],
      "source": [
        "\n",
        "final_dataset_preprocess = pd.DataFrame()\n",
        "final_dataset_preprocess= preprocess_data(train_label, train_BF, train_IP, train_OP)\n"
      ]
    },
    {
      "cell_type": "markdown",
      "metadata": {
        "id": "X99U1QPQIbIm"
      },
      "source": [
        "NATURE OF DATASET"
      ]
    },
    {
      "cell_type": "code",
      "execution_count": 13,
      "metadata": {
        "colab": {
          "base_uri": "https://localhost:8080/"
        },
        "id": "xdiBO1QyILBm",
        "outputId": "d4d6bcb9-e560-4e4e-c2e0-121f21c609b3"
      },
      "outputs": [
        {
          "data": {
            "text/plain": [
              "BeneID                              object\n",
              "ClaimID                             object\n",
              "ClaimStartDt                datetime64[ns]\n",
              "ClaimEndDt                  datetime64[ns]\n",
              "Provider                            object\n",
              "                                 ...      \n",
              "OPAnnualReimbursementAmt             int64\n",
              "OPAnnualDeductibleAmt                int64\n",
              "is_dead                            float64\n",
              "Patient_Age                        float64\n",
              "PotentialFraud                      object\n",
              "Length: 61, dtype: object"
            ]
          },
          "execution_count": 13,
          "metadata": {},
          "output_type": "execute_result"
        }
      ],
      "source": [
        "final_dataset_preprocess.dtypes"
      ]
    },
    {
      "cell_type": "code",
      "execution_count": 14,
      "metadata": {
        "colab": {
          "base_uri": "https://localhost:8080/"
        },
        "id": "MBsl6o_PGi1n",
        "outputId": "87d3858f-96f2-4f47-fc39-0e5caa69b9c2"
      },
      "outputs": [
        {
          "data": {
            "text/plain": [
              "BeneID                                  0\n",
              "ClaimID                                 0\n",
              "ClaimStartDt                            0\n",
              "ClaimEndDt                              0\n",
              "Provider                                0\n",
              "InscClaimAmtReimbursed                  0\n",
              "AttendingPhysician                   1508\n",
              "OperatingPhysician                 443764\n",
              "OtherPhysician                     358475\n",
              "AdmissionDt                        517737\n",
              "ClmAdmitDiagnosisCode              412312\n",
              "DeductibleAmtPaid                     899\n",
              "DischargeDt                        517737\n",
              "DiagnosisGroupCode                 517737\n",
              "ClmDiagnosisCode_1                  10453\n",
              "ClmDiagnosisCode_2                 195606\n",
              "ClmDiagnosisCode_3                 315156\n",
              "ClmDiagnosisCode_4                 393675\n",
              "ClmDiagnosisCode_5                 446287\n",
              "ClmDiagnosisCode_6                 473819\n",
              "ClmDiagnosisCode_7                 492034\n",
              "ClmDiagnosisCode_8                 504767\n",
              "ClmDiagnosisCode_9                 516396\n",
              "ClmDiagnosisCode_10                553201\n",
              "ClmProcedureCode_1                 534901\n",
              "ClmProcedureCode_2                 552721\n",
              "ClmProcedureCode_3                 557242\n",
              "ClmProcedureCode_4                 558093\n",
              "ClmProcedureCode_5                 558202\n",
              "ClmProcedureCode_6                 558211\n",
              "Hospitalization_Duration           517737\n",
              "Claim_Period                            0\n",
              "ExtraClaimDays                     517737\n",
              "is_admitted                             0\n",
              "DOB                                     0\n",
              "DOD                                554080\n",
              "Gender                                  0\n",
              "Race                                    0\n",
              "RenalDiseaseIndicator                   0\n",
              "State                                   0\n",
              "County                                  0\n",
              "NoOfMonths_PartACov                     0\n",
              "NoOfMonths_PartBCov                     0\n",
              "ChronicCond_Alzheimer                   0\n",
              "ChronicCond_Heartfailure                0\n",
              "ChronicCond_KidneyDisease               0\n",
              "ChronicCond_Cancer                      0\n",
              "ChronicCond_ObstrPulmonary              0\n",
              "ChronicCond_Depression                  0\n",
              "ChronicCond_Diabetes                    0\n",
              "ChronicCond_IschemicHeart               0\n",
              "ChronicCond_Osteoporasis                0\n",
              "ChronicCond_rheumatoidarthritis         0\n",
              "ChronicCond_stroke                      0\n",
              "IPAnnualReimbursementAmt                0\n",
              "IPAnnualDeductibleAmt                   0\n",
              "OPAnnualReimbursementAmt                0\n",
              "OPAnnualDeductibleAmt                   0\n",
              "is_dead                                 0\n",
              "Patient_Age                             0\n",
              "PotentialFraud                          0\n",
              "dtype: int64"
            ]
          },
          "execution_count": 14,
          "metadata": {},
          "output_type": "execute_result"
        }
      ],
      "source": [
        "pd.set_option('display.max_rows', None)\n",
        "pd.set_option('display.max_columns', None)\n",
        "final_dataset_preprocess.isnull().sum()"
      ]
    },
    {
      "cell_type": "code",
      "execution_count": 15,
      "metadata": {
        "id": "9JCKD1QsIg6a"
      },
      "outputs": [],
      "source": [
        "###TREAT THE NULL VALUES\n",
        "final_dataset_preprocess=final_dataset_preprocess.fillna(0).copy()"
      ]
    },
    {
      "cell_type": "code",
      "execution_count": 16,
      "metadata": {
        "colab": {
          "base_uri": "https://localhost:8080/"
        },
        "id": "4efEOiYVKPWz",
        "outputId": "6f6f419d-730e-4215-bf3d-9d42f390f13c"
      },
      "outputs": [
        {
          "data": {
            "text/plain": [
              "BeneID                             0\n",
              "ClaimID                            0\n",
              "ClaimStartDt                       0\n",
              "ClaimEndDt                         0\n",
              "Provider                           0\n",
              "InscClaimAmtReimbursed             0\n",
              "AttendingPhysician                 0\n",
              "OperatingPhysician                 0\n",
              "OtherPhysician                     0\n",
              "AdmissionDt                        0\n",
              "ClmAdmitDiagnosisCode              0\n",
              "DeductibleAmtPaid                  0\n",
              "DischargeDt                        0\n",
              "DiagnosisGroupCode                 0\n",
              "ClmDiagnosisCode_1                 0\n",
              "ClmDiagnosisCode_2                 0\n",
              "ClmDiagnosisCode_3                 0\n",
              "ClmDiagnosisCode_4                 0\n",
              "ClmDiagnosisCode_5                 0\n",
              "ClmDiagnosisCode_6                 0\n",
              "ClmDiagnosisCode_7                 0\n",
              "ClmDiagnosisCode_8                 0\n",
              "ClmDiagnosisCode_9                 0\n",
              "ClmDiagnosisCode_10                0\n",
              "ClmProcedureCode_1                 0\n",
              "ClmProcedureCode_2                 0\n",
              "ClmProcedureCode_3                 0\n",
              "ClmProcedureCode_4                 0\n",
              "ClmProcedureCode_5                 0\n",
              "ClmProcedureCode_6                 0\n",
              "Hospitalization_Duration           0\n",
              "Claim_Period                       0\n",
              "ExtraClaimDays                     0\n",
              "is_admitted                        0\n",
              "DOB                                0\n",
              "DOD                                0\n",
              "Gender                             0\n",
              "Race                               0\n",
              "RenalDiseaseIndicator              0\n",
              "State                              0\n",
              "County                             0\n",
              "NoOfMonths_PartACov                0\n",
              "NoOfMonths_PartBCov                0\n",
              "ChronicCond_Alzheimer              0\n",
              "ChronicCond_Heartfailure           0\n",
              "ChronicCond_KidneyDisease          0\n",
              "ChronicCond_Cancer                 0\n",
              "ChronicCond_ObstrPulmonary         0\n",
              "ChronicCond_Depression             0\n",
              "ChronicCond_Diabetes               0\n",
              "ChronicCond_IschemicHeart          0\n",
              "ChronicCond_Osteoporasis           0\n",
              "ChronicCond_rheumatoidarthritis    0\n",
              "ChronicCond_stroke                 0\n",
              "IPAnnualReimbursementAmt           0\n",
              "IPAnnualDeductibleAmt              0\n",
              "OPAnnualReimbursementAmt           0\n",
              "OPAnnualDeductibleAmt              0\n",
              "is_dead                            0\n",
              "Patient_Age                        0\n",
              "PotentialFraud                     0\n",
              "dtype: int64"
            ]
          },
          "execution_count": 16,
          "metadata": {},
          "output_type": "execute_result"
        }
      ],
      "source": [
        "final_dataset_preprocess.isnull().sum()"
      ]
    },
    {
      "cell_type": "markdown",
      "metadata": {
        "id": "br6b7S6HCKZ9"
      },
      "source": [
        "**FEATURE ENGINEERING**"
      ]
    },
    {
      "cell_type": "code",
      "execution_count": 17,
      "metadata": {
        "id": "op4SNCI6-FNx"
      },
      "outputs": [],
      "source": [
        "#generate new feature using the existing features and transforming them\n",
        "#using groupby in particular column  and performaing operation(aggreration) on certain operating columns\n",
        "def create_feature_using_groupby(df_feature, groupby_col, operation_col,operation):\n",
        "    for col in operation_col:\n",
        "    # create new column name for the dataframe\n",
        "        new_col_name = 'Per'+''.join(groupby_col)+'_'+operation+'_'+col\n",
        "        #print(new_col_name)\n",
        "        df_feature[new_col_name] = df_feature.groupby(groupby_col)[col].transform(operation)\n",
        "    return df_feature\n",
        "\n"
      ]
    },
    {
      "cell_type": "code",
      "execution_count": 18,
      "metadata": {
        "id": "clDgOA6OES00"
      },
      "outputs": [],
      "source": [
        "### Feature engineering\n",
        "def feature_engineering(df_feature):\n",
        "\n",
        "    # create new feature total reimbursement amount for inpatient and outpatient\n",
        "    df_feature['IP_OP_TotalReimbursementAmt'] = df_feature['IPAnnualReimbursementAmt'] + df_feature['OPAnnualReimbursementAmt']\n",
        "    # create new feature total deductible amount for inpatient and outpatient\n",
        "    df_feature['IP_OP_AnnualDeductibleAmt'] = df_feature['IPAnnualDeductibleAmt'] + df_feature['OPAnnualDeductibleAmt']\n",
        "\n",
        "  # group by columns to create feature\n",
        "    columns = ['InscClaimAmtReimbursed', 'DeductibleAmtPaid', 'IPAnnualReimbursementAmt', 'IPAnnualDeductibleAmt', 'OPAnnualReimbursementAmt', 'OPAnnualDeductibleAmt', 'Patient_Age', 'NoOfMonths_PartACov', 'NoOfMonths_PartBCov', 'Hospitalization_Duration', 'Claim_Period']\n",
        "    df_feature=  create_feature_using_groupby(df_feature, ['Provider'], columns, 'mean')\n",
        "    df_feature =  create_feature_using_groupby(df_feature, ['BeneID'], columns, 'mean')\n",
        "    df_feature =  create_feature_using_groupby(df_feature, ['AttendingPhysician'], columns, 'mean')\n",
        "    df_feature =  create_feature_using_groupby(df_feature, ['OperatingPhysician'], columns, 'mean')\n",
        "    df_feature =  create_feature_using_groupby(df_feature, ['OtherPhysician'], columns, 'mean')\n",
        "    df_feature =  create_feature_using_groupby(df_feature, ['DiagnosisGroupCode'], columns, 'mean')\n",
        "    df_feature =  create_feature_using_groupby(df_feature, ['ClmAdmitDiagnosisCode'], columns, 'mean')\n",
        "    df_feature =  create_feature_using_groupby(df_feature, ['ClmProcedureCode_1'], columns, 'mean')\n",
        "    df_feature =  create_feature_using_groupby(df_feature, ['ClmProcedureCode_2'], columns, 'mean')\n",
        "    df_feature =  create_feature_using_groupby(df_feature, ['ClmProcedureCode_3'], columns, 'mean')\n",
        "    df_feature =  create_feature_using_groupby(df_feature, ['ClmProcedureCode_4'], columns, 'mean')\n",
        "    df_feature =  create_feature_using_groupby(df_feature, ['ClmProcedureCode_5'], columns, 'mean')\n",
        "    df_feature =  create_feature_using_groupby(df_feature, ['ClmProcedureCode_6'], columns, 'mean')\n",
        "    df_feature =  create_feature_using_groupby(df_feature, ['ClmDiagnosisCode_1'], columns, 'mean')\n",
        "    df_feature =  create_feature_using_groupby(df_feature, ['ClmDiagnosisCode_2'], columns, 'mean')\n",
        "    df_feature =  create_feature_using_groupby(df_feature, ['ClmDiagnosisCode_3'], columns, 'mean')\n",
        "    df_feature =  create_feature_using_groupby(df_feature, ['ClmDiagnosisCode_4'], columns, 'mean')\n",
        "    df_feature =  create_feature_using_groupby(df_feature, ['ClmDiagnosisCode_5'], columns, 'mean')\n",
        "    df_feature =  create_feature_using_groupby(df_feature, ['ClmDiagnosisCode_6'], columns, 'mean')\n",
        "    df_feature =  create_feature_using_groupby(df_feature, ['ClmDiagnosisCode_7'], columns, 'mean')\n",
        "    df_feature =  create_feature_using_groupby(df_feature, ['ClmDiagnosisCode_8'], columns, 'mean')\n",
        "    df_feature =  create_feature_using_groupby(df_feature, ['ClmDiagnosisCode_9'], columns, 'mean')\n",
        "    df_feature =  create_feature_using_groupby(df_feature, ['ClmDiagnosisCode_10'], columns, 'mean')\n",
        "\n",
        "    # Count the claims per provider\n",
        "    df_feature =  create_feature_using_groupby(df_feature, ['Provider'], ['ClaimID'], 'count')\n",
        "\n",
        "    columns = ['ClaimID']\n",
        "    grp_by_cols = ['BeneID', 'AttendingPhysician', 'OtherPhysician', 'OperatingPhysician', 'ClmAdmitDiagnosisCode', 'ClmProcedureCode_1',\n",
        "                   'ClmProcedureCode_2', 'ClmProcedureCode_3', 'ClmProcedureCode_4', 'ClmProcedureCode_5', 'ClmDiagnosisCode_1', 'ClmDiagnosisCode_2',\n",
        "                   'ClmDiagnosisCode_3', 'ClmDiagnosisCode_4', 'ClmDiagnosisCode_5', 'ClmDiagnosisCode_6','ClmDiagnosisCode_7','ClmDiagnosisCode_8','ClmDiagnosisCode_9','ClmDiagnosisCode_10','DiagnosisGroupCode']\n",
        "    for ele in grp_by_cols:\n",
        "        lst = ['Provider', ele]\n",
        "        df_feature =  create_feature_using_groupby(df_feature, lst, columns, 'count')\n",
        "\n",
        "    # remove the columns which are not required\n",
        "    remove_columns=['BeneID', 'ClaimID', 'ClaimStartDt','ClaimEndDt','AttendingPhysician','OperatingPhysician', 'OtherPhysician',\n",
        "                    'ClmDiagnosisCode_1','ClmDiagnosisCode_2', 'ClmDiagnosisCode_3', 'ClmDiagnosisCode_4','ClmDiagnosisCode_5',\n",
        "                    'ClmDiagnosisCode_6', 'ClmDiagnosisCode_7','ClmDiagnosisCode_8', 'ClmDiagnosisCode_9', 'ClmDiagnosisCode_10',\n",
        "                    'ClmProcedureCode_1', 'ClmProcedureCode_2', 'ClmProcedureCode_3','ClmProcedureCode_4', 'ClmProcedureCode_5',\n",
        "                    'ClmProcedureCode_6','ClmAdmitDiagnosisCode', 'AdmissionDt','DischargeDt','DiagnosisGroupCode','DOB', 'DOD','State', 'County']\n",
        "\n",
        "    df_feature_new=df_feature.drop(columns=remove_columns, axis=1)\n",
        "\n",
        "    # Convert type of Gender and Race to categorical\n",
        "    df_feature_new.Gender=df_feature_new.Gender.astype('category')\n",
        "    df_feature_new.Race=df_feature_new.Race.astype('category')\n",
        "\n",
        "    # Do one hot encoding for gender and Race\n",
        "    df_feature_new=pd.get_dummies(df_feature_new,columns=['Gender','Race'])\n",
        "\n",
        "\n",
        "    if \"PotentialFraud\" in list(df_feature_new.columns):\n",
        "        Final_dataset = df_feature_new.groupby(['Provider','PotentialFraud'],as_index=False).agg('sum')\n",
        "        Final_dataset.PotentialFraud.replace(['Yes','No'],['1','0'],inplace=True)\n",
        "        Final_dataset.PotentialFraud=Final_dataset.PotentialFraud.astype('int64')\n",
        "        return Final_dataset\n",
        "    else:\n",
        "        Final_dataset  = df_feature_new.groupby(['Provider'],as_index=False).agg('sum')\n",
        "        return Final_dataset\n",
        "\n",
        "\n",
        "\n"
      ]
    },
    {
      "cell_type": "code",
      "execution_count": 19,
      "metadata": {
        "colab": {
          "base_uri": "https://localhost:8080/"
        },
        "id": "IPeUioM1EIVW",
        "outputId": "670cb252-2c7e-45d7-9ebc-d5fd99ab428c"
      },
      "outputs": [
        {
          "name": "stderr",
          "output_type": "stream",
          "text": [
            "C:\\Users\\jhauj\\AppData\\Local\\Temp\\ipykernel_11676\\1600580289.py:8: PerformanceWarning: DataFrame is highly fragmented.  This is usually the result of calling `frame.insert` many times, which has poor performance.  Consider joining all columns at once using pd.concat(axis=1) instead. To get a de-fragmented frame, use `newframe = frame.copy()`\n",
            "  df_feature[new_col_name] = df_feature.groupby(groupby_col)[col].transform(operation)\n",
            "C:\\Users\\jhauj\\AppData\\Local\\Temp\\ipykernel_11676\\1600580289.py:8: PerformanceWarning: DataFrame is highly fragmented.  This is usually the result of calling `frame.insert` many times, which has poor performance.  Consider joining all columns at once using pd.concat(axis=1) instead. To get a de-fragmented frame, use `newframe = frame.copy()`\n",
            "  df_feature[new_col_name] = df_feature.groupby(groupby_col)[col].transform(operation)\n",
            "C:\\Users\\jhauj\\AppData\\Local\\Temp\\ipykernel_11676\\1600580289.py:8: PerformanceWarning: DataFrame is highly fragmented.  This is usually the result of calling `frame.insert` many times, which has poor performance.  Consider joining all columns at once using pd.concat(axis=1) instead. To get a de-fragmented frame, use `newframe = frame.copy()`\n",
            "  df_feature[new_col_name] = df_feature.groupby(groupby_col)[col].transform(operation)\n",
            "C:\\Users\\jhauj\\AppData\\Local\\Temp\\ipykernel_11676\\1600580289.py:8: PerformanceWarning: DataFrame is highly fragmented.  This is usually the result of calling `frame.insert` many times, which has poor performance.  Consider joining all columns at once using pd.concat(axis=1) instead. To get a de-fragmented frame, use `newframe = frame.copy()`\n",
            "  df_feature[new_col_name] = df_feature.groupby(groupby_col)[col].transform(operation)\n",
            "C:\\Users\\jhauj\\AppData\\Local\\Temp\\ipykernel_11676\\1600580289.py:8: PerformanceWarning: DataFrame is highly fragmented.  This is usually the result of calling `frame.insert` many times, which has poor performance.  Consider joining all columns at once using pd.concat(axis=1) instead. To get a de-fragmented frame, use `newframe = frame.copy()`\n",
            "  df_feature[new_col_name] = df_feature.groupby(groupby_col)[col].transform(operation)\n",
            "C:\\Users\\jhauj\\AppData\\Local\\Temp\\ipykernel_11676\\1600580289.py:8: PerformanceWarning: DataFrame is highly fragmented.  This is usually the result of calling `frame.insert` many times, which has poor performance.  Consider joining all columns at once using pd.concat(axis=1) instead. To get a de-fragmented frame, use `newframe = frame.copy()`\n",
            "  df_feature[new_col_name] = df_feature.groupby(groupby_col)[col].transform(operation)\n",
            "C:\\Users\\jhauj\\AppData\\Local\\Temp\\ipykernel_11676\\1600580289.py:8: PerformanceWarning: DataFrame is highly fragmented.  This is usually the result of calling `frame.insert` many times, which has poor performance.  Consider joining all columns at once using pd.concat(axis=1) instead. To get a de-fragmented frame, use `newframe = frame.copy()`\n",
            "  df_feature[new_col_name] = df_feature.groupby(groupby_col)[col].transform(operation)\n",
            "C:\\Users\\jhauj\\AppData\\Local\\Temp\\ipykernel_11676\\1600580289.py:8: PerformanceWarning: DataFrame is highly fragmented.  This is usually the result of calling `frame.insert` many times, which has poor performance.  Consider joining all columns at once using pd.concat(axis=1) instead. To get a de-fragmented frame, use `newframe = frame.copy()`\n",
            "  df_feature[new_col_name] = df_feature.groupby(groupby_col)[col].transform(operation)\n",
            "C:\\Users\\jhauj\\AppData\\Local\\Temp\\ipykernel_11676\\1600580289.py:8: PerformanceWarning: DataFrame is highly fragmented.  This is usually the result of calling `frame.insert` many times, which has poor performance.  Consider joining all columns at once using pd.concat(axis=1) instead. To get a de-fragmented frame, use `newframe = frame.copy()`\n",
            "  df_feature[new_col_name] = df_feature.groupby(groupby_col)[col].transform(operation)\n",
            "C:\\Users\\jhauj\\AppData\\Local\\Temp\\ipykernel_11676\\1600580289.py:8: PerformanceWarning: DataFrame is highly fragmented.  This is usually the result of calling `frame.insert` many times, which has poor performance.  Consider joining all columns at once using pd.concat(axis=1) instead. To get a de-fragmented frame, use `newframe = frame.copy()`\n",
            "  df_feature[new_col_name] = df_feature.groupby(groupby_col)[col].transform(operation)\n",
            "C:\\Users\\jhauj\\AppData\\Local\\Temp\\ipykernel_11676\\1600580289.py:8: PerformanceWarning: DataFrame is highly fragmented.  This is usually the result of calling `frame.insert` many times, which has poor performance.  Consider joining all columns at once using pd.concat(axis=1) instead. To get a de-fragmented frame, use `newframe = frame.copy()`\n",
            "  df_feature[new_col_name] = df_feature.groupby(groupby_col)[col].transform(operation)\n",
            "C:\\Users\\jhauj\\AppData\\Local\\Temp\\ipykernel_11676\\1600580289.py:8: PerformanceWarning: DataFrame is highly fragmented.  This is usually the result of calling `frame.insert` many times, which has poor performance.  Consider joining all columns at once using pd.concat(axis=1) instead. To get a de-fragmented frame, use `newframe = frame.copy()`\n",
            "  df_feature[new_col_name] = df_feature.groupby(groupby_col)[col].transform(operation)\n",
            "C:\\Users\\jhauj\\AppData\\Local\\Temp\\ipykernel_11676\\1600580289.py:8: PerformanceWarning: DataFrame is highly fragmented.  This is usually the result of calling `frame.insert` many times, which has poor performance.  Consider joining all columns at once using pd.concat(axis=1) instead. To get a de-fragmented frame, use `newframe = frame.copy()`\n",
            "  df_feature[new_col_name] = df_feature.groupby(groupby_col)[col].transform(operation)\n",
            "C:\\Users\\jhauj\\AppData\\Local\\Temp\\ipykernel_11676\\1600580289.py:8: PerformanceWarning: DataFrame is highly fragmented.  This is usually the result of calling `frame.insert` many times, which has poor performance.  Consider joining all columns at once using pd.concat(axis=1) instead. To get a de-fragmented frame, use `newframe = frame.copy()`\n",
            "  df_feature[new_col_name] = df_feature.groupby(groupby_col)[col].transform(operation)\n",
            "C:\\Users\\jhauj\\AppData\\Local\\Temp\\ipykernel_11676\\1600580289.py:8: PerformanceWarning: DataFrame is highly fragmented.  This is usually the result of calling `frame.insert` many times, which has poor performance.  Consider joining all columns at once using pd.concat(axis=1) instead. To get a de-fragmented frame, use `newframe = frame.copy()`\n",
            "  df_feature[new_col_name] = df_feature.groupby(groupby_col)[col].transform(operation)\n",
            "C:\\Users\\jhauj\\AppData\\Local\\Temp\\ipykernel_11676\\1600580289.py:8: PerformanceWarning: DataFrame is highly fragmented.  This is usually the result of calling `frame.insert` many times, which has poor performance.  Consider joining all columns at once using pd.concat(axis=1) instead. To get a de-fragmented frame, use `newframe = frame.copy()`\n",
            "  df_feature[new_col_name] = df_feature.groupby(groupby_col)[col].transform(operation)\n",
            "C:\\Users\\jhauj\\AppData\\Local\\Temp\\ipykernel_11676\\1600580289.py:8: PerformanceWarning: DataFrame is highly fragmented.  This is usually the result of calling `frame.insert` many times, which has poor performance.  Consider joining all columns at once using pd.concat(axis=1) instead. To get a de-fragmented frame, use `newframe = frame.copy()`\n",
            "  df_feature[new_col_name] = df_feature.groupby(groupby_col)[col].transform(operation)\n",
            "C:\\Users\\jhauj\\AppData\\Local\\Temp\\ipykernel_11676\\1600580289.py:8: PerformanceWarning: DataFrame is highly fragmented.  This is usually the result of calling `frame.insert` many times, which has poor performance.  Consider joining all columns at once using pd.concat(axis=1) instead. To get a de-fragmented frame, use `newframe = frame.copy()`\n",
            "  df_feature[new_col_name] = df_feature.groupby(groupby_col)[col].transform(operation)\n",
            "C:\\Users\\jhauj\\AppData\\Local\\Temp\\ipykernel_11676\\1600580289.py:8: PerformanceWarning: DataFrame is highly fragmented.  This is usually the result of calling `frame.insert` many times, which has poor performance.  Consider joining all columns at once using pd.concat(axis=1) instead. To get a de-fragmented frame, use `newframe = frame.copy()`\n",
            "  df_feature[new_col_name] = df_feature.groupby(groupby_col)[col].transform(operation)\n",
            "C:\\Users\\jhauj\\AppData\\Local\\Temp\\ipykernel_11676\\1600580289.py:8: PerformanceWarning: DataFrame is highly fragmented.  This is usually the result of calling `frame.insert` many times, which has poor performance.  Consider joining all columns at once using pd.concat(axis=1) instead. To get a de-fragmented frame, use `newframe = frame.copy()`\n",
            "  df_feature[new_col_name] = df_feature.groupby(groupby_col)[col].transform(operation)\n",
            "C:\\Users\\jhauj\\AppData\\Local\\Temp\\ipykernel_11676\\1600580289.py:8: PerformanceWarning: DataFrame is highly fragmented.  This is usually the result of calling `frame.insert` many times, which has poor performance.  Consider joining all columns at once using pd.concat(axis=1) instead. To get a de-fragmented frame, use `newframe = frame.copy()`\n",
            "  df_feature[new_col_name] = df_feature.groupby(groupby_col)[col].transform(operation)\n",
            "C:\\Users\\jhauj\\AppData\\Local\\Temp\\ipykernel_11676\\1600580289.py:8: PerformanceWarning: DataFrame is highly fragmented.  This is usually the result of calling `frame.insert` many times, which has poor performance.  Consider joining all columns at once using pd.concat(axis=1) instead. To get a de-fragmented frame, use `newframe = frame.copy()`\n",
            "  df_feature[new_col_name] = df_feature.groupby(groupby_col)[col].transform(operation)\n",
            "C:\\Users\\jhauj\\AppData\\Local\\Temp\\ipykernel_11676\\1600580289.py:8: PerformanceWarning: DataFrame is highly fragmented.  This is usually the result of calling `frame.insert` many times, which has poor performance.  Consider joining all columns at once using pd.concat(axis=1) instead. To get a de-fragmented frame, use `newframe = frame.copy()`\n",
            "  df_feature[new_col_name] = df_feature.groupby(groupby_col)[col].transform(operation)\n",
            "C:\\Users\\jhauj\\AppData\\Local\\Temp\\ipykernel_11676\\1600580289.py:8: PerformanceWarning: DataFrame is highly fragmented.  This is usually the result of calling `frame.insert` many times, which has poor performance.  Consider joining all columns at once using pd.concat(axis=1) instead. To get a de-fragmented frame, use `newframe = frame.copy()`\n",
            "  df_feature[new_col_name] = df_feature.groupby(groupby_col)[col].transform(operation)\n",
            "C:\\Users\\jhauj\\AppData\\Local\\Temp\\ipykernel_11676\\1600580289.py:8: PerformanceWarning: DataFrame is highly fragmented.  This is usually the result of calling `frame.insert` many times, which has poor performance.  Consider joining all columns at once using pd.concat(axis=1) instead. To get a de-fragmented frame, use `newframe = frame.copy()`\n",
            "  df_feature[new_col_name] = df_feature.groupby(groupby_col)[col].transform(operation)\n",
            "C:\\Users\\jhauj\\AppData\\Local\\Temp\\ipykernel_11676\\1600580289.py:8: PerformanceWarning: DataFrame is highly fragmented.  This is usually the result of calling `frame.insert` many times, which has poor performance.  Consider joining all columns at once using pd.concat(axis=1) instead. To get a de-fragmented frame, use `newframe = frame.copy()`\n",
            "  df_feature[new_col_name] = df_feature.groupby(groupby_col)[col].transform(operation)\n",
            "C:\\Users\\jhauj\\AppData\\Local\\Temp\\ipykernel_11676\\1600580289.py:8: PerformanceWarning: DataFrame is highly fragmented.  This is usually the result of calling `frame.insert` many times, which has poor performance.  Consider joining all columns at once using pd.concat(axis=1) instead. To get a de-fragmented frame, use `newframe = frame.copy()`\n",
            "  df_feature[new_col_name] = df_feature.groupby(groupby_col)[col].transform(operation)\n",
            "C:\\Users\\jhauj\\AppData\\Local\\Temp\\ipykernel_11676\\1600580289.py:8: PerformanceWarning: DataFrame is highly fragmented.  This is usually the result of calling `frame.insert` many times, which has poor performance.  Consider joining all columns at once using pd.concat(axis=1) instead. To get a de-fragmented frame, use `newframe = frame.copy()`\n",
            "  df_feature[new_col_name] = df_feature.groupby(groupby_col)[col].transform(operation)\n",
            "C:\\Users\\jhauj\\AppData\\Local\\Temp\\ipykernel_11676\\1600580289.py:8: PerformanceWarning: DataFrame is highly fragmented.  This is usually the result of calling `frame.insert` many times, which has poor performance.  Consider joining all columns at once using pd.concat(axis=1) instead. To get a de-fragmented frame, use `newframe = frame.copy()`\n",
            "  df_feature[new_col_name] = df_feature.groupby(groupby_col)[col].transform(operation)\n",
            "C:\\Users\\jhauj\\AppData\\Local\\Temp\\ipykernel_11676\\1600580289.py:8: PerformanceWarning: DataFrame is highly fragmented.  This is usually the result of calling `frame.insert` many times, which has poor performance.  Consider joining all columns at once using pd.concat(axis=1) instead. To get a de-fragmented frame, use `newframe = frame.copy()`\n",
            "  df_feature[new_col_name] = df_feature.groupby(groupby_col)[col].transform(operation)\n",
            "C:\\Users\\jhauj\\AppData\\Local\\Temp\\ipykernel_11676\\1600580289.py:8: PerformanceWarning: DataFrame is highly fragmented.  This is usually the result of calling `frame.insert` many times, which has poor performance.  Consider joining all columns at once using pd.concat(axis=1) instead. To get a de-fragmented frame, use `newframe = frame.copy()`\n",
            "  df_feature[new_col_name] = df_feature.groupby(groupby_col)[col].transform(operation)\n",
            "C:\\Users\\jhauj\\AppData\\Local\\Temp\\ipykernel_11676\\1600580289.py:8: PerformanceWarning: DataFrame is highly fragmented.  This is usually the result of calling `frame.insert` many times, which has poor performance.  Consider joining all columns at once using pd.concat(axis=1) instead. To get a de-fragmented frame, use `newframe = frame.copy()`\n",
            "  df_feature[new_col_name] = df_feature.groupby(groupby_col)[col].transform(operation)\n",
            "C:\\Users\\jhauj\\AppData\\Local\\Temp\\ipykernel_11676\\1600580289.py:8: PerformanceWarning: DataFrame is highly fragmented.  This is usually the result of calling `frame.insert` many times, which has poor performance.  Consider joining all columns at once using pd.concat(axis=1) instead. To get a de-fragmented frame, use `newframe = frame.copy()`\n",
            "  df_feature[new_col_name] = df_feature.groupby(groupby_col)[col].transform(operation)\n",
            "C:\\Users\\jhauj\\AppData\\Local\\Temp\\ipykernel_11676\\1600580289.py:8: PerformanceWarning: DataFrame is highly fragmented.  This is usually the result of calling `frame.insert` many times, which has poor performance.  Consider joining all columns at once using pd.concat(axis=1) instead. To get a de-fragmented frame, use `newframe = frame.copy()`\n",
            "  df_feature[new_col_name] = df_feature.groupby(groupby_col)[col].transform(operation)\n",
            "C:\\Users\\jhauj\\AppData\\Local\\Temp\\ipykernel_11676\\1600580289.py:8: PerformanceWarning: DataFrame is highly fragmented.  This is usually the result of calling `frame.insert` many times, which has poor performance.  Consider joining all columns at once using pd.concat(axis=1) instead. To get a de-fragmented frame, use `newframe = frame.copy()`\n",
            "  df_feature[new_col_name] = df_feature.groupby(groupby_col)[col].transform(operation)\n",
            "C:\\Users\\jhauj\\AppData\\Local\\Temp\\ipykernel_11676\\1600580289.py:8: PerformanceWarning: DataFrame is highly fragmented.  This is usually the result of calling `frame.insert` many times, which has poor performance.  Consider joining all columns at once using pd.concat(axis=1) instead. To get a de-fragmented frame, use `newframe = frame.copy()`\n",
            "  df_feature[new_col_name] = df_feature.groupby(groupby_col)[col].transform(operation)\n",
            "C:\\Users\\jhauj\\AppData\\Local\\Temp\\ipykernel_11676\\1600580289.py:8: PerformanceWarning: DataFrame is highly fragmented.  This is usually the result of calling `frame.insert` many times, which has poor performance.  Consider joining all columns at once using pd.concat(axis=1) instead. To get a de-fragmented frame, use `newframe = frame.copy()`\n",
            "  df_feature[new_col_name] = df_feature.groupby(groupby_col)[col].transform(operation)\n",
            "C:\\Users\\jhauj\\AppData\\Local\\Temp\\ipykernel_11676\\1600580289.py:8: PerformanceWarning: DataFrame is highly fragmented.  This is usually the result of calling `frame.insert` many times, which has poor performance.  Consider joining all columns at once using pd.concat(axis=1) instead. To get a de-fragmented frame, use `newframe = frame.copy()`\n",
            "  df_feature[new_col_name] = df_feature.groupby(groupby_col)[col].transform(operation)\n",
            "C:\\Users\\jhauj\\AppData\\Local\\Temp\\ipykernel_11676\\1600580289.py:8: PerformanceWarning: DataFrame is highly fragmented.  This is usually the result of calling `frame.insert` many times, which has poor performance.  Consider joining all columns at once using pd.concat(axis=1) instead. To get a de-fragmented frame, use `newframe = frame.copy()`\n",
            "  df_feature[new_col_name] = df_feature.groupby(groupby_col)[col].transform(operation)\n",
            "C:\\Users\\jhauj\\AppData\\Local\\Temp\\ipykernel_11676\\1600580289.py:8: PerformanceWarning: DataFrame is highly fragmented.  This is usually the result of calling `frame.insert` many times, which has poor performance.  Consider joining all columns at once using pd.concat(axis=1) instead. To get a de-fragmented frame, use `newframe = frame.copy()`\n",
            "  df_feature[new_col_name] = df_feature.groupby(groupby_col)[col].transform(operation)\n",
            "C:\\Users\\jhauj\\AppData\\Local\\Temp\\ipykernel_11676\\1600580289.py:8: PerformanceWarning: DataFrame is highly fragmented.  This is usually the result of calling `frame.insert` many times, which has poor performance.  Consider joining all columns at once using pd.concat(axis=1) instead. To get a de-fragmented frame, use `newframe = frame.copy()`\n",
            "  df_feature[new_col_name] = df_feature.groupby(groupby_col)[col].transform(operation)\n",
            "C:\\Users\\jhauj\\AppData\\Local\\Temp\\ipykernel_11676\\1600580289.py:8: PerformanceWarning: DataFrame is highly fragmented.  This is usually the result of calling `frame.insert` many times, which has poor performance.  Consider joining all columns at once using pd.concat(axis=1) instead. To get a de-fragmented frame, use `newframe = frame.copy()`\n",
            "  df_feature[new_col_name] = df_feature.groupby(groupby_col)[col].transform(operation)\n",
            "C:\\Users\\jhauj\\AppData\\Local\\Temp\\ipykernel_11676\\1600580289.py:8: PerformanceWarning: DataFrame is highly fragmented.  This is usually the result of calling `frame.insert` many times, which has poor performance.  Consider joining all columns at once using pd.concat(axis=1) instead. To get a de-fragmented frame, use `newframe = frame.copy()`\n",
            "  df_feature[new_col_name] = df_feature.groupby(groupby_col)[col].transform(operation)\n",
            "C:\\Users\\jhauj\\AppData\\Local\\Temp\\ipykernel_11676\\1600580289.py:8: PerformanceWarning: DataFrame is highly fragmented.  This is usually the result of calling `frame.insert` many times, which has poor performance.  Consider joining all columns at once using pd.concat(axis=1) instead. To get a de-fragmented frame, use `newframe = frame.copy()`\n",
            "  df_feature[new_col_name] = df_feature.groupby(groupby_col)[col].transform(operation)\n",
            "C:\\Users\\jhauj\\AppData\\Local\\Temp\\ipykernel_11676\\1600580289.py:8: PerformanceWarning: DataFrame is highly fragmented.  This is usually the result of calling `frame.insert` many times, which has poor performance.  Consider joining all columns at once using pd.concat(axis=1) instead. To get a de-fragmented frame, use `newframe = frame.copy()`\n",
            "  df_feature[new_col_name] = df_feature.groupby(groupby_col)[col].transform(operation)\n",
            "C:\\Users\\jhauj\\AppData\\Local\\Temp\\ipykernel_11676\\1600580289.py:8: PerformanceWarning: DataFrame is highly fragmented.  This is usually the result of calling `frame.insert` many times, which has poor performance.  Consider joining all columns at once using pd.concat(axis=1) instead. To get a de-fragmented frame, use `newframe = frame.copy()`\n",
            "  df_feature[new_col_name] = df_feature.groupby(groupby_col)[col].transform(operation)\n",
            "C:\\Users\\jhauj\\AppData\\Local\\Temp\\ipykernel_11676\\1600580289.py:8: PerformanceWarning: DataFrame is highly fragmented.  This is usually the result of calling `frame.insert` many times, which has poor performance.  Consider joining all columns at once using pd.concat(axis=1) instead. To get a de-fragmented frame, use `newframe = frame.copy()`\n",
            "  df_feature[new_col_name] = df_feature.groupby(groupby_col)[col].transform(operation)\n",
            "C:\\Users\\jhauj\\AppData\\Local\\Temp\\ipykernel_11676\\1600580289.py:8: PerformanceWarning: DataFrame is highly fragmented.  This is usually the result of calling `frame.insert` many times, which has poor performance.  Consider joining all columns at once using pd.concat(axis=1) instead. To get a de-fragmented frame, use `newframe = frame.copy()`\n",
            "  df_feature[new_col_name] = df_feature.groupby(groupby_col)[col].transform(operation)\n",
            "C:\\Users\\jhauj\\AppData\\Local\\Temp\\ipykernel_11676\\1600580289.py:8: PerformanceWarning: DataFrame is highly fragmented.  This is usually the result of calling `frame.insert` many times, which has poor performance.  Consider joining all columns at once using pd.concat(axis=1) instead. To get a de-fragmented frame, use `newframe = frame.copy()`\n",
            "  df_feature[new_col_name] = df_feature.groupby(groupby_col)[col].transform(operation)\n",
            "C:\\Users\\jhauj\\AppData\\Local\\Temp\\ipykernel_11676\\1600580289.py:8: PerformanceWarning: DataFrame is highly fragmented.  This is usually the result of calling `frame.insert` many times, which has poor performance.  Consider joining all columns at once using pd.concat(axis=1) instead. To get a de-fragmented frame, use `newframe = frame.copy()`\n",
            "  df_feature[new_col_name] = df_feature.groupby(groupby_col)[col].transform(operation)\n",
            "C:\\Users\\jhauj\\AppData\\Local\\Temp\\ipykernel_11676\\1600580289.py:8: PerformanceWarning: DataFrame is highly fragmented.  This is usually the result of calling `frame.insert` many times, which has poor performance.  Consider joining all columns at once using pd.concat(axis=1) instead. To get a de-fragmented frame, use `newframe = frame.copy()`\n",
            "  df_feature[new_col_name] = df_feature.groupby(groupby_col)[col].transform(operation)\n",
            "C:\\Users\\jhauj\\AppData\\Local\\Temp\\ipykernel_11676\\1600580289.py:8: PerformanceWarning: DataFrame is highly fragmented.  This is usually the result of calling `frame.insert` many times, which has poor performance.  Consider joining all columns at once using pd.concat(axis=1) instead. To get a de-fragmented frame, use `newframe = frame.copy()`\n",
            "  df_feature[new_col_name] = df_feature.groupby(groupby_col)[col].transform(operation)\n",
            "C:\\Users\\jhauj\\AppData\\Local\\Temp\\ipykernel_11676\\1600580289.py:8: PerformanceWarning: DataFrame is highly fragmented.  This is usually the result of calling `frame.insert` many times, which has poor performance.  Consider joining all columns at once using pd.concat(axis=1) instead. To get a de-fragmented frame, use `newframe = frame.copy()`\n",
            "  df_feature[new_col_name] = df_feature.groupby(groupby_col)[col].transform(operation)\n",
            "C:\\Users\\jhauj\\AppData\\Local\\Temp\\ipykernel_11676\\1600580289.py:8: PerformanceWarning: DataFrame is highly fragmented.  This is usually the result of calling `frame.insert` many times, which has poor performance.  Consider joining all columns at once using pd.concat(axis=1) instead. To get a de-fragmented frame, use `newframe = frame.copy()`\n",
            "  df_feature[new_col_name] = df_feature.groupby(groupby_col)[col].transform(operation)\n",
            "C:\\Users\\jhauj\\AppData\\Local\\Temp\\ipykernel_11676\\1600580289.py:8: PerformanceWarning: DataFrame is highly fragmented.  This is usually the result of calling `frame.insert` many times, which has poor performance.  Consider joining all columns at once using pd.concat(axis=1) instead. To get a de-fragmented frame, use `newframe = frame.copy()`\n",
            "  df_feature[new_col_name] = df_feature.groupby(groupby_col)[col].transform(operation)\n",
            "C:\\Users\\jhauj\\AppData\\Local\\Temp\\ipykernel_11676\\1600580289.py:8: PerformanceWarning: DataFrame is highly fragmented.  This is usually the result of calling `frame.insert` many times, which has poor performance.  Consider joining all columns at once using pd.concat(axis=1) instead. To get a de-fragmented frame, use `newframe = frame.copy()`\n",
            "  df_feature[new_col_name] = df_feature.groupby(groupby_col)[col].transform(operation)\n",
            "C:\\Users\\jhauj\\AppData\\Local\\Temp\\ipykernel_11676\\1600580289.py:8: PerformanceWarning: DataFrame is highly fragmented.  This is usually the result of calling `frame.insert` many times, which has poor performance.  Consider joining all columns at once using pd.concat(axis=1) instead. To get a de-fragmented frame, use `newframe = frame.copy()`\n",
            "  df_feature[new_col_name] = df_feature.groupby(groupby_col)[col].transform(operation)\n",
            "C:\\Users\\jhauj\\AppData\\Local\\Temp\\ipykernel_11676\\1600580289.py:8: PerformanceWarning: DataFrame is highly fragmented.  This is usually the result of calling `frame.insert` many times, which has poor performance.  Consider joining all columns at once using pd.concat(axis=1) instead. To get a de-fragmented frame, use `newframe = frame.copy()`\n",
            "  df_feature[new_col_name] = df_feature.groupby(groupby_col)[col].transform(operation)\n",
            "C:\\Users\\jhauj\\AppData\\Local\\Temp\\ipykernel_11676\\1600580289.py:8: PerformanceWarning: DataFrame is highly fragmented.  This is usually the result of calling `frame.insert` many times, which has poor performance.  Consider joining all columns at once using pd.concat(axis=1) instead. To get a de-fragmented frame, use `newframe = frame.copy()`\n",
            "  df_feature[new_col_name] = df_feature.groupby(groupby_col)[col].transform(operation)\n",
            "C:\\Users\\jhauj\\AppData\\Local\\Temp\\ipykernel_11676\\1600580289.py:8: PerformanceWarning: DataFrame is highly fragmented.  This is usually the result of calling `frame.insert` many times, which has poor performance.  Consider joining all columns at once using pd.concat(axis=1) instead. To get a de-fragmented frame, use `newframe = frame.copy()`\n",
            "  df_feature[new_col_name] = df_feature.groupby(groupby_col)[col].transform(operation)\n",
            "C:\\Users\\jhauj\\AppData\\Local\\Temp\\ipykernel_11676\\1600580289.py:8: PerformanceWarning: DataFrame is highly fragmented.  This is usually the result of calling `frame.insert` many times, which has poor performance.  Consider joining all columns at once using pd.concat(axis=1) instead. To get a de-fragmented frame, use `newframe = frame.copy()`\n",
            "  df_feature[new_col_name] = df_feature.groupby(groupby_col)[col].transform(operation)\n",
            "C:\\Users\\jhauj\\AppData\\Local\\Temp\\ipykernel_11676\\1600580289.py:8: PerformanceWarning: DataFrame is highly fragmented.  This is usually the result of calling `frame.insert` many times, which has poor performance.  Consider joining all columns at once using pd.concat(axis=1) instead. To get a de-fragmented frame, use `newframe = frame.copy()`\n",
            "  df_feature[new_col_name] = df_feature.groupby(groupby_col)[col].transform(operation)\n",
            "C:\\Users\\jhauj\\AppData\\Local\\Temp\\ipykernel_11676\\1600580289.py:8: PerformanceWarning: DataFrame is highly fragmented.  This is usually the result of calling `frame.insert` many times, which has poor performance.  Consider joining all columns at once using pd.concat(axis=1) instead. To get a de-fragmented frame, use `newframe = frame.copy()`\n",
            "  df_feature[new_col_name] = df_feature.groupby(groupby_col)[col].transform(operation)\n",
            "C:\\Users\\jhauj\\AppData\\Local\\Temp\\ipykernel_11676\\1600580289.py:8: PerformanceWarning: DataFrame is highly fragmented.  This is usually the result of calling `frame.insert` many times, which has poor performance.  Consider joining all columns at once using pd.concat(axis=1) instead. To get a de-fragmented frame, use `newframe = frame.copy()`\n",
            "  df_feature[new_col_name] = df_feature.groupby(groupby_col)[col].transform(operation)\n",
            "C:\\Users\\jhauj\\AppData\\Local\\Temp\\ipykernel_11676\\1600580289.py:8: PerformanceWarning: DataFrame is highly fragmented.  This is usually the result of calling `frame.insert` many times, which has poor performance.  Consider joining all columns at once using pd.concat(axis=1) instead. To get a de-fragmented frame, use `newframe = frame.copy()`\n",
            "  df_feature[new_col_name] = df_feature.groupby(groupby_col)[col].transform(operation)\n",
            "C:\\Users\\jhauj\\AppData\\Local\\Temp\\ipykernel_11676\\1600580289.py:8: PerformanceWarning: DataFrame is highly fragmented.  This is usually the result of calling `frame.insert` many times, which has poor performance.  Consider joining all columns at once using pd.concat(axis=1) instead. To get a de-fragmented frame, use `newframe = frame.copy()`\n",
            "  df_feature[new_col_name] = df_feature.groupby(groupby_col)[col].transform(operation)\n",
            "C:\\Users\\jhauj\\AppData\\Local\\Temp\\ipykernel_11676\\1600580289.py:8: PerformanceWarning: DataFrame is highly fragmented.  This is usually the result of calling `frame.insert` many times, which has poor performance.  Consider joining all columns at once using pd.concat(axis=1) instead. To get a de-fragmented frame, use `newframe = frame.copy()`\n",
            "  df_feature[new_col_name] = df_feature.groupby(groupby_col)[col].transform(operation)\n",
            "C:\\Users\\jhauj\\AppData\\Local\\Temp\\ipykernel_11676\\1600580289.py:8: PerformanceWarning: DataFrame is highly fragmented.  This is usually the result of calling `frame.insert` many times, which has poor performance.  Consider joining all columns at once using pd.concat(axis=1) instead. To get a de-fragmented frame, use `newframe = frame.copy()`\n",
            "  df_feature[new_col_name] = df_feature.groupby(groupby_col)[col].transform(operation)\n",
            "C:\\Users\\jhauj\\AppData\\Local\\Temp\\ipykernel_11676\\1600580289.py:8: PerformanceWarning: DataFrame is highly fragmented.  This is usually the result of calling `frame.insert` many times, which has poor performance.  Consider joining all columns at once using pd.concat(axis=1) instead. To get a de-fragmented frame, use `newframe = frame.copy()`\n",
            "  df_feature[new_col_name] = df_feature.groupby(groupby_col)[col].transform(operation)\n",
            "C:\\Users\\jhauj\\AppData\\Local\\Temp\\ipykernel_11676\\1600580289.py:8: PerformanceWarning: DataFrame is highly fragmented.  This is usually the result of calling `frame.insert` many times, which has poor performance.  Consider joining all columns at once using pd.concat(axis=1) instead. To get a de-fragmented frame, use `newframe = frame.copy()`\n",
            "  df_feature[new_col_name] = df_feature.groupby(groupby_col)[col].transform(operation)\n",
            "C:\\Users\\jhauj\\AppData\\Local\\Temp\\ipykernel_11676\\1600580289.py:8: PerformanceWarning: DataFrame is highly fragmented.  This is usually the result of calling `frame.insert` many times, which has poor performance.  Consider joining all columns at once using pd.concat(axis=1) instead. To get a de-fragmented frame, use `newframe = frame.copy()`\n",
            "  df_feature[new_col_name] = df_feature.groupby(groupby_col)[col].transform(operation)\n",
            "C:\\Users\\jhauj\\AppData\\Local\\Temp\\ipykernel_11676\\1600580289.py:8: PerformanceWarning: DataFrame is highly fragmented.  This is usually the result of calling `frame.insert` many times, which has poor performance.  Consider joining all columns at once using pd.concat(axis=1) instead. To get a de-fragmented frame, use `newframe = frame.copy()`\n",
            "  df_feature[new_col_name] = df_feature.groupby(groupby_col)[col].transform(operation)\n",
            "C:\\Users\\jhauj\\AppData\\Local\\Temp\\ipykernel_11676\\1600580289.py:8: PerformanceWarning: DataFrame is highly fragmented.  This is usually the result of calling `frame.insert` many times, which has poor performance.  Consider joining all columns at once using pd.concat(axis=1) instead. To get a de-fragmented frame, use `newframe = frame.copy()`\n",
            "  df_feature[new_col_name] = df_feature.groupby(groupby_col)[col].transform(operation)\n",
            "C:\\Users\\jhauj\\AppData\\Local\\Temp\\ipykernel_11676\\1600580289.py:8: PerformanceWarning: DataFrame is highly fragmented.  This is usually the result of calling `frame.insert` many times, which has poor performance.  Consider joining all columns at once using pd.concat(axis=1) instead. To get a de-fragmented frame, use `newframe = frame.copy()`\n",
            "  df_feature[new_col_name] = df_feature.groupby(groupby_col)[col].transform(operation)\n",
            "C:\\Users\\jhauj\\AppData\\Local\\Temp\\ipykernel_11676\\1600580289.py:8: PerformanceWarning: DataFrame is highly fragmented.  This is usually the result of calling `frame.insert` many times, which has poor performance.  Consider joining all columns at once using pd.concat(axis=1) instead. To get a de-fragmented frame, use `newframe = frame.copy()`\n",
            "  df_feature[new_col_name] = df_feature.groupby(groupby_col)[col].transform(operation)\n",
            "C:\\Users\\jhauj\\AppData\\Local\\Temp\\ipykernel_11676\\1600580289.py:8: PerformanceWarning: DataFrame is highly fragmented.  This is usually the result of calling `frame.insert` many times, which has poor performance.  Consider joining all columns at once using pd.concat(axis=1) instead. To get a de-fragmented frame, use `newframe = frame.copy()`\n",
            "  df_feature[new_col_name] = df_feature.groupby(groupby_col)[col].transform(operation)\n",
            "C:\\Users\\jhauj\\AppData\\Local\\Temp\\ipykernel_11676\\1600580289.py:8: PerformanceWarning: DataFrame is highly fragmented.  This is usually the result of calling `frame.insert` many times, which has poor performance.  Consider joining all columns at once using pd.concat(axis=1) instead. To get a de-fragmented frame, use `newframe = frame.copy()`\n",
            "  df_feature[new_col_name] = df_feature.groupby(groupby_col)[col].transform(operation)\n",
            "C:\\Users\\jhauj\\AppData\\Local\\Temp\\ipykernel_11676\\1600580289.py:8: PerformanceWarning: DataFrame is highly fragmented.  This is usually the result of calling `frame.insert` many times, which has poor performance.  Consider joining all columns at once using pd.concat(axis=1) instead. To get a de-fragmented frame, use `newframe = frame.copy()`\n",
            "  df_feature[new_col_name] = df_feature.groupby(groupby_col)[col].transform(operation)\n",
            "C:\\Users\\jhauj\\AppData\\Local\\Temp\\ipykernel_11676\\1600580289.py:8: PerformanceWarning: DataFrame is highly fragmented.  This is usually the result of calling `frame.insert` many times, which has poor performance.  Consider joining all columns at once using pd.concat(axis=1) instead. To get a de-fragmented frame, use `newframe = frame.copy()`\n",
            "  df_feature[new_col_name] = df_feature.groupby(groupby_col)[col].transform(operation)\n",
            "C:\\Users\\jhauj\\AppData\\Local\\Temp\\ipykernel_11676\\1600580289.py:8: PerformanceWarning: DataFrame is highly fragmented.  This is usually the result of calling `frame.insert` many times, which has poor performance.  Consider joining all columns at once using pd.concat(axis=1) instead. To get a de-fragmented frame, use `newframe = frame.copy()`\n",
            "  df_feature[new_col_name] = df_feature.groupby(groupby_col)[col].transform(operation)\n",
            "C:\\Users\\jhauj\\AppData\\Local\\Temp\\ipykernel_11676\\1600580289.py:8: PerformanceWarning: DataFrame is highly fragmented.  This is usually the result of calling `frame.insert` many times, which has poor performance.  Consider joining all columns at once using pd.concat(axis=1) instead. To get a de-fragmented frame, use `newframe = frame.copy()`\n",
            "  df_feature[new_col_name] = df_feature.groupby(groupby_col)[col].transform(operation)\n",
            "C:\\Users\\jhauj\\AppData\\Local\\Temp\\ipykernel_11676\\1600580289.py:8: PerformanceWarning: DataFrame is highly fragmented.  This is usually the result of calling `frame.insert` many times, which has poor performance.  Consider joining all columns at once using pd.concat(axis=1) instead. To get a de-fragmented frame, use `newframe = frame.copy()`\n",
            "  df_feature[new_col_name] = df_feature.groupby(groupby_col)[col].transform(operation)\n",
            "C:\\Users\\jhauj\\AppData\\Local\\Temp\\ipykernel_11676\\1600580289.py:8: PerformanceWarning: DataFrame is highly fragmented.  This is usually the result of calling `frame.insert` many times, which has poor performance.  Consider joining all columns at once using pd.concat(axis=1) instead. To get a de-fragmented frame, use `newframe = frame.copy()`\n",
            "  df_feature[new_col_name] = df_feature.groupby(groupby_col)[col].transform(operation)\n",
            "C:\\Users\\jhauj\\AppData\\Local\\Temp\\ipykernel_11676\\1600580289.py:8: PerformanceWarning: DataFrame is highly fragmented.  This is usually the result of calling `frame.insert` many times, which has poor performance.  Consider joining all columns at once using pd.concat(axis=1) instead. To get a de-fragmented frame, use `newframe = frame.copy()`\n",
            "  df_feature[new_col_name] = df_feature.groupby(groupby_col)[col].transform(operation)\n",
            "C:\\Users\\jhauj\\AppData\\Local\\Temp\\ipykernel_11676\\1600580289.py:8: PerformanceWarning: DataFrame is highly fragmented.  This is usually the result of calling `frame.insert` many times, which has poor performance.  Consider joining all columns at once using pd.concat(axis=1) instead. To get a de-fragmented frame, use `newframe = frame.copy()`\n",
            "  df_feature[new_col_name] = df_feature.groupby(groupby_col)[col].transform(operation)\n",
            "C:\\Users\\jhauj\\AppData\\Local\\Temp\\ipykernel_11676\\1600580289.py:8: PerformanceWarning: DataFrame is highly fragmented.  This is usually the result of calling `frame.insert` many times, which has poor performance.  Consider joining all columns at once using pd.concat(axis=1) instead. To get a de-fragmented frame, use `newframe = frame.copy()`\n",
            "  df_feature[new_col_name] = df_feature.groupby(groupby_col)[col].transform(operation)\n",
            "C:\\Users\\jhauj\\AppData\\Local\\Temp\\ipykernel_11676\\1600580289.py:8: PerformanceWarning: DataFrame is highly fragmented.  This is usually the result of calling `frame.insert` many times, which has poor performance.  Consider joining all columns at once using pd.concat(axis=1) instead. To get a de-fragmented frame, use `newframe = frame.copy()`\n",
            "  df_feature[new_col_name] = df_feature.groupby(groupby_col)[col].transform(operation)\n",
            "C:\\Users\\jhauj\\AppData\\Local\\Temp\\ipykernel_11676\\1600580289.py:8: PerformanceWarning: DataFrame is highly fragmented.  This is usually the result of calling `frame.insert` many times, which has poor performance.  Consider joining all columns at once using pd.concat(axis=1) instead. To get a de-fragmented frame, use `newframe = frame.copy()`\n",
            "  df_feature[new_col_name] = df_feature.groupby(groupby_col)[col].transform(operation)\n",
            "C:\\Users\\jhauj\\AppData\\Local\\Temp\\ipykernel_11676\\1600580289.py:8: PerformanceWarning: DataFrame is highly fragmented.  This is usually the result of calling `frame.insert` many times, which has poor performance.  Consider joining all columns at once using pd.concat(axis=1) instead. To get a de-fragmented frame, use `newframe = frame.copy()`\n",
            "  df_feature[new_col_name] = df_feature.groupby(groupby_col)[col].transform(operation)\n",
            "C:\\Users\\jhauj\\AppData\\Local\\Temp\\ipykernel_11676\\1600580289.py:8: PerformanceWarning: DataFrame is highly fragmented.  This is usually the result of calling `frame.insert` many times, which has poor performance.  Consider joining all columns at once using pd.concat(axis=1) instead. To get a de-fragmented frame, use `newframe = frame.copy()`\n",
            "  df_feature[new_col_name] = df_feature.groupby(groupby_col)[col].transform(operation)\n",
            "C:\\Users\\jhauj\\AppData\\Local\\Temp\\ipykernel_11676\\1600580289.py:8: PerformanceWarning: DataFrame is highly fragmented.  This is usually the result of calling `frame.insert` many times, which has poor performance.  Consider joining all columns at once using pd.concat(axis=1) instead. To get a de-fragmented frame, use `newframe = frame.copy()`\n",
            "  df_feature[new_col_name] = df_feature.groupby(groupby_col)[col].transform(operation)\n",
            "C:\\Users\\jhauj\\AppData\\Local\\Temp\\ipykernel_11676\\1600580289.py:8: PerformanceWarning: DataFrame is highly fragmented.  This is usually the result of calling `frame.insert` many times, which has poor performance.  Consider joining all columns at once using pd.concat(axis=1) instead. To get a de-fragmented frame, use `newframe = frame.copy()`\n",
            "  df_feature[new_col_name] = df_feature.groupby(groupby_col)[col].transform(operation)\n",
            "C:\\Users\\jhauj\\AppData\\Local\\Temp\\ipykernel_11676\\1600580289.py:8: PerformanceWarning: DataFrame is highly fragmented.  This is usually the result of calling `frame.insert` many times, which has poor performance.  Consider joining all columns at once using pd.concat(axis=1) instead. To get a de-fragmented frame, use `newframe = frame.copy()`\n",
            "  df_feature[new_col_name] = df_feature.groupby(groupby_col)[col].transform(operation)\n",
            "C:\\Users\\jhauj\\AppData\\Local\\Temp\\ipykernel_11676\\1600580289.py:8: PerformanceWarning: DataFrame is highly fragmented.  This is usually the result of calling `frame.insert` many times, which has poor performance.  Consider joining all columns at once using pd.concat(axis=1) instead. To get a de-fragmented frame, use `newframe = frame.copy()`\n",
            "  df_feature[new_col_name] = df_feature.groupby(groupby_col)[col].transform(operation)\n",
            "C:\\Users\\jhauj\\AppData\\Local\\Temp\\ipykernel_11676\\1600580289.py:8: PerformanceWarning: DataFrame is highly fragmented.  This is usually the result of calling `frame.insert` many times, which has poor performance.  Consider joining all columns at once using pd.concat(axis=1) instead. To get a de-fragmented frame, use `newframe = frame.copy()`\n",
            "  df_feature[new_col_name] = df_feature.groupby(groupby_col)[col].transform(operation)\n",
            "C:\\Users\\jhauj\\AppData\\Local\\Temp\\ipykernel_11676\\1600580289.py:8: PerformanceWarning: DataFrame is highly fragmented.  This is usually the result of calling `frame.insert` many times, which has poor performance.  Consider joining all columns at once using pd.concat(axis=1) instead. To get a de-fragmented frame, use `newframe = frame.copy()`\n",
            "  df_feature[new_col_name] = df_feature.groupby(groupby_col)[col].transform(operation)\n",
            "C:\\Users\\jhauj\\AppData\\Local\\Temp\\ipykernel_11676\\1600580289.py:8: PerformanceWarning: DataFrame is highly fragmented.  This is usually the result of calling `frame.insert` many times, which has poor performance.  Consider joining all columns at once using pd.concat(axis=1) instead. To get a de-fragmented frame, use `newframe = frame.copy()`\n",
            "  df_feature[new_col_name] = df_feature.groupby(groupby_col)[col].transform(operation)\n",
            "C:\\Users\\jhauj\\AppData\\Local\\Temp\\ipykernel_11676\\1600580289.py:8: PerformanceWarning: DataFrame is highly fragmented.  This is usually the result of calling `frame.insert` many times, which has poor performance.  Consider joining all columns at once using pd.concat(axis=1) instead. To get a de-fragmented frame, use `newframe = frame.copy()`\n",
            "  df_feature[new_col_name] = df_feature.groupby(groupby_col)[col].transform(operation)\n",
            "C:\\Users\\jhauj\\AppData\\Local\\Temp\\ipykernel_11676\\1600580289.py:8: PerformanceWarning: DataFrame is highly fragmented.  This is usually the result of calling `frame.insert` many times, which has poor performance.  Consider joining all columns at once using pd.concat(axis=1) instead. To get a de-fragmented frame, use `newframe = frame.copy()`\n",
            "  df_feature[new_col_name] = df_feature.groupby(groupby_col)[col].transform(operation)\n",
            "C:\\Users\\jhauj\\AppData\\Local\\Temp\\ipykernel_11676\\1600580289.py:8: PerformanceWarning: DataFrame is highly fragmented.  This is usually the result of calling `frame.insert` many times, which has poor performance.  Consider joining all columns at once using pd.concat(axis=1) instead. To get a de-fragmented frame, use `newframe = frame.copy()`\n",
            "  df_feature[new_col_name] = df_feature.groupby(groupby_col)[col].transform(operation)\n",
            "C:\\Users\\jhauj\\AppData\\Local\\Temp\\ipykernel_11676\\1600580289.py:8: PerformanceWarning: DataFrame is highly fragmented.  This is usually the result of calling `frame.insert` many times, which has poor performance.  Consider joining all columns at once using pd.concat(axis=1) instead. To get a de-fragmented frame, use `newframe = frame.copy()`\n",
            "  df_feature[new_col_name] = df_feature.groupby(groupby_col)[col].transform(operation)\n",
            "C:\\Users\\jhauj\\AppData\\Local\\Temp\\ipykernel_11676\\1600580289.py:8: PerformanceWarning: DataFrame is highly fragmented.  This is usually the result of calling `frame.insert` many times, which has poor performance.  Consider joining all columns at once using pd.concat(axis=1) instead. To get a de-fragmented frame, use `newframe = frame.copy()`\n",
            "  df_feature[new_col_name] = df_feature.groupby(groupby_col)[col].transform(operation)\n",
            "C:\\Users\\jhauj\\AppData\\Local\\Temp\\ipykernel_11676\\1600580289.py:8: PerformanceWarning: DataFrame is highly fragmented.  This is usually the result of calling `frame.insert` many times, which has poor performance.  Consider joining all columns at once using pd.concat(axis=1) instead. To get a de-fragmented frame, use `newframe = frame.copy()`\n",
            "  df_feature[new_col_name] = df_feature.groupby(groupby_col)[col].transform(operation)\n",
            "C:\\Users\\jhauj\\AppData\\Local\\Temp\\ipykernel_11676\\1600580289.py:8: PerformanceWarning: DataFrame is highly fragmented.  This is usually the result of calling `frame.insert` many times, which has poor performance.  Consider joining all columns at once using pd.concat(axis=1) instead. To get a de-fragmented frame, use `newframe = frame.copy()`\n",
            "  df_feature[new_col_name] = df_feature.groupby(groupby_col)[col].transform(operation)\n",
            "C:\\Users\\jhauj\\AppData\\Local\\Temp\\ipykernel_11676\\1600580289.py:8: PerformanceWarning: DataFrame is highly fragmented.  This is usually the result of calling `frame.insert` many times, which has poor performance.  Consider joining all columns at once using pd.concat(axis=1) instead. To get a de-fragmented frame, use `newframe = frame.copy()`\n",
            "  df_feature[new_col_name] = df_feature.groupby(groupby_col)[col].transform(operation)\n",
            "C:\\Users\\jhauj\\AppData\\Local\\Temp\\ipykernel_11676\\1600580289.py:8: PerformanceWarning: DataFrame is highly fragmented.  This is usually the result of calling `frame.insert` many times, which has poor performance.  Consider joining all columns at once using pd.concat(axis=1) instead. To get a de-fragmented frame, use `newframe = frame.copy()`\n",
            "  df_feature[new_col_name] = df_feature.groupby(groupby_col)[col].transform(operation)\n",
            "C:\\Users\\jhauj\\AppData\\Local\\Temp\\ipykernel_11676\\1600580289.py:8: PerformanceWarning: DataFrame is highly fragmented.  This is usually the result of calling `frame.insert` many times, which has poor performance.  Consider joining all columns at once using pd.concat(axis=1) instead. To get a de-fragmented frame, use `newframe = frame.copy()`\n",
            "  df_feature[new_col_name] = df_feature.groupby(groupby_col)[col].transform(operation)\n",
            "C:\\Users\\jhauj\\AppData\\Local\\Temp\\ipykernel_11676\\1600580289.py:8: PerformanceWarning: DataFrame is highly fragmented.  This is usually the result of calling `frame.insert` many times, which has poor performance.  Consider joining all columns at once using pd.concat(axis=1) instead. To get a de-fragmented frame, use `newframe = frame.copy()`\n",
            "  df_feature[new_col_name] = df_feature.groupby(groupby_col)[col].transform(operation)\n",
            "C:\\Users\\jhauj\\AppData\\Local\\Temp\\ipykernel_11676\\1600580289.py:8: PerformanceWarning: DataFrame is highly fragmented.  This is usually the result of calling `frame.insert` many times, which has poor performance.  Consider joining all columns at once using pd.concat(axis=1) instead. To get a de-fragmented frame, use `newframe = frame.copy()`\n",
            "  df_feature[new_col_name] = df_feature.groupby(groupby_col)[col].transform(operation)\n",
            "C:\\Users\\jhauj\\AppData\\Local\\Temp\\ipykernel_11676\\1600580289.py:8: PerformanceWarning: DataFrame is highly fragmented.  This is usually the result of calling `frame.insert` many times, which has poor performance.  Consider joining all columns at once using pd.concat(axis=1) instead. To get a de-fragmented frame, use `newframe = frame.copy()`\n",
            "  df_feature[new_col_name] = df_feature.groupby(groupby_col)[col].transform(operation)\n",
            "C:\\Users\\jhauj\\AppData\\Local\\Temp\\ipykernel_11676\\1600580289.py:8: PerformanceWarning: DataFrame is highly fragmented.  This is usually the result of calling `frame.insert` many times, which has poor performance.  Consider joining all columns at once using pd.concat(axis=1) instead. To get a de-fragmented frame, use `newframe = frame.copy()`\n",
            "  df_feature[new_col_name] = df_feature.groupby(groupby_col)[col].transform(operation)\n",
            "C:\\Users\\jhauj\\AppData\\Local\\Temp\\ipykernel_11676\\1600580289.py:8: PerformanceWarning: DataFrame is highly fragmented.  This is usually the result of calling `frame.insert` many times, which has poor performance.  Consider joining all columns at once using pd.concat(axis=1) instead. To get a de-fragmented frame, use `newframe = frame.copy()`\n",
            "  df_feature[new_col_name] = df_feature.groupby(groupby_col)[col].transform(operation)\n",
            "C:\\Users\\jhauj\\AppData\\Local\\Temp\\ipykernel_11676\\1600580289.py:8: PerformanceWarning: DataFrame is highly fragmented.  This is usually the result of calling `frame.insert` many times, which has poor performance.  Consider joining all columns at once using pd.concat(axis=1) instead. To get a de-fragmented frame, use `newframe = frame.copy()`\n",
            "  df_feature[new_col_name] = df_feature.groupby(groupby_col)[col].transform(operation)\n",
            "C:\\Users\\jhauj\\AppData\\Local\\Temp\\ipykernel_11676\\1600580289.py:8: PerformanceWarning: DataFrame is highly fragmented.  This is usually the result of calling `frame.insert` many times, which has poor performance.  Consider joining all columns at once using pd.concat(axis=1) instead. To get a de-fragmented frame, use `newframe = frame.copy()`\n",
            "  df_feature[new_col_name] = df_feature.groupby(groupby_col)[col].transform(operation)\n",
            "C:\\Users\\jhauj\\AppData\\Local\\Temp\\ipykernel_11676\\1600580289.py:8: PerformanceWarning: DataFrame is highly fragmented.  This is usually the result of calling `frame.insert` many times, which has poor performance.  Consider joining all columns at once using pd.concat(axis=1) instead. To get a de-fragmented frame, use `newframe = frame.copy()`\n",
            "  df_feature[new_col_name] = df_feature.groupby(groupby_col)[col].transform(operation)\n",
            "C:\\Users\\jhauj\\AppData\\Local\\Temp\\ipykernel_11676\\1600580289.py:8: PerformanceWarning: DataFrame is highly fragmented.  This is usually the result of calling `frame.insert` many times, which has poor performance.  Consider joining all columns at once using pd.concat(axis=1) instead. To get a de-fragmented frame, use `newframe = frame.copy()`\n",
            "  df_feature[new_col_name] = df_feature.groupby(groupby_col)[col].transform(operation)\n",
            "C:\\Users\\jhauj\\AppData\\Local\\Temp\\ipykernel_11676\\1600580289.py:8: PerformanceWarning: DataFrame is highly fragmented.  This is usually the result of calling `frame.insert` many times, which has poor performance.  Consider joining all columns at once using pd.concat(axis=1) instead. To get a de-fragmented frame, use `newframe = frame.copy()`\n",
            "  df_feature[new_col_name] = df_feature.groupby(groupby_col)[col].transform(operation)\n",
            "C:\\Users\\jhauj\\AppData\\Local\\Temp\\ipykernel_11676\\1600580289.py:8: PerformanceWarning: DataFrame is highly fragmented.  This is usually the result of calling `frame.insert` many times, which has poor performance.  Consider joining all columns at once using pd.concat(axis=1) instead. To get a de-fragmented frame, use `newframe = frame.copy()`\n",
            "  df_feature[new_col_name] = df_feature.groupby(groupby_col)[col].transform(operation)\n",
            "C:\\Users\\jhauj\\AppData\\Local\\Temp\\ipykernel_11676\\1600580289.py:8: PerformanceWarning: DataFrame is highly fragmented.  This is usually the result of calling `frame.insert` many times, which has poor performance.  Consider joining all columns at once using pd.concat(axis=1) instead. To get a de-fragmented frame, use `newframe = frame.copy()`\n",
            "  df_feature[new_col_name] = df_feature.groupby(groupby_col)[col].transform(operation)\n",
            "C:\\Users\\jhauj\\AppData\\Local\\Temp\\ipykernel_11676\\1600580289.py:8: PerformanceWarning: DataFrame is highly fragmented.  This is usually the result of calling `frame.insert` many times, which has poor performance.  Consider joining all columns at once using pd.concat(axis=1) instead. To get a de-fragmented frame, use `newframe = frame.copy()`\n",
            "  df_feature[new_col_name] = df_feature.groupby(groupby_col)[col].transform(operation)\n",
            "C:\\Users\\jhauj\\AppData\\Local\\Temp\\ipykernel_11676\\1600580289.py:8: PerformanceWarning: DataFrame is highly fragmented.  This is usually the result of calling `frame.insert` many times, which has poor performance.  Consider joining all columns at once using pd.concat(axis=1) instead. To get a de-fragmented frame, use `newframe = frame.copy()`\n",
            "  df_feature[new_col_name] = df_feature.groupby(groupby_col)[col].transform(operation)\n",
            "C:\\Users\\jhauj\\AppData\\Local\\Temp\\ipykernel_11676\\1600580289.py:8: PerformanceWarning: DataFrame is highly fragmented.  This is usually the result of calling `frame.insert` many times, which has poor performance.  Consider joining all columns at once using pd.concat(axis=1) instead. To get a de-fragmented frame, use `newframe = frame.copy()`\n",
            "  df_feature[new_col_name] = df_feature.groupby(groupby_col)[col].transform(operation)\n",
            "C:\\Users\\jhauj\\AppData\\Local\\Temp\\ipykernel_11676\\1600580289.py:8: PerformanceWarning: DataFrame is highly fragmented.  This is usually the result of calling `frame.insert` many times, which has poor performance.  Consider joining all columns at once using pd.concat(axis=1) instead. To get a de-fragmented frame, use `newframe = frame.copy()`\n",
            "  df_feature[new_col_name] = df_feature.groupby(groupby_col)[col].transform(operation)\n",
            "C:\\Users\\jhauj\\AppData\\Local\\Temp\\ipykernel_11676\\1600580289.py:8: PerformanceWarning: DataFrame is highly fragmented.  This is usually the result of calling `frame.insert` many times, which has poor performance.  Consider joining all columns at once using pd.concat(axis=1) instead. To get a de-fragmented frame, use `newframe = frame.copy()`\n",
            "  df_feature[new_col_name] = df_feature.groupby(groupby_col)[col].transform(operation)\n",
            "C:\\Users\\jhauj\\AppData\\Local\\Temp\\ipykernel_11676\\1600580289.py:8: PerformanceWarning: DataFrame is highly fragmented.  This is usually the result of calling `frame.insert` many times, which has poor performance.  Consider joining all columns at once using pd.concat(axis=1) instead. To get a de-fragmented frame, use `newframe = frame.copy()`\n",
            "  df_feature[new_col_name] = df_feature.groupby(groupby_col)[col].transform(operation)\n",
            "C:\\Users\\jhauj\\AppData\\Local\\Temp\\ipykernel_11676\\1600580289.py:8: PerformanceWarning: DataFrame is highly fragmented.  This is usually the result of calling `frame.insert` many times, which has poor performance.  Consider joining all columns at once using pd.concat(axis=1) instead. To get a de-fragmented frame, use `newframe = frame.copy()`\n",
            "  df_feature[new_col_name] = df_feature.groupby(groupby_col)[col].transform(operation)\n",
            "C:\\Users\\jhauj\\AppData\\Local\\Temp\\ipykernel_11676\\1600580289.py:8: PerformanceWarning: DataFrame is highly fragmented.  This is usually the result of calling `frame.insert` many times, which has poor performance.  Consider joining all columns at once using pd.concat(axis=1) instead. To get a de-fragmented frame, use `newframe = frame.copy()`\n",
            "  df_feature[new_col_name] = df_feature.groupby(groupby_col)[col].transform(operation)\n",
            "C:\\Users\\jhauj\\AppData\\Local\\Temp\\ipykernel_11676\\1600580289.py:8: PerformanceWarning: DataFrame is highly fragmented.  This is usually the result of calling `frame.insert` many times, which has poor performance.  Consider joining all columns at once using pd.concat(axis=1) instead. To get a de-fragmented frame, use `newframe = frame.copy()`\n",
            "  df_feature[new_col_name] = df_feature.groupby(groupby_col)[col].transform(operation)\n",
            "C:\\Users\\jhauj\\AppData\\Local\\Temp\\ipykernel_11676\\1600580289.py:8: PerformanceWarning: DataFrame is highly fragmented.  This is usually the result of calling `frame.insert` many times, which has poor performance.  Consider joining all columns at once using pd.concat(axis=1) instead. To get a de-fragmented frame, use `newframe = frame.copy()`\n",
            "  df_feature[new_col_name] = df_feature.groupby(groupby_col)[col].transform(operation)\n",
            "C:\\Users\\jhauj\\AppData\\Local\\Temp\\ipykernel_11676\\1600580289.py:8: PerformanceWarning: DataFrame is highly fragmented.  This is usually the result of calling `frame.insert` many times, which has poor performance.  Consider joining all columns at once using pd.concat(axis=1) instead. To get a de-fragmented frame, use `newframe = frame.copy()`\n",
            "  df_feature[new_col_name] = df_feature.groupby(groupby_col)[col].transform(operation)\n",
            "C:\\Users\\jhauj\\AppData\\Local\\Temp\\ipykernel_11676\\1600580289.py:8: PerformanceWarning: DataFrame is highly fragmented.  This is usually the result of calling `frame.insert` many times, which has poor performance.  Consider joining all columns at once using pd.concat(axis=1) instead. To get a de-fragmented frame, use `newframe = frame.copy()`\n",
            "  df_feature[new_col_name] = df_feature.groupby(groupby_col)[col].transform(operation)\n",
            "C:\\Users\\jhauj\\AppData\\Local\\Temp\\ipykernel_11676\\1600580289.py:8: PerformanceWarning: DataFrame is highly fragmented.  This is usually the result of calling `frame.insert` many times, which has poor performance.  Consider joining all columns at once using pd.concat(axis=1) instead. To get a de-fragmented frame, use `newframe = frame.copy()`\n",
            "  df_feature[new_col_name] = df_feature.groupby(groupby_col)[col].transform(operation)\n",
            "C:\\Users\\jhauj\\AppData\\Local\\Temp\\ipykernel_11676\\1600580289.py:8: PerformanceWarning: DataFrame is highly fragmented.  This is usually the result of calling `frame.insert` many times, which has poor performance.  Consider joining all columns at once using pd.concat(axis=1) instead. To get a de-fragmented frame, use `newframe = frame.copy()`\n",
            "  df_feature[new_col_name] = df_feature.groupby(groupby_col)[col].transform(operation)\n",
            "C:\\Users\\jhauj\\AppData\\Local\\Temp\\ipykernel_11676\\1600580289.py:8: PerformanceWarning: DataFrame is highly fragmented.  This is usually the result of calling `frame.insert` many times, which has poor performance.  Consider joining all columns at once using pd.concat(axis=1) instead. To get a de-fragmented frame, use `newframe = frame.copy()`\n",
            "  df_feature[new_col_name] = df_feature.groupby(groupby_col)[col].transform(operation)\n",
            "C:\\Users\\jhauj\\AppData\\Local\\Temp\\ipykernel_11676\\1600580289.py:8: PerformanceWarning: DataFrame is highly fragmented.  This is usually the result of calling `frame.insert` many times, which has poor performance.  Consider joining all columns at once using pd.concat(axis=1) instead. To get a de-fragmented frame, use `newframe = frame.copy()`\n",
            "  df_feature[new_col_name] = df_feature.groupby(groupby_col)[col].transform(operation)\n",
            "C:\\Users\\jhauj\\AppData\\Local\\Temp\\ipykernel_11676\\1600580289.py:8: PerformanceWarning: DataFrame is highly fragmented.  This is usually the result of calling `frame.insert` many times, which has poor performance.  Consider joining all columns at once using pd.concat(axis=1) instead. To get a de-fragmented frame, use `newframe = frame.copy()`\n",
            "  df_feature[new_col_name] = df_feature.groupby(groupby_col)[col].transform(operation)\n",
            "C:\\Users\\jhauj\\AppData\\Local\\Temp\\ipykernel_11676\\1600580289.py:8: PerformanceWarning: DataFrame is highly fragmented.  This is usually the result of calling `frame.insert` many times, which has poor performance.  Consider joining all columns at once using pd.concat(axis=1) instead. To get a de-fragmented frame, use `newframe = frame.copy()`\n",
            "  df_feature[new_col_name] = df_feature.groupby(groupby_col)[col].transform(operation)\n",
            "C:\\Users\\jhauj\\AppData\\Local\\Temp\\ipykernel_11676\\1600580289.py:8: PerformanceWarning: DataFrame is highly fragmented.  This is usually the result of calling `frame.insert` many times, which has poor performance.  Consider joining all columns at once using pd.concat(axis=1) instead. To get a de-fragmented frame, use `newframe = frame.copy()`\n",
            "  df_feature[new_col_name] = df_feature.groupby(groupby_col)[col].transform(operation)\n",
            "C:\\Users\\jhauj\\AppData\\Local\\Temp\\ipykernel_11676\\1600580289.py:8: PerformanceWarning: DataFrame is highly fragmented.  This is usually the result of calling `frame.insert` many times, which has poor performance.  Consider joining all columns at once using pd.concat(axis=1) instead. To get a de-fragmented frame, use `newframe = frame.copy()`\n",
            "  df_feature[new_col_name] = df_feature.groupby(groupby_col)[col].transform(operation)\n",
            "C:\\Users\\jhauj\\AppData\\Local\\Temp\\ipykernel_11676\\1600580289.py:8: PerformanceWarning: DataFrame is highly fragmented.  This is usually the result of calling `frame.insert` many times, which has poor performance.  Consider joining all columns at once using pd.concat(axis=1) instead. To get a de-fragmented frame, use `newframe = frame.copy()`\n",
            "  df_feature[new_col_name] = df_feature.groupby(groupby_col)[col].transform(operation)\n",
            "C:\\Users\\jhauj\\AppData\\Local\\Temp\\ipykernel_11676\\1600580289.py:8: PerformanceWarning: DataFrame is highly fragmented.  This is usually the result of calling `frame.insert` many times, which has poor performance.  Consider joining all columns at once using pd.concat(axis=1) instead. To get a de-fragmented frame, use `newframe = frame.copy()`\n",
            "  df_feature[new_col_name] = df_feature.groupby(groupby_col)[col].transform(operation)\n",
            "C:\\Users\\jhauj\\AppData\\Local\\Temp\\ipykernel_11676\\1600580289.py:8: PerformanceWarning: DataFrame is highly fragmented.  This is usually the result of calling `frame.insert` many times, which has poor performance.  Consider joining all columns at once using pd.concat(axis=1) instead. To get a de-fragmented frame, use `newframe = frame.copy()`\n",
            "  df_feature[new_col_name] = df_feature.groupby(groupby_col)[col].transform(operation)\n",
            "C:\\Users\\jhauj\\AppData\\Local\\Temp\\ipykernel_11676\\1600580289.py:8: PerformanceWarning: DataFrame is highly fragmented.  This is usually the result of calling `frame.insert` many times, which has poor performance.  Consider joining all columns at once using pd.concat(axis=1) instead. To get a de-fragmented frame, use `newframe = frame.copy()`\n",
            "  df_feature[new_col_name] = df_feature.groupby(groupby_col)[col].transform(operation)\n",
            "C:\\Users\\jhauj\\AppData\\Local\\Temp\\ipykernel_11676\\1600580289.py:8: PerformanceWarning: DataFrame is highly fragmented.  This is usually the result of calling `frame.insert` many times, which has poor performance.  Consider joining all columns at once using pd.concat(axis=1) instead. To get a de-fragmented frame, use `newframe = frame.copy()`\n",
            "  df_feature[new_col_name] = df_feature.groupby(groupby_col)[col].transform(operation)\n",
            "C:\\Users\\jhauj\\AppData\\Local\\Temp\\ipykernel_11676\\1600580289.py:8: PerformanceWarning: DataFrame is highly fragmented.  This is usually the result of calling `frame.insert` many times, which has poor performance.  Consider joining all columns at once using pd.concat(axis=1) instead. To get a de-fragmented frame, use `newframe = frame.copy()`\n",
            "  df_feature[new_col_name] = df_feature.groupby(groupby_col)[col].transform(operation)\n",
            "C:\\Users\\jhauj\\AppData\\Local\\Temp\\ipykernel_11676\\1600580289.py:8: PerformanceWarning: DataFrame is highly fragmented.  This is usually the result of calling `frame.insert` many times, which has poor performance.  Consider joining all columns at once using pd.concat(axis=1) instead. To get a de-fragmented frame, use `newframe = frame.copy()`\n",
            "  df_feature[new_col_name] = df_feature.groupby(groupby_col)[col].transform(operation)\n",
            "C:\\Users\\jhauj\\AppData\\Local\\Temp\\ipykernel_11676\\1600580289.py:8: PerformanceWarning: DataFrame is highly fragmented.  This is usually the result of calling `frame.insert` many times, which has poor performance.  Consider joining all columns at once using pd.concat(axis=1) instead. To get a de-fragmented frame, use `newframe = frame.copy()`\n",
            "  df_feature[new_col_name] = df_feature.groupby(groupby_col)[col].transform(operation)\n",
            "C:\\Users\\jhauj\\AppData\\Local\\Temp\\ipykernel_11676\\1600580289.py:8: PerformanceWarning: DataFrame is highly fragmented.  This is usually the result of calling `frame.insert` many times, which has poor performance.  Consider joining all columns at once using pd.concat(axis=1) instead. To get a de-fragmented frame, use `newframe = frame.copy()`\n",
            "  df_feature[new_col_name] = df_feature.groupby(groupby_col)[col].transform(operation)\n",
            "C:\\Users\\jhauj\\AppData\\Local\\Temp\\ipykernel_11676\\1600580289.py:8: PerformanceWarning: DataFrame is highly fragmented.  This is usually the result of calling `frame.insert` many times, which has poor performance.  Consider joining all columns at once using pd.concat(axis=1) instead. To get a de-fragmented frame, use `newframe = frame.copy()`\n",
            "  df_feature[new_col_name] = df_feature.groupby(groupby_col)[col].transform(operation)\n",
            "C:\\Users\\jhauj\\AppData\\Local\\Temp\\ipykernel_11676\\1600580289.py:8: PerformanceWarning: DataFrame is highly fragmented.  This is usually the result of calling `frame.insert` many times, which has poor performance.  Consider joining all columns at once using pd.concat(axis=1) instead. To get a de-fragmented frame, use `newframe = frame.copy()`\n",
            "  df_feature[new_col_name] = df_feature.groupby(groupby_col)[col].transform(operation)\n",
            "C:\\Users\\jhauj\\AppData\\Local\\Temp\\ipykernel_11676\\1600580289.py:8: PerformanceWarning: DataFrame is highly fragmented.  This is usually the result of calling `frame.insert` many times, which has poor performance.  Consider joining all columns at once using pd.concat(axis=1) instead. To get a de-fragmented frame, use `newframe = frame.copy()`\n",
            "  df_feature[new_col_name] = df_feature.groupby(groupby_col)[col].transform(operation)\n",
            "C:\\Users\\jhauj\\AppData\\Local\\Temp\\ipykernel_11676\\1600580289.py:8: PerformanceWarning: DataFrame is highly fragmented.  This is usually the result of calling `frame.insert` many times, which has poor performance.  Consider joining all columns at once using pd.concat(axis=1) instead. To get a de-fragmented frame, use `newframe = frame.copy()`\n",
            "  df_feature[new_col_name] = df_feature.groupby(groupby_col)[col].transform(operation)\n",
            "C:\\Users\\jhauj\\AppData\\Local\\Temp\\ipykernel_11676\\1600580289.py:8: PerformanceWarning: DataFrame is highly fragmented.  This is usually the result of calling `frame.insert` many times, which has poor performance.  Consider joining all columns at once using pd.concat(axis=1) instead. To get a de-fragmented frame, use `newframe = frame.copy()`\n",
            "  df_feature[new_col_name] = df_feature.groupby(groupby_col)[col].transform(operation)\n",
            "C:\\Users\\jhauj\\AppData\\Local\\Temp\\ipykernel_11676\\1600580289.py:8: PerformanceWarning: DataFrame is highly fragmented.  This is usually the result of calling `frame.insert` many times, which has poor performance.  Consider joining all columns at once using pd.concat(axis=1) instead. To get a de-fragmented frame, use `newframe = frame.copy()`\n",
            "  df_feature[new_col_name] = df_feature.groupby(groupby_col)[col].transform(operation)\n",
            "C:\\Users\\jhauj\\AppData\\Local\\Temp\\ipykernel_11676\\1600580289.py:8: PerformanceWarning: DataFrame is highly fragmented.  This is usually the result of calling `frame.insert` many times, which has poor performance.  Consider joining all columns at once using pd.concat(axis=1) instead. To get a de-fragmented frame, use `newframe = frame.copy()`\n",
            "  df_feature[new_col_name] = df_feature.groupby(groupby_col)[col].transform(operation)\n",
            "C:\\Users\\jhauj\\AppData\\Local\\Temp\\ipykernel_11676\\1600580289.py:8: PerformanceWarning: DataFrame is highly fragmented.  This is usually the result of calling `frame.insert` many times, which has poor performance.  Consider joining all columns at once using pd.concat(axis=1) instead. To get a de-fragmented frame, use `newframe = frame.copy()`\n",
            "  df_feature[new_col_name] = df_feature.groupby(groupby_col)[col].transform(operation)\n",
            "C:\\Users\\jhauj\\AppData\\Local\\Temp\\ipykernel_11676\\1600580289.py:8: PerformanceWarning: DataFrame is highly fragmented.  This is usually the result of calling `frame.insert` many times, which has poor performance.  Consider joining all columns at once using pd.concat(axis=1) instead. To get a de-fragmented frame, use `newframe = frame.copy()`\n",
            "  df_feature[new_col_name] = df_feature.groupby(groupby_col)[col].transform(operation)\n",
            "C:\\Users\\jhauj\\AppData\\Local\\Temp\\ipykernel_11676\\1600580289.py:8: PerformanceWarning: DataFrame is highly fragmented.  This is usually the result of calling `frame.insert` many times, which has poor performance.  Consider joining all columns at once using pd.concat(axis=1) instead. To get a de-fragmented frame, use `newframe = frame.copy()`\n",
            "  df_feature[new_col_name] = df_feature.groupby(groupby_col)[col].transform(operation)\n",
            "C:\\Users\\jhauj\\AppData\\Local\\Temp\\ipykernel_11676\\1600580289.py:8: PerformanceWarning: DataFrame is highly fragmented.  This is usually the result of calling `frame.insert` many times, which has poor performance.  Consider joining all columns at once using pd.concat(axis=1) instead. To get a de-fragmented frame, use `newframe = frame.copy()`\n",
            "  df_feature[new_col_name] = df_feature.groupby(groupby_col)[col].transform(operation)\n",
            "C:\\Users\\jhauj\\AppData\\Local\\Temp\\ipykernel_11676\\1600580289.py:8: PerformanceWarning: DataFrame is highly fragmented.  This is usually the result of calling `frame.insert` many times, which has poor performance.  Consider joining all columns at once using pd.concat(axis=1) instead. To get a de-fragmented frame, use `newframe = frame.copy()`\n",
            "  df_feature[new_col_name] = df_feature.groupby(groupby_col)[col].transform(operation)\n",
            "C:\\Users\\jhauj\\AppData\\Local\\Temp\\ipykernel_11676\\1600580289.py:8: PerformanceWarning: DataFrame is highly fragmented.  This is usually the result of calling `frame.insert` many times, which has poor performance.  Consider joining all columns at once using pd.concat(axis=1) instead. To get a de-fragmented frame, use `newframe = frame.copy()`\n",
            "  df_feature[new_col_name] = df_feature.groupby(groupby_col)[col].transform(operation)\n",
            "C:\\Users\\jhauj\\AppData\\Local\\Temp\\ipykernel_11676\\1600580289.py:8: PerformanceWarning: DataFrame is highly fragmented.  This is usually the result of calling `frame.insert` many times, which has poor performance.  Consider joining all columns at once using pd.concat(axis=1) instead. To get a de-fragmented frame, use `newframe = frame.copy()`\n",
            "  df_feature[new_col_name] = df_feature.groupby(groupby_col)[col].transform(operation)\n",
            "C:\\Users\\jhauj\\AppData\\Local\\Temp\\ipykernel_11676\\1600580289.py:8: PerformanceWarning: DataFrame is highly fragmented.  This is usually the result of calling `frame.insert` many times, which has poor performance.  Consider joining all columns at once using pd.concat(axis=1) instead. To get a de-fragmented frame, use `newframe = frame.copy()`\n",
            "  df_feature[new_col_name] = df_feature.groupby(groupby_col)[col].transform(operation)\n",
            "C:\\Users\\jhauj\\AppData\\Local\\Temp\\ipykernel_11676\\1600580289.py:8: PerformanceWarning: DataFrame is highly fragmented.  This is usually the result of calling `frame.insert` many times, which has poor performance.  Consider joining all columns at once using pd.concat(axis=1) instead. To get a de-fragmented frame, use `newframe = frame.copy()`\n",
            "  df_feature[new_col_name] = df_feature.groupby(groupby_col)[col].transform(operation)\n",
            "C:\\Users\\jhauj\\AppData\\Local\\Temp\\ipykernel_11676\\1600580289.py:8: PerformanceWarning: DataFrame is highly fragmented.  This is usually the result of calling `frame.insert` many times, which has poor performance.  Consider joining all columns at once using pd.concat(axis=1) instead. To get a de-fragmented frame, use `newframe = frame.copy()`\n",
            "  df_feature[new_col_name] = df_feature.groupby(groupby_col)[col].transform(operation)\n",
            "C:\\Users\\jhauj\\AppData\\Local\\Temp\\ipykernel_11676\\1600580289.py:8: PerformanceWarning: DataFrame is highly fragmented.  This is usually the result of calling `frame.insert` many times, which has poor performance.  Consider joining all columns at once using pd.concat(axis=1) instead. To get a de-fragmented frame, use `newframe = frame.copy()`\n",
            "  df_feature[new_col_name] = df_feature.groupby(groupby_col)[col].transform(operation)\n",
            "C:\\Users\\jhauj\\AppData\\Local\\Temp\\ipykernel_11676\\1600580289.py:8: PerformanceWarning: DataFrame is highly fragmented.  This is usually the result of calling `frame.insert` many times, which has poor performance.  Consider joining all columns at once using pd.concat(axis=1) instead. To get a de-fragmented frame, use `newframe = frame.copy()`\n",
            "  df_feature[new_col_name] = df_feature.groupby(groupby_col)[col].transform(operation)\n",
            "C:\\Users\\jhauj\\AppData\\Local\\Temp\\ipykernel_11676\\1600580289.py:8: PerformanceWarning: DataFrame is highly fragmented.  This is usually the result of calling `frame.insert` many times, which has poor performance.  Consider joining all columns at once using pd.concat(axis=1) instead. To get a de-fragmented frame, use `newframe = frame.copy()`\n",
            "  df_feature[new_col_name] = df_feature.groupby(groupby_col)[col].transform(operation)\n",
            "C:\\Users\\jhauj\\AppData\\Local\\Temp\\ipykernel_11676\\1600580289.py:8: PerformanceWarning: DataFrame is highly fragmented.  This is usually the result of calling `frame.insert` many times, which has poor performance.  Consider joining all columns at once using pd.concat(axis=1) instead. To get a de-fragmented frame, use `newframe = frame.copy()`\n",
            "  df_feature[new_col_name] = df_feature.groupby(groupby_col)[col].transform(operation)\n",
            "C:\\Users\\jhauj\\AppData\\Local\\Temp\\ipykernel_11676\\1600580289.py:8: PerformanceWarning: DataFrame is highly fragmented.  This is usually the result of calling `frame.insert` many times, which has poor performance.  Consider joining all columns at once using pd.concat(axis=1) instead. To get a de-fragmented frame, use `newframe = frame.copy()`\n",
            "  df_feature[new_col_name] = df_feature.groupby(groupby_col)[col].transform(operation)\n",
            "C:\\Users\\jhauj\\AppData\\Local\\Temp\\ipykernel_11676\\1600580289.py:8: PerformanceWarning: DataFrame is highly fragmented.  This is usually the result of calling `frame.insert` many times, which has poor performance.  Consider joining all columns at once using pd.concat(axis=1) instead. To get a de-fragmented frame, use `newframe = frame.copy()`\n",
            "  df_feature[new_col_name] = df_feature.groupby(groupby_col)[col].transform(operation)\n",
            "C:\\Users\\jhauj\\AppData\\Local\\Temp\\ipykernel_11676\\1600580289.py:8: PerformanceWarning: DataFrame is highly fragmented.  This is usually the result of calling `frame.insert` many times, which has poor performance.  Consider joining all columns at once using pd.concat(axis=1) instead. To get a de-fragmented frame, use `newframe = frame.copy()`\n",
            "  df_feature[new_col_name] = df_feature.groupby(groupby_col)[col].transform(operation)\n",
            "C:\\Users\\jhauj\\AppData\\Local\\Temp\\ipykernel_11676\\1600580289.py:8: PerformanceWarning: DataFrame is highly fragmented.  This is usually the result of calling `frame.insert` many times, which has poor performance.  Consider joining all columns at once using pd.concat(axis=1) instead. To get a de-fragmented frame, use `newframe = frame.copy()`\n",
            "  df_feature[new_col_name] = df_feature.groupby(groupby_col)[col].transform(operation)\n",
            "C:\\Users\\jhauj\\AppData\\Local\\Temp\\ipykernel_11676\\1600580289.py:8: PerformanceWarning: DataFrame is highly fragmented.  This is usually the result of calling `frame.insert` many times, which has poor performance.  Consider joining all columns at once using pd.concat(axis=1) instead. To get a de-fragmented frame, use `newframe = frame.copy()`\n",
            "  df_feature[new_col_name] = df_feature.groupby(groupby_col)[col].transform(operation)\n",
            "C:\\Users\\jhauj\\AppData\\Local\\Temp\\ipykernel_11676\\1600580289.py:8: PerformanceWarning: DataFrame is highly fragmented.  This is usually the result of calling `frame.insert` many times, which has poor performance.  Consider joining all columns at once using pd.concat(axis=1) instead. To get a de-fragmented frame, use `newframe = frame.copy()`\n",
            "  df_feature[new_col_name] = df_feature.groupby(groupby_col)[col].transform(operation)\n",
            "C:\\Users\\jhauj\\AppData\\Local\\Temp\\ipykernel_11676\\1600580289.py:8: PerformanceWarning: DataFrame is highly fragmented.  This is usually the result of calling `frame.insert` many times, which has poor performance.  Consider joining all columns at once using pd.concat(axis=1) instead. To get a de-fragmented frame, use `newframe = frame.copy()`\n",
            "  df_feature[new_col_name] = df_feature.groupby(groupby_col)[col].transform(operation)\n",
            "C:\\Users\\jhauj\\AppData\\Local\\Temp\\ipykernel_11676\\1600580289.py:8: PerformanceWarning: DataFrame is highly fragmented.  This is usually the result of calling `frame.insert` many times, which has poor performance.  Consider joining all columns at once using pd.concat(axis=1) instead. To get a de-fragmented frame, use `newframe = frame.copy()`\n",
            "  df_feature[new_col_name] = df_feature.groupby(groupby_col)[col].transform(operation)\n",
            "C:\\Users\\jhauj\\AppData\\Local\\Temp\\ipykernel_11676\\1600580289.py:8: PerformanceWarning: DataFrame is highly fragmented.  This is usually the result of calling `frame.insert` many times, which has poor performance.  Consider joining all columns at once using pd.concat(axis=1) instead. To get a de-fragmented frame, use `newframe = frame.copy()`\n",
            "  df_feature[new_col_name] = df_feature.groupby(groupby_col)[col].transform(operation)\n",
            "C:\\Users\\jhauj\\AppData\\Local\\Temp\\ipykernel_11676\\1600580289.py:8: PerformanceWarning: DataFrame is highly fragmented.  This is usually the result of calling `frame.insert` many times, which has poor performance.  Consider joining all columns at once using pd.concat(axis=1) instead. To get a de-fragmented frame, use `newframe = frame.copy()`\n",
            "  df_feature[new_col_name] = df_feature.groupby(groupby_col)[col].transform(operation)\n",
            "C:\\Users\\jhauj\\AppData\\Local\\Temp\\ipykernel_11676\\1600580289.py:8: PerformanceWarning: DataFrame is highly fragmented.  This is usually the result of calling `frame.insert` many times, which has poor performance.  Consider joining all columns at once using pd.concat(axis=1) instead. To get a de-fragmented frame, use `newframe = frame.copy()`\n",
            "  df_feature[new_col_name] = df_feature.groupby(groupby_col)[col].transform(operation)\n",
            "C:\\Users\\jhauj\\AppData\\Local\\Temp\\ipykernel_11676\\1600580289.py:8: PerformanceWarning: DataFrame is highly fragmented.  This is usually the result of calling `frame.insert` many times, which has poor performance.  Consider joining all columns at once using pd.concat(axis=1) instead. To get a de-fragmented frame, use `newframe = frame.copy()`\n",
            "  df_feature[new_col_name] = df_feature.groupby(groupby_col)[col].transform(operation)\n"
          ]
        }
      ],
      "source": [
        "final_dataset_featured=feature_engineering(final_dataset_preprocess)"
      ]
    },
    {
      "cell_type": "code",
      "execution_count": 20,
      "metadata": {
        "id": "KnQxssoFmR8N"
      },
      "outputs": [],
      "source": [
        "final_dataset_featured.to_csv('fraud_from_astha.csv',index=False)"
      ]
    },
    {
      "cell_type": "code",
      "execution_count": 21,
      "metadata": {
        "colab": {
          "base_uri": "https://localhost:8080/"
        },
        "id": "uQ11FRgySK4k",
        "outputId": "5fb4f1bc-439b-4955-d0b9-00665172d3eb"
      },
      "outputs": [
        {
          "data": {
            "text/plain": [
              "(5410, 311)"
            ]
          },
          "execution_count": 21,
          "metadata": {},
          "output_type": "execute_result"
        }
      ],
      "source": [
        "final_dataset_featured.shape"
      ]
    },
    {
      "cell_type": "code",
      "execution_count": 22,
      "metadata": {
        "id": "ezuiq_7aSMOC"
      },
      "outputs": [],
      "source": [
        "Training_Label=final_dataset_featured['Provider']\n",
        "Training_Final=final_dataset_featured.drop(columns='Provider',axis=1)"
      ]
    },
    {
      "cell_type": "code",
      "execution_count": 23,
      "metadata": {},
      "outputs": [
        {
          "data": {
            "text/plain": [
              "(5410, 310)"
            ]
          },
          "execution_count": 23,
          "metadata": {},
          "output_type": "execute_result"
        }
      ],
      "source": [
        "Training_Final.shape"
      ]
    },
    {
      "cell_type": "code",
      "execution_count": 24,
      "metadata": {},
      "outputs": [
        {
          "data": {
            "text/plain": [
              "PotentialFraud                                            0\n",
              "InscClaimAmtReimbursed                                    0\n",
              "DeductibleAmtPaid                                         0\n",
              "Hospitalization_Duration                                  0\n",
              "Claim_Period                                              0\n",
              "ExtraClaimDays                                            0\n",
              "is_admitted                                               0\n",
              "RenalDiseaseIndicator                                     0\n",
              "NoOfMonths_PartACov                                       0\n",
              "NoOfMonths_PartBCov                                       0\n",
              "ChronicCond_Alzheimer                                     0\n",
              "ChronicCond_Heartfailure                                  0\n",
              "ChronicCond_KidneyDisease                                 0\n",
              "ChronicCond_Cancer                                        0\n",
              "ChronicCond_ObstrPulmonary                                0\n",
              "ChronicCond_Depression                                    0\n",
              "ChronicCond_Diabetes                                      0\n",
              "ChronicCond_IschemicHeart                                 0\n",
              "ChronicCond_Osteoporasis                                  0\n",
              "ChronicCond_rheumatoidarthritis                           0\n",
              "ChronicCond_stroke                                        0\n",
              "IPAnnualReimbursementAmt                                  0\n",
              "IPAnnualDeductibleAmt                                     0\n",
              "OPAnnualReimbursementAmt                                  0\n",
              "OPAnnualDeductibleAmt                                     0\n",
              "is_dead                                                   0\n",
              "Patient_Age                                               0\n",
              "IP_OP_TotalReimbursementAmt                               0\n",
              "IP_OP_AnnualDeductibleAmt                                 0\n",
              "PerProvider_mean_InscClaimAmtReimbursed                   0\n",
              "PerProvider_mean_DeductibleAmtPaid                        0\n",
              "PerProvider_mean_IPAnnualReimbursementAmt                 0\n",
              "PerProvider_mean_IPAnnualDeductibleAmt                    0\n",
              "PerProvider_mean_OPAnnualReimbursementAmt                 0\n",
              "PerProvider_mean_OPAnnualDeductibleAmt                    0\n",
              "PerProvider_mean_Patient_Age                              0\n",
              "PerProvider_mean_NoOfMonths_PartACov                      0\n",
              "PerProvider_mean_NoOfMonths_PartBCov                      0\n",
              "PerProvider_mean_Hospitalization_Duration                 0\n",
              "PerProvider_mean_Claim_Period                             0\n",
              "PerBeneID_mean_InscClaimAmtReimbursed                     0\n",
              "PerBeneID_mean_DeductibleAmtPaid                          0\n",
              "PerBeneID_mean_IPAnnualReimbursementAmt                   0\n",
              "PerBeneID_mean_IPAnnualDeductibleAmt                      0\n",
              "PerBeneID_mean_OPAnnualReimbursementAmt                   0\n",
              "PerBeneID_mean_OPAnnualDeductibleAmt                      0\n",
              "PerBeneID_mean_Patient_Age                                0\n",
              "PerBeneID_mean_NoOfMonths_PartACov                        0\n",
              "PerBeneID_mean_NoOfMonths_PartBCov                        0\n",
              "PerBeneID_mean_Hospitalization_Duration                   0\n",
              "PerBeneID_mean_Claim_Period                               0\n",
              "PerAttendingPhysician_mean_InscClaimAmtReimbursed         0\n",
              "PerAttendingPhysician_mean_DeductibleAmtPaid              0\n",
              "PerAttendingPhysician_mean_IPAnnualReimbursementAmt       0\n",
              "PerAttendingPhysician_mean_IPAnnualDeductibleAmt          0\n",
              "PerAttendingPhysician_mean_OPAnnualReimbursementAmt       0\n",
              "PerAttendingPhysician_mean_OPAnnualDeductibleAmt          0\n",
              "PerAttendingPhysician_mean_Patient_Age                    0\n",
              "PerAttendingPhysician_mean_NoOfMonths_PartACov            0\n",
              "PerAttendingPhysician_mean_NoOfMonths_PartBCov            0\n",
              "PerAttendingPhysician_mean_Hospitalization_Duration       0\n",
              "PerAttendingPhysician_mean_Claim_Period                   0\n",
              "PerOperatingPhysician_mean_InscClaimAmtReimbursed         0\n",
              "PerOperatingPhysician_mean_DeductibleAmtPaid              0\n",
              "PerOperatingPhysician_mean_IPAnnualReimbursementAmt       0\n",
              "PerOperatingPhysician_mean_IPAnnualDeductibleAmt          0\n",
              "PerOperatingPhysician_mean_OPAnnualReimbursementAmt       0\n",
              "PerOperatingPhysician_mean_OPAnnualDeductibleAmt          0\n",
              "PerOperatingPhysician_mean_Patient_Age                    0\n",
              "PerOperatingPhysician_mean_NoOfMonths_PartACov            0\n",
              "PerOperatingPhysician_mean_NoOfMonths_PartBCov            0\n",
              "PerOperatingPhysician_mean_Hospitalization_Duration       0\n",
              "PerOperatingPhysician_mean_Claim_Period                   0\n",
              "PerOtherPhysician_mean_InscClaimAmtReimbursed             0\n",
              "PerOtherPhysician_mean_DeductibleAmtPaid                  0\n",
              "PerOtherPhysician_mean_IPAnnualReimbursementAmt           0\n",
              "PerOtherPhysician_mean_IPAnnualDeductibleAmt              0\n",
              "PerOtherPhysician_mean_OPAnnualReimbursementAmt           0\n",
              "PerOtherPhysician_mean_OPAnnualDeductibleAmt              0\n",
              "PerOtherPhysician_mean_Patient_Age                        0\n",
              "PerOtherPhysician_mean_NoOfMonths_PartACov                0\n",
              "PerOtherPhysician_mean_NoOfMonths_PartBCov                0\n",
              "PerOtherPhysician_mean_Hospitalization_Duration           0\n",
              "PerOtherPhysician_mean_Claim_Period                       0\n",
              "PerDiagnosisGroupCode_mean_InscClaimAmtReimbursed         0\n",
              "PerDiagnosisGroupCode_mean_DeductibleAmtPaid              0\n",
              "PerDiagnosisGroupCode_mean_IPAnnualReimbursementAmt       0\n",
              "PerDiagnosisGroupCode_mean_IPAnnualDeductibleAmt          0\n",
              "PerDiagnosisGroupCode_mean_OPAnnualReimbursementAmt       0\n",
              "PerDiagnosisGroupCode_mean_OPAnnualDeductibleAmt          0\n",
              "PerDiagnosisGroupCode_mean_Patient_Age                    0\n",
              "PerDiagnosisGroupCode_mean_NoOfMonths_PartACov            0\n",
              "PerDiagnosisGroupCode_mean_NoOfMonths_PartBCov            0\n",
              "PerDiagnosisGroupCode_mean_Hospitalization_Duration       0\n",
              "PerDiagnosisGroupCode_mean_Claim_Period                   0\n",
              "PerClmAdmitDiagnosisCode_mean_InscClaimAmtReimbursed      0\n",
              "PerClmAdmitDiagnosisCode_mean_DeductibleAmtPaid           0\n",
              "PerClmAdmitDiagnosisCode_mean_IPAnnualReimbursementAmt    0\n",
              "PerClmAdmitDiagnosisCode_mean_IPAnnualDeductibleAmt       0\n",
              "PerClmAdmitDiagnosisCode_mean_OPAnnualReimbursementAmt    0\n",
              "PerClmAdmitDiagnosisCode_mean_OPAnnualDeductibleAmt       0\n",
              "PerClmAdmitDiagnosisCode_mean_Patient_Age                 0\n",
              "PerClmAdmitDiagnosisCode_mean_NoOfMonths_PartACov         0\n",
              "PerClmAdmitDiagnosisCode_mean_NoOfMonths_PartBCov         0\n",
              "PerClmAdmitDiagnosisCode_mean_Hospitalization_Duration    0\n",
              "PerClmAdmitDiagnosisCode_mean_Claim_Period                0\n",
              "PerClmProcedureCode_1_mean_InscClaimAmtReimbursed         0\n",
              "PerClmProcedureCode_1_mean_DeductibleAmtPaid              0\n",
              "PerClmProcedureCode_1_mean_IPAnnualReimbursementAmt       0\n",
              "PerClmProcedureCode_1_mean_IPAnnualDeductibleAmt          0\n",
              "PerClmProcedureCode_1_mean_OPAnnualReimbursementAmt       0\n",
              "PerClmProcedureCode_1_mean_OPAnnualDeductibleAmt          0\n",
              "PerClmProcedureCode_1_mean_Patient_Age                    0\n",
              "PerClmProcedureCode_1_mean_NoOfMonths_PartACov            0\n",
              "PerClmProcedureCode_1_mean_NoOfMonths_PartBCov            0\n",
              "PerClmProcedureCode_1_mean_Hospitalization_Duration       0\n",
              "PerClmProcedureCode_1_mean_Claim_Period                   0\n",
              "PerClmProcedureCode_2_mean_InscClaimAmtReimbursed         0\n",
              "PerClmProcedureCode_2_mean_DeductibleAmtPaid              0\n",
              "PerClmProcedureCode_2_mean_IPAnnualReimbursementAmt       0\n",
              "PerClmProcedureCode_2_mean_IPAnnualDeductibleAmt          0\n",
              "PerClmProcedureCode_2_mean_OPAnnualReimbursementAmt       0\n",
              "PerClmProcedureCode_2_mean_OPAnnualDeductibleAmt          0\n",
              "PerClmProcedureCode_2_mean_Patient_Age                    0\n",
              "PerClmProcedureCode_2_mean_NoOfMonths_PartACov            0\n",
              "PerClmProcedureCode_2_mean_NoOfMonths_PartBCov            0\n",
              "PerClmProcedureCode_2_mean_Hospitalization_Duration       0\n",
              "PerClmProcedureCode_2_mean_Claim_Period                   0\n",
              "PerClmProcedureCode_3_mean_InscClaimAmtReimbursed         0\n",
              "PerClmProcedureCode_3_mean_DeductibleAmtPaid              0\n",
              "PerClmProcedureCode_3_mean_IPAnnualReimbursementAmt       0\n",
              "PerClmProcedureCode_3_mean_IPAnnualDeductibleAmt          0\n",
              "PerClmProcedureCode_3_mean_OPAnnualReimbursementAmt       0\n",
              "PerClmProcedureCode_3_mean_OPAnnualDeductibleAmt          0\n",
              "PerClmProcedureCode_3_mean_Patient_Age                    0\n",
              "PerClmProcedureCode_3_mean_NoOfMonths_PartACov            0\n",
              "PerClmProcedureCode_3_mean_NoOfMonths_PartBCov            0\n",
              "PerClmProcedureCode_3_mean_Hospitalization_Duration       0\n",
              "PerClmProcedureCode_3_mean_Claim_Period                   0\n",
              "PerClmProcedureCode_4_mean_InscClaimAmtReimbursed         0\n",
              "PerClmProcedureCode_4_mean_DeductibleAmtPaid              0\n",
              "PerClmProcedureCode_4_mean_IPAnnualReimbursementAmt       0\n",
              "PerClmProcedureCode_4_mean_IPAnnualDeductibleAmt          0\n",
              "PerClmProcedureCode_4_mean_OPAnnualReimbursementAmt       0\n",
              "PerClmProcedureCode_4_mean_OPAnnualDeductibleAmt          0\n",
              "PerClmProcedureCode_4_mean_Patient_Age                    0\n",
              "PerClmProcedureCode_4_mean_NoOfMonths_PartACov            0\n",
              "PerClmProcedureCode_4_mean_NoOfMonths_PartBCov            0\n",
              "PerClmProcedureCode_4_mean_Hospitalization_Duration       0\n",
              "PerClmProcedureCode_4_mean_Claim_Period                   0\n",
              "PerClmProcedureCode_5_mean_InscClaimAmtReimbursed         0\n",
              "PerClmProcedureCode_5_mean_DeductibleAmtPaid              0\n",
              "PerClmProcedureCode_5_mean_IPAnnualReimbursementAmt       0\n",
              "PerClmProcedureCode_5_mean_IPAnnualDeductibleAmt          0\n",
              "PerClmProcedureCode_5_mean_OPAnnualReimbursementAmt       0\n",
              "PerClmProcedureCode_5_mean_OPAnnualDeductibleAmt          0\n",
              "PerClmProcedureCode_5_mean_Patient_Age                    0\n",
              "PerClmProcedureCode_5_mean_NoOfMonths_PartACov            0\n",
              "PerClmProcedureCode_5_mean_NoOfMonths_PartBCov            0\n",
              "PerClmProcedureCode_5_mean_Hospitalization_Duration       0\n",
              "PerClmProcedureCode_5_mean_Claim_Period                   0\n",
              "PerClmProcedureCode_6_mean_InscClaimAmtReimbursed         0\n",
              "PerClmProcedureCode_6_mean_DeductibleAmtPaid              0\n",
              "PerClmProcedureCode_6_mean_IPAnnualReimbursementAmt       0\n",
              "PerClmProcedureCode_6_mean_IPAnnualDeductibleAmt          0\n",
              "PerClmProcedureCode_6_mean_OPAnnualReimbursementAmt       0\n",
              "PerClmProcedureCode_6_mean_OPAnnualDeductibleAmt          0\n",
              "PerClmProcedureCode_6_mean_Patient_Age                    0\n",
              "PerClmProcedureCode_6_mean_NoOfMonths_PartACov            0\n",
              "PerClmProcedureCode_6_mean_NoOfMonths_PartBCov            0\n",
              "PerClmProcedureCode_6_mean_Hospitalization_Duration       0\n",
              "PerClmProcedureCode_6_mean_Claim_Period                   0\n",
              "PerClmDiagnosisCode_1_mean_InscClaimAmtReimbursed         0\n",
              "PerClmDiagnosisCode_1_mean_DeductibleAmtPaid              0\n",
              "PerClmDiagnosisCode_1_mean_IPAnnualReimbursementAmt       0\n",
              "PerClmDiagnosisCode_1_mean_IPAnnualDeductibleAmt          0\n",
              "PerClmDiagnosisCode_1_mean_OPAnnualReimbursementAmt       0\n",
              "PerClmDiagnosisCode_1_mean_OPAnnualDeductibleAmt          0\n",
              "PerClmDiagnosisCode_1_mean_Patient_Age                    0\n",
              "PerClmDiagnosisCode_1_mean_NoOfMonths_PartACov            0\n",
              "PerClmDiagnosisCode_1_mean_NoOfMonths_PartBCov            0\n",
              "PerClmDiagnosisCode_1_mean_Hospitalization_Duration       0\n",
              "PerClmDiagnosisCode_1_mean_Claim_Period                   0\n",
              "PerClmDiagnosisCode_2_mean_InscClaimAmtReimbursed         0\n",
              "PerClmDiagnosisCode_2_mean_DeductibleAmtPaid              0\n",
              "PerClmDiagnosisCode_2_mean_IPAnnualReimbursementAmt       0\n",
              "PerClmDiagnosisCode_2_mean_IPAnnualDeductibleAmt          0\n",
              "PerClmDiagnosisCode_2_mean_OPAnnualReimbursementAmt       0\n",
              "PerClmDiagnosisCode_2_mean_OPAnnualDeductibleAmt          0\n",
              "PerClmDiagnosisCode_2_mean_Patient_Age                    0\n",
              "PerClmDiagnosisCode_2_mean_NoOfMonths_PartACov            0\n",
              "PerClmDiagnosisCode_2_mean_NoOfMonths_PartBCov            0\n",
              "PerClmDiagnosisCode_2_mean_Hospitalization_Duration       0\n",
              "PerClmDiagnosisCode_2_mean_Claim_Period                   0\n",
              "PerClmDiagnosisCode_3_mean_InscClaimAmtReimbursed         0\n",
              "PerClmDiagnosisCode_3_mean_DeductibleAmtPaid              0\n",
              "PerClmDiagnosisCode_3_mean_IPAnnualReimbursementAmt       0\n",
              "PerClmDiagnosisCode_3_mean_IPAnnualDeductibleAmt          0\n",
              "PerClmDiagnosisCode_3_mean_OPAnnualReimbursementAmt       0\n",
              "PerClmDiagnosisCode_3_mean_OPAnnualDeductibleAmt          0\n",
              "PerClmDiagnosisCode_3_mean_Patient_Age                    0\n",
              "PerClmDiagnosisCode_3_mean_NoOfMonths_PartACov            0\n",
              "PerClmDiagnosisCode_3_mean_NoOfMonths_PartBCov            0\n",
              "PerClmDiagnosisCode_3_mean_Hospitalization_Duration       0\n",
              "PerClmDiagnosisCode_3_mean_Claim_Period                   0\n",
              "PerClmDiagnosisCode_4_mean_InscClaimAmtReimbursed         0\n",
              "PerClmDiagnosisCode_4_mean_DeductibleAmtPaid              0\n",
              "PerClmDiagnosisCode_4_mean_IPAnnualReimbursementAmt       0\n",
              "PerClmDiagnosisCode_4_mean_IPAnnualDeductibleAmt          0\n",
              "PerClmDiagnosisCode_4_mean_OPAnnualReimbursementAmt       0\n",
              "PerClmDiagnosisCode_4_mean_OPAnnualDeductibleAmt          0\n",
              "PerClmDiagnosisCode_4_mean_Patient_Age                    0\n",
              "PerClmDiagnosisCode_4_mean_NoOfMonths_PartACov            0\n",
              "PerClmDiagnosisCode_4_mean_NoOfMonths_PartBCov            0\n",
              "PerClmDiagnosisCode_4_mean_Hospitalization_Duration       0\n",
              "PerClmDiagnosisCode_4_mean_Claim_Period                   0\n",
              "PerClmDiagnosisCode_5_mean_InscClaimAmtReimbursed         0\n",
              "PerClmDiagnosisCode_5_mean_DeductibleAmtPaid              0\n",
              "PerClmDiagnosisCode_5_mean_IPAnnualReimbursementAmt       0\n",
              "PerClmDiagnosisCode_5_mean_IPAnnualDeductibleAmt          0\n",
              "PerClmDiagnosisCode_5_mean_OPAnnualReimbursementAmt       0\n",
              "PerClmDiagnosisCode_5_mean_OPAnnualDeductibleAmt          0\n",
              "PerClmDiagnosisCode_5_mean_Patient_Age                    0\n",
              "PerClmDiagnosisCode_5_mean_NoOfMonths_PartACov            0\n",
              "PerClmDiagnosisCode_5_mean_NoOfMonths_PartBCov            0\n",
              "PerClmDiagnosisCode_5_mean_Hospitalization_Duration       0\n",
              "PerClmDiagnosisCode_5_mean_Claim_Period                   0\n",
              "PerClmDiagnosisCode_6_mean_InscClaimAmtReimbursed         0\n",
              "PerClmDiagnosisCode_6_mean_DeductibleAmtPaid              0\n",
              "PerClmDiagnosisCode_6_mean_IPAnnualReimbursementAmt       0\n",
              "PerClmDiagnosisCode_6_mean_IPAnnualDeductibleAmt          0\n",
              "PerClmDiagnosisCode_6_mean_OPAnnualReimbursementAmt       0\n",
              "PerClmDiagnosisCode_6_mean_OPAnnualDeductibleAmt          0\n",
              "PerClmDiagnosisCode_6_mean_Patient_Age                    0\n",
              "PerClmDiagnosisCode_6_mean_NoOfMonths_PartACov            0\n",
              "PerClmDiagnosisCode_6_mean_NoOfMonths_PartBCov            0\n",
              "PerClmDiagnosisCode_6_mean_Hospitalization_Duration       0\n",
              "PerClmDiagnosisCode_6_mean_Claim_Period                   0\n",
              "PerClmDiagnosisCode_7_mean_InscClaimAmtReimbursed         0\n",
              "PerClmDiagnosisCode_7_mean_DeductibleAmtPaid              0\n",
              "PerClmDiagnosisCode_7_mean_IPAnnualReimbursementAmt       0\n",
              "PerClmDiagnosisCode_7_mean_IPAnnualDeductibleAmt          0\n",
              "PerClmDiagnosisCode_7_mean_OPAnnualReimbursementAmt       0\n",
              "PerClmDiagnosisCode_7_mean_OPAnnualDeductibleAmt          0\n",
              "PerClmDiagnosisCode_7_mean_Patient_Age                    0\n",
              "PerClmDiagnosisCode_7_mean_NoOfMonths_PartACov            0\n",
              "PerClmDiagnosisCode_7_mean_NoOfMonths_PartBCov            0\n",
              "PerClmDiagnosisCode_7_mean_Hospitalization_Duration       0\n",
              "PerClmDiagnosisCode_7_mean_Claim_Period                   0\n",
              "PerClmDiagnosisCode_8_mean_InscClaimAmtReimbursed         0\n",
              "PerClmDiagnosisCode_8_mean_DeductibleAmtPaid              0\n",
              "PerClmDiagnosisCode_8_mean_IPAnnualReimbursementAmt       0\n",
              "PerClmDiagnosisCode_8_mean_IPAnnualDeductibleAmt          0\n",
              "PerClmDiagnosisCode_8_mean_OPAnnualReimbursementAmt       0\n",
              "PerClmDiagnosisCode_8_mean_OPAnnualDeductibleAmt          0\n",
              "PerClmDiagnosisCode_8_mean_Patient_Age                    0\n",
              "PerClmDiagnosisCode_8_mean_NoOfMonths_PartACov            0\n",
              "PerClmDiagnosisCode_8_mean_NoOfMonths_PartBCov            0\n",
              "PerClmDiagnosisCode_8_mean_Hospitalization_Duration       0\n",
              "PerClmDiagnosisCode_8_mean_Claim_Period                   0\n",
              "PerClmDiagnosisCode_9_mean_InscClaimAmtReimbursed         0\n",
              "PerClmDiagnosisCode_9_mean_DeductibleAmtPaid              0\n",
              "PerClmDiagnosisCode_9_mean_IPAnnualReimbursementAmt       0\n",
              "PerClmDiagnosisCode_9_mean_IPAnnualDeductibleAmt          0\n",
              "PerClmDiagnosisCode_9_mean_OPAnnualReimbursementAmt       0\n",
              "PerClmDiagnosisCode_9_mean_OPAnnualDeductibleAmt          0\n",
              "PerClmDiagnosisCode_9_mean_Patient_Age                    0\n",
              "PerClmDiagnosisCode_9_mean_NoOfMonths_PartACov            0\n",
              "PerClmDiagnosisCode_9_mean_NoOfMonths_PartBCov            0\n",
              "PerClmDiagnosisCode_9_mean_Hospitalization_Duration       0\n",
              "PerClmDiagnosisCode_9_mean_Claim_Period                   0\n",
              "PerClmDiagnosisCode_10_mean_InscClaimAmtReimbursed        0\n",
              "PerClmDiagnosisCode_10_mean_DeductibleAmtPaid             0\n",
              "PerClmDiagnosisCode_10_mean_IPAnnualReimbursementAmt      0\n",
              "PerClmDiagnosisCode_10_mean_IPAnnualDeductibleAmt         0\n",
              "PerClmDiagnosisCode_10_mean_OPAnnualReimbursementAmt      0\n",
              "PerClmDiagnosisCode_10_mean_OPAnnualDeductibleAmt         0\n",
              "PerClmDiagnosisCode_10_mean_Patient_Age                   0\n",
              "PerClmDiagnosisCode_10_mean_NoOfMonths_PartACov           0\n",
              "PerClmDiagnosisCode_10_mean_NoOfMonths_PartBCov           0\n",
              "PerClmDiagnosisCode_10_mean_Hospitalization_Duration      0\n",
              "PerClmDiagnosisCode_10_mean_Claim_Period                  0\n",
              "PerProvider_count_ClaimID                                 0\n",
              "PerProviderBeneID_count_ClaimID                           0\n",
              "PerProviderAttendingPhysician_count_ClaimID               0\n",
              "PerProviderOtherPhysician_count_ClaimID                   0\n",
              "PerProviderOperatingPhysician_count_ClaimID               0\n",
              "PerProviderClmAdmitDiagnosisCode_count_ClaimID            0\n",
              "PerProviderClmProcedureCode_1_count_ClaimID               0\n",
              "PerProviderClmProcedureCode_2_count_ClaimID               0\n",
              "PerProviderClmProcedureCode_3_count_ClaimID               0\n",
              "PerProviderClmProcedureCode_4_count_ClaimID               0\n",
              "PerProviderClmProcedureCode_5_count_ClaimID               0\n",
              "PerProviderClmDiagnosisCode_1_count_ClaimID               0\n",
              "PerProviderClmDiagnosisCode_2_count_ClaimID               0\n",
              "PerProviderClmDiagnosisCode_3_count_ClaimID               0\n",
              "PerProviderClmDiagnosisCode_4_count_ClaimID               0\n",
              "PerProviderClmDiagnosisCode_5_count_ClaimID               0\n",
              "PerProviderClmDiagnosisCode_6_count_ClaimID               0\n",
              "PerProviderClmDiagnosisCode_7_count_ClaimID               0\n",
              "PerProviderClmDiagnosisCode_8_count_ClaimID               0\n",
              "PerProviderClmDiagnosisCode_9_count_ClaimID               0\n",
              "PerProviderClmDiagnosisCode_10_count_ClaimID              0\n",
              "PerProviderDiagnosisGroupCode_count_ClaimID               0\n",
              "Gender_0                                                  0\n",
              "Gender_1                                                  0\n",
              "Race_1                                                    0\n",
              "Race_2                                                    0\n",
              "Race_3                                                    0\n",
              "Race_5                                                    0\n",
              "dtype: int64"
            ]
          },
          "execution_count": 24,
          "metadata": {},
          "output_type": "execute_result"
        }
      ],
      "source": [
        "pd.set_option('display.max_rows', None)\n",
        "pd.set_option('display.max_columns', None)\n",
        "Training_Final.isnull().sum()"
      ]
    },
    {
      "cell_type": "code",
      "execution_count": 25,
      "metadata": {},
      "outputs": [],
      "source": [
        "y = Training_Final['PotentialFraud']\n",
        "X = Training_Final.drop('PotentialFraud', axis=1)"
      ]
    },
    {
      "cell_type": "code",
      "execution_count": 26,
      "metadata": {},
      "outputs": [],
      "source": [
        "from sklearn.model_selection import train_test_split\n",
        "\n",
        "# Split the data into training and testing sets\n",
        "X_train, X_test, y_train, y_test = train_test_split(X, y, stratify=y,test_size=0.2, random_state=42)"
      ]
    },
    {
      "cell_type": "code",
      "execution_count": 27,
      "metadata": {},
      "outputs": [],
      "source": [
        "from sklearn.preprocessing import StandardScaler\n",
        "\n",
        "def apply_standard_scaler(X_train, X_test=None):\n",
        "    scaler = StandardScaler()\n",
        "    scaler.fit(X_train)\n",
        "    X_train_scaled = scaler.transform(X_train)\n",
        "\n",
        "    if X_test is not None:\n",
        "        X_test_scaled = scaler.transform(X_test)\n",
        "        return X_train_scaled, X_test_scaled\n",
        "\n",
        "    return X_train_scaled"
      ]
    },
    {
      "cell_type": "code",
      "execution_count": 28,
      "metadata": {},
      "outputs": [],
      "source": [
        "X_train_scaled, X_test_scaled = apply_standard_scaler(X_train, X_test)"
      ]
    },
    {
      "cell_type": "code",
      "execution_count": 29,
      "metadata": {},
      "outputs": [],
      "source": [
        "import numpy as np\n",
        "import pandas as pd\n",
        "import matplotlib.pyplot as plt\n",
        "import seaborn as sns\n",
        "from sklearn.metrics import roc_curve, auc, confusion_matrix\n",
        "\n",
        "def get_threshold_fpr_tpr(y, y_pred_prob):\n",
        "    fpr, tpr, thresholds = roc_curve(y, y_pred_prob)\n",
        "    return fpr, tpr, thresholds\n",
        "\n",
        "def draw_ROC_AUC_plot(train_fpr, train_tpr, test_fpr, test_tpr):\n",
        "    plt.plot(train_fpr, train_tpr, label=\"Train AUC = \" + str(auc(train_fpr, train_tpr)))\n",
        "    plt.plot(test_fpr, test_tpr, label=\"Test AUC = \" + str(auc(test_fpr, test_tpr)))\n",
        "    plt.legend()\n",
        "    plt.xlabel(\"False Positive Rate\")\n",
        "    plt.ylabel(\"True Positive Rate\")\n",
        "    plt.title(\"ROC Curve\")\n",
        "    plt.grid()\n",
        "    plt.show()\n",
        "\n",
        "def find_best_threshold(thresholds, fpr, tpr):\n",
        "    t = thresholds[np.argmax(tpr * (1 - fpr))]\n",
        "    print(\"The maximum value of tpr*(1-fpr)\", max(tpr * (1 - fpr)), \"for threshold\", np.round(t, 3))\n",
        "    return t\n",
        "\n",
        "def predict_with_best_threshold(proba, threshold):\n",
        "    predictions = []\n",
        "    for i in proba:\n",
        "        if i >= threshold:\n",
        "            predictions.append(1)\n",
        "        else:\n",
        "            predictions.append(0)\n",
        "    return predictions\n",
        "\n",
        "def get_confusion_matrix(y, y_pred,axis, best_t):\n",
        "    cm = pd.DataFrame(confusion_matrix(y, predict_with_best_threshold(y_pred, best_t)))\n",
        "    sns.heatmap(cm, annot = True, fmt= 'd',annot_kws={\"size\": 15}, xticklabels= ['Predicted No', 'Predicted Yes'], yticklabels= ['Actaual No','Actual Yes'],ax=axis)"
      ]
    },
    {
      "cell_type": "code",
      "execution_count": 30,
      "metadata": {},
      "outputs": [],
      "source": [
        "from sklearn.linear_model import LogisticRegression\n",
        "from sklearn.svm import SVC\n",
        "from sklearn.model_selection import GridSearchCV\n",
        "from sklearn import metrics\n",
        "from sklearn.metrics import roc_curve, auc , f1_score\n",
        "from sklearn.metrics import confusion_matrix\n",
        "import numpy as np\n",
        "import seaborn as sns"
      ]
    },
    {
      "cell_type": "code",
      "execution_count": 31,
      "metadata": {},
      "outputs": [],
      "source": [
        "def model_performance_check(model,X_train,X_test,y_train,y_test):\n",
        "\n",
        "    y_train_pred = model.predict_proba(X_train)[:,1]\n",
        "    y_test_pred = model.predict_proba(X_test)[:,1]\n",
        "\n",
        "    train_fpr, train_tpr, tr_thresholds = get_threshold_fpr_tpr(y_train, y_train_pred)\n",
        "    test_fpr, test_tpr, te_thresholds = get_threshold_fpr_tpr(y_test, y_test_pred)\n",
        "\n",
        "    #plot Roc_AUC_curve\n",
        "    draw_ROC_AUC_plot(train_fpr, train_tpr,test_fpr, test_tpr)\n",
        "\n",
        "    best_t = find_best_threshold(tr_thresholds, train_fpr, train_tpr)\n",
        "\n",
        "    #draw confusion matrix\n",
        "    fig, ax = plt.subplots(nrows=1, ncols=2, figsize=(10,3))\n",
        "\n",
        "    #training confusion matrix heatmap\n",
        "    get_confusion_matrix(y_train, y_train_pred,ax[0], best_t)\n",
        "    ax[0].set_title(\"confusion matrix for traning data\")\n",
        "\n",
        "    #test confusion matrix heatmap\n",
        "    get_confusion_matrix(y_test, y_test_pred,ax[1], best_t)\n",
        "    ax[1].set_title(\"confusion matrix for test data\")\n",
        "\n",
        "    actual_output = y_test\n",
        "    pred_output = predict_with_best_threshold(y_test_pred, best_t)\n",
        "\n",
        "    model_f1_score = metrics.f1_score(actual_output,pred_output)\n",
        "    print(\"Model test F1 score is : \",model_f1_score)\n",
        "\n",
        "    model_AUC_score = metrics.auc(test_fpr, test_tpr)\n",
        "    print(\"Model test AUC score is : \",model_AUC_score)\n",
        "\n",
        "    return (model_f1_score, model_AUC_score)"
      ]
    },
    {
      "cell_type": "code",
      "execution_count": 32,
      "metadata": {},
      "outputs": [
        {
          "name": "stdout",
          "output_type": "stream",
          "text": [
            "Fitting 5 folds for each of 10 candidates, totalling 50 fits\n",
            "tuned hpyerparameters :(best parameters)  {'n_estimators': 10, 'eta': 0.3}\n",
            "roc_auc : 0.9258560130822794\n"
          ]
        }
      ],
      "source": [
        "import xgboost as xgb\n",
        "\n",
        "from sklearn.model_selection import RandomizedSearchCV\n",
        "\n",
        "XGB = xgb.XGBClassifier()\n",
        "\n",
        "parameters = {\"eta\" : [0.0001, 0.001, 0.01, 0.1, 0.2, 0.3] , \"n_estimators\" : [5,10,50, 75, 100]}\n",
        "\n",
        "XGB_CV = RandomizedSearchCV(XGB, parameters , cv=5, scoring='roc_auc', n_jobs=-1,return_train_score=True, verbose=10)\n",
        "XGB_CV.fit(X_train,y_train)\n",
        "\n",
        "print(\"tuned hpyerparameters :(best parameters) \",XGB_CV.best_params_)\n",
        "print(\"roc_auc :\",XGB_CV.best_score_)"
      ]
    },
    {
      "cell_type": "code",
      "execution_count": 33,
      "metadata": {},
      "outputs": [
        {
          "name": "stdout",
          "output_type": "stream",
          "text": [
            "score 0.9454713493530499\n"
          ]
        }
      ],
      "source": [
        "XGB2 = xgb.XGBClassifier(\n",
        "    eta=0.3,\n",
        "    n_estimators=10,\n",
        "    n_jobs=-1\n",
        "    )\n",
        "\n",
        "XGB2=XGB2.fit(X_train,y_train)\n",
        "\n",
        "print(\"score\",XGB2.score(X_test,y_test))"
      ]
    },
    {
      "cell_type": "code",
      "execution_count": 34,
      "metadata": {},
      "outputs": [
        {
          "data": {
            "image/png": "[encoded data removed]",
            "text/plain": [
              "<Figure size 640x480 with 1 Axes>"
            ]
          },
          "metadata": {},
          "output_type": "display_data"
        },
        {
          "name": "stdout",
          "output_type": "stream",
          "text": [
            "The maximum value of tpr*(1-fpr) 0.9121364035460391 for threshold 0.245\n",
            "Model test F1 score is :  0.6558704453441295\n",
            "Model test AUC score is :  0.9543656200482433\n"
          ]
        },
        {
          "data": {
            "image/png": "[encoded data removed]",
            "text/plain": [
              "<Figure size 1000x300 with 4 Axes>"
            ]
          },
          "metadata": {},
          "output_type": "display_data"
        }
      ],
      "source": [
        "model_f1_score, model_AUC_score = model_performance_check(XGB2,X_train,X_test,y_train,y_test)"
      ]
    },
    {
      "cell_type": "code",
      "execution_count": 37,
      "metadata": {},
      "outputs": [
        {
          "data": {
            "text/plain": [
              "RandomForestClassifier(max_depth=4, min_samples_leaf=100, min_samples_split=50,\n",
              "                       n_estimators=30, random_state=49)"
            ]
          },
          "execution_count": 37,
          "metadata": {},
          "output_type": "execute_result"
        }
      ],
      "source": [
        "from sklearn.ensemble import RandomForestClassifier\n",
        "\n",
        "rfc_6 = RandomForestClassifier(\n",
        "    n_estimators=30,\n",
        "    criterion='gini',\n",
        "    max_depth= 4,\n",
        "    max_features='auto',\n",
        "    min_samples_leaf=100,\n",
        "    min_samples_split=50,\n",
        "    random_state=49,\n",
        "    min_weight_fraction_leaf=0.0,\n",
        "    max_leaf_nodes=None,\n",
        "    min_impurity_decrease=0.0,\n",
        "    ccp_alpha=0.0\n",
        "    )\n",
        "\n",
        "rfc_6.fit(X_train_scaled, y_train)"
      ]
    },
    {
      "cell_type": "code",
      "execution_count": 38,
      "metadata": {},
      "outputs": [
        {
          "data": {
            "image/png": "[encoded data removed]",
            "text/plain": [
              "<Figure size 640x480 with 1 Axes>"
            ]
          },
          "metadata": {},
          "output_type": "display_data"
        },
        {
          "name": "stdout",
          "output_type": "stream",
          "text": [
            "The maximum value of tpr*(1-fpr) 0.7534873474885371 for threshold 0.114\n",
            "Model test F1 score is :  0.5382262996941896\n",
            "Model test AUC score is :  0.9547138200058538\n",
            "\n",
            "\n",
            "### Model AUC is : 0.9547\n",
            "### Model Train F1 Score is : 0.5382\n"
          ]
        },
        {
          "data": {
            "image/png": "[encoded data removed]",
            "text/plain": [
              "<Figure size 1000x300 with 4 Axes>"
            ]
          },
          "metadata": {},
          "output_type": "display_data"
        }
      ],
      "source": [
        "model_f1_score, model_AUC_score = model_performance_check(rfc_6,X_train_scaled, X_test_scaled, y_train, y_test)\n",
        "\n",
        "print(\"\\n\")\n",
        "print(\"### Model AUC is : {:.4f}\".format(model_AUC_score))\n",
        "print(\"### Model Train F1 Score is : {:.4f}\".format(model_f1_score))"
      ]
    },
    {
      "cell_type": "code",
      "execution_count": null,
      "metadata": {},
      "outputs": [],
      "source": []
    }
  ],
  "metadata": {
    "colab": {
      "provenance": []
    },
    "kernelspec": {
      "display_name": "Python 3",
      "name": "python3"
    },
    "language_info": {
      "codemirror_mode": {
        "name": "ipython",
        "version": 3
      },
      "file_extension": ".py",
      "mimetype": "text/x-python",
      "name": "python",
      "nbconvert_exporter": "python",
      "pygments_lexer": "ipython3",
      "version": "3.9.13"
    }
  },
  "nbformat": 4,
  "nbformat_minor": 0
}
