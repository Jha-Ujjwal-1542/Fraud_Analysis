{
  "nbformat": 4,
  "nbformat_minor": 0,
  "metadata": {
    "colab": {
      "provenance": []
    },
    "kernelspec": {
      "name": "python3",
      "display_name": "Python 3"
    },
    "language_info": {
      "name": "python"
    }
  },
  "cells": [
    {
      "cell_type": "code",
      "execution_count": 1,
      "metadata": {
        "id": "eva59m-HS25_"
      },
      "outputs": [],
      "source": [
        "import pandas  as pd\n",
        "import numpy as  np\n",
        "import matplotlib.pyplot as plt\n"
      ]
    },
    {
      "cell_type": "code",
      "source": [
        "#Read the Inpatient Dataset\n",
        "train_inpatientdata=pd.read_csv('Train_Inpatientdata-1542865627584.csv')\n",
        "train_inpatientdata.head()"
      ],
      "metadata": {
        "colab": {
          "base_uri": "https://localhost:8080/",
          "height": 300
        },
        "id": "SRfZHi8vUGXI",
        "outputId": "5352f32d-2e44-4c5c-90ea-0907b899efd7"
      },
      "execution_count": 3,
      "outputs": [
        {
          "output_type": "execute_result",
          "data": {
            "text/plain": [
              "      BeneID   ClaimID ClaimStartDt  ClaimEndDt  Provider  \\\n",
              "0  BENE11001  CLM46614   2009-04-12  2009-04-18  PRV55912   \n",
              "1  BENE11001  CLM66048   2009-08-31  2009-09-02  PRV55907   \n",
              "2  BENE11001  CLM68358   2009-09-17  2009-09-20  PRV56046   \n",
              "3  BENE11011  CLM38412   2009-02-14  2009-02-22  PRV52405   \n",
              "4  BENE11014  CLM63689   2009-08-13  2009-08-30  PRV56614   \n",
              "\n",
              "   InscClaimAmtReimbursed AttendingPhysician OperatingPhysician  \\\n",
              "0                   26000          PHY390922                NaN   \n",
              "1                    5000          PHY318495          PHY318495   \n",
              "2                    5000          PHY372395                NaN   \n",
              "3                    5000          PHY369659          PHY392961   \n",
              "4                   10000          PHY379376          PHY398258   \n",
              "\n",
              "  OtherPhysician AdmissionDt  ... ClmDiagnosisCode_7  ClmDiagnosisCode_8  \\\n",
              "0            NaN  2009-04-12  ...               2724               19889   \n",
              "1            NaN  2009-08-31  ...                NaN                 NaN   \n",
              "2      PHY324689  2009-09-17  ...                NaN                 NaN   \n",
              "3      PHY349768  2009-02-14  ...              25062               40390   \n",
              "4            NaN  2009-08-13  ...               5119               29620   \n",
              "\n",
              "  ClmDiagnosisCode_9 ClmDiagnosisCode_10 ClmProcedureCode_1  \\\n",
              "0               5849                 NaN                NaN   \n",
              "1                NaN                 NaN             7092.0   \n",
              "2                NaN                 NaN                NaN   \n",
              "3               4019                 NaN              331.0   \n",
              "4              20300                 NaN             3893.0   \n",
              "\n",
              "  ClmProcedureCode_2 ClmProcedureCode_3 ClmProcedureCode_4 ClmProcedureCode_5  \\\n",
              "0                NaN                NaN                NaN                NaN   \n",
              "1                NaN                NaN                NaN                NaN   \n",
              "2                NaN                NaN                NaN                NaN   \n",
              "3                NaN                NaN                NaN                NaN   \n",
              "4                NaN                NaN                NaN                NaN   \n",
              "\n",
              "  ClmProcedureCode_6  \n",
              "0                NaN  \n",
              "1                NaN  \n",
              "2                NaN  \n",
              "3                NaN  \n",
              "4                NaN  \n",
              "\n",
              "[5 rows x 30 columns]"
            ],
            "text/html": [
              "\n",
              "  <div id=\"df-c4a9c056-a1f6-4a50-855a-04e22c16be22\">\n",
              "    <div class=\"colab-df-container\">\n",
              "      <div>\n",
              "<style scoped>\n",
              "    .dataframe tbody tr th:only-of-type {\n",
              "        vertical-align: middle;\n",
              "    }\n",
              "\n",
              "    .dataframe tbody tr th {\n",
              "        vertical-align: top;\n",
              "    }\n",
              "\n",
              "    .dataframe thead th {\n",
              "        text-align: right;\n",
              "    }\n",
              "</style>\n",
              "<table border=\"1\" class=\"dataframe\">\n",
              "  <thead>\n",
              "    <tr style=\"text-align: right;\">\n",
              "      <th></th>\n",
              "      <th>BeneID</th>\n",
              "      <th>ClaimID</th>\n",
              "      <th>ClaimStartDt</th>\n",
              "      <th>ClaimEndDt</th>\n",
              "      <th>Provider</th>\n",
              "      <th>InscClaimAmtReimbursed</th>\n",
              "      <th>AttendingPhysician</th>\n",
              "      <th>OperatingPhysician</th>\n",
              "      <th>OtherPhysician</th>\n",
              "      <th>AdmissionDt</th>\n",
              "      <th>...</th>\n",
              "      <th>ClmDiagnosisCode_7</th>\n",
              "      <th>ClmDiagnosisCode_8</th>\n",
              "      <th>ClmDiagnosisCode_9</th>\n",
              "      <th>ClmDiagnosisCode_10</th>\n",
              "      <th>ClmProcedureCode_1</th>\n",
              "      <th>ClmProcedureCode_2</th>\n",
              "      <th>ClmProcedureCode_3</th>\n",
              "      <th>ClmProcedureCode_4</th>\n",
              "      <th>ClmProcedureCode_5</th>\n",
              "      <th>ClmProcedureCode_6</th>\n",
              "    </tr>\n",
              "  </thead>\n",
              "  <tbody>\n",
              "    <tr>\n",
              "      <th>0</th>\n",
              "      <td>BENE11001</td>\n",
              "      <td>CLM46614</td>\n",
              "      <td>2009-04-12</td>\n",
              "      <td>2009-04-18</td>\n",
              "      <td>PRV55912</td>\n",
              "      <td>26000</td>\n",
              "      <td>PHY390922</td>\n",
              "      <td>NaN</td>\n",
              "      <td>NaN</td>\n",
              "      <td>2009-04-12</td>\n",
              "      <td>...</td>\n",
              "      <td>2724</td>\n",
              "      <td>19889</td>\n",
              "      <td>5849</td>\n",
              "      <td>NaN</td>\n",
              "      <td>NaN</td>\n",
              "      <td>NaN</td>\n",
              "      <td>NaN</td>\n",
              "      <td>NaN</td>\n",
              "      <td>NaN</td>\n",
              "      <td>NaN</td>\n",
              "    </tr>\n",
              "    <tr>\n",
              "      <th>1</th>\n",
              "      <td>BENE11001</td>\n",
              "      <td>CLM66048</td>\n",
              "      <td>2009-08-31</td>\n",
              "      <td>2009-09-02</td>\n",
              "      <td>PRV55907</td>\n",
              "      <td>5000</td>\n",
              "      <td>PHY318495</td>\n",
              "      <td>PHY318495</td>\n",
              "      <td>NaN</td>\n",
              "      <td>2009-08-31</td>\n",
              "      <td>...</td>\n",
              "      <td>NaN</td>\n",
              "      <td>NaN</td>\n",
              "      <td>NaN</td>\n",
              "      <td>NaN</td>\n",
              "      <td>7092.0</td>\n",
              "      <td>NaN</td>\n",
              "      <td>NaN</td>\n",
              "      <td>NaN</td>\n",
              "      <td>NaN</td>\n",
              "      <td>NaN</td>\n",
              "    </tr>\n",
              "    <tr>\n",
              "      <th>2</th>\n",
              "      <td>BENE11001</td>\n",
              "      <td>CLM68358</td>\n",
              "      <td>2009-09-17</td>\n",
              "      <td>2009-09-20</td>\n",
              "      <td>PRV56046</td>\n",
              "      <td>5000</td>\n",
              "      <td>PHY372395</td>\n",
              "      <td>NaN</td>\n",
              "      <td>PHY324689</td>\n",
              "      <td>2009-09-17</td>\n",
              "      <td>...</td>\n",
              "      <td>NaN</td>\n",
              "      <td>NaN</td>\n",
              "      <td>NaN</td>\n",
              "      <td>NaN</td>\n",
              "      <td>NaN</td>\n",
              "      <td>NaN</td>\n",
              "      <td>NaN</td>\n",
              "      <td>NaN</td>\n",
              "      <td>NaN</td>\n",
              "      <td>NaN</td>\n",
              "    </tr>\n",
              "    <tr>\n",
              "      <th>3</th>\n",
              "      <td>BENE11011</td>\n",
              "      <td>CLM38412</td>\n",
              "      <td>2009-02-14</td>\n",
              "      <td>2009-02-22</td>\n",
              "      <td>PRV52405</td>\n",
              "      <td>5000</td>\n",
              "      <td>PHY369659</td>\n",
              "      <td>PHY392961</td>\n",
              "      <td>PHY349768</td>\n",
              "      <td>2009-02-14</td>\n",
              "      <td>...</td>\n",
              "      <td>25062</td>\n",
              "      <td>40390</td>\n",
              "      <td>4019</td>\n",
              "      <td>NaN</td>\n",
              "      <td>331.0</td>\n",
              "      <td>NaN</td>\n",
              "      <td>NaN</td>\n",
              "      <td>NaN</td>\n",
              "      <td>NaN</td>\n",
              "      <td>NaN</td>\n",
              "    </tr>\n",
              "    <tr>\n",
              "      <th>4</th>\n",
              "      <td>BENE11014</td>\n",
              "      <td>CLM63689</td>\n",
              "      <td>2009-08-13</td>\n",
              "      <td>2009-08-30</td>\n",
              "      <td>PRV56614</td>\n",
              "      <td>10000</td>\n",
              "      <td>PHY379376</td>\n",
              "      <td>PHY398258</td>\n",
              "      <td>NaN</td>\n",
              "      <td>2009-08-13</td>\n",
              "      <td>...</td>\n",
              "      <td>5119</td>\n",
              "      <td>29620</td>\n",
              "      <td>20300</td>\n",
              "      <td>NaN</td>\n",
              "      <td>3893.0</td>\n",
              "      <td>NaN</td>\n",
              "      <td>NaN</td>\n",
              "      <td>NaN</td>\n",
              "      <td>NaN</td>\n",
              "      <td>NaN</td>\n",
              "    </tr>\n",
              "  </tbody>\n",
              "</table>\n",
              "<p>5 rows × 30 columns</p>\n",
              "</div>\n",
              "      <button class=\"colab-df-convert\" onclick=\"convertToInteractive('df-c4a9c056-a1f6-4a50-855a-04e22c16be22')\"\n",
              "              title=\"Convert this dataframe to an interactive table.\"\n",
              "              style=\"display:none;\">\n",
              "        \n",
              "  <svg xmlns=\"http://www.w3.org/2000/svg\" height=\"24px\"viewBox=\"0 0 24 24\"\n",
              "       width=\"24px\">\n",
              "    <path d=\"M0 0h24v24H0V0z\" fill=\"none\"/>\n",
              "    <path d=\"M18.56 5.44l.94 2.06.94-2.06 2.06-.94-2.06-.94-.94-2.06-.94 2.06-2.06.94zm-11 1L8.5 8.5l.94-2.06 2.06-.94-2.06-.94L8.5 2.5l-.94 2.06-2.06.94zm10 10l.94 2.06.94-2.06 2.06-.94-2.06-.94-.94-2.06-.94 2.06-2.06.94z\"/><path d=\"M17.41 7.96l-1.37-1.37c-.4-.4-.92-.59-1.43-.59-.52 0-1.04.2-1.43.59L10.3 9.45l-7.72 7.72c-.78.78-.78 2.05 0 2.83L4 21.41c.39.39.9.59 1.41.59.51 0 1.02-.2 1.41-.59l7.78-7.78 2.81-2.81c.8-.78.8-2.07 0-2.86zM5.41 20L4 18.59l7.72-7.72 1.47 1.35L5.41 20z\"/>\n",
              "  </svg>\n",
              "      </button>\n",
              "      \n",
              "  <style>\n",
              "    .colab-df-container {\n",
              "      display:flex;\n",
              "      flex-wrap:wrap;\n",
              "      gap: 12px;\n",
              "    }\n",
              "\n",
              "    .colab-df-convert {\n",
              "      background-color: #E8F0FE;\n",
              "      border: none;\n",
              "      border-radius: 50%;\n",
              "      cursor: pointer;\n",
              "      display: none;\n",
              "      fill: #1967D2;\n",
              "      height: 32px;\n",
              "      padding: 0 0 0 0;\n",
              "      width: 32px;\n",
              "    }\n",
              "\n",
              "    .colab-df-convert:hover {\n",
              "      background-color: #E2EBFA;\n",
              "      box-shadow: 0px 1px 2px rgba(60, 64, 67, 0.3), 0px 1px 3px 1px rgba(60, 64, 67, 0.15);\n",
              "      fill: #174EA6;\n",
              "    }\n",
              "\n",
              "    [theme=dark] .colab-df-convert {\n",
              "      background-color: #3B4455;\n",
              "      fill: #D2E3FC;\n",
              "    }\n",
              "\n",
              "    [theme=dark] .colab-df-convert:hover {\n",
              "      background-color: #434B5C;\n",
              "      box-shadow: 0px 1px 3px 1px rgba(0, 0, 0, 0.15);\n",
              "      filter: drop-shadow(0px 1px 2px rgba(0, 0, 0, 0.3));\n",
              "      fill: #FFFFFF;\n",
              "    }\n",
              "  </style>\n",
              "\n",
              "      <script>\n",
              "        const buttonEl =\n",
              "          document.querySelector('#df-c4a9c056-a1f6-4a50-855a-04e22c16be22 button.colab-df-convert');\n",
              "        buttonEl.style.display =\n",
              "          google.colab.kernel.accessAllowed ? 'block' : 'none';\n",
              "\n",
              "        async function convertToInteractive(key) {\n",
              "          const element = document.querySelector('#df-c4a9c056-a1f6-4a50-855a-04e22c16be22');\n",
              "          const dataTable =\n",
              "            await google.colab.kernel.invokeFunction('convertToInteractive',\n",
              "                                                     [key], {});\n",
              "          if (!dataTable) return;\n",
              "\n",
              "          const docLinkHtml = 'Like what you see? Visit the ' +\n",
              "            '<a target=\"_blank\" href=https://colab.research.google.com/notebooks/data_table.ipynb>data table notebook</a>'\n",
              "            + ' to learn more about interactive tables.';\n",
              "          element.innerHTML = '';\n",
              "          dataTable['output_type'] = 'display_data';\n",
              "          await google.colab.output.renderOutput(dataTable, element);\n",
              "          const docLink = document.createElement('div');\n",
              "          docLink.innerHTML = docLinkHtml;\n",
              "          element.appendChild(docLink);\n",
              "        }\n",
              "      </script>\n",
              "    </div>\n",
              "  </div>\n",
              "  "
            ]
          },
          "metadata": {},
          "execution_count": 3
        }
      ]
    },
    {
      "cell_type": "code",
      "source": [
        "train_inpatientdata.shape"
      ],
      "metadata": {
        "colab": {
          "base_uri": "https://localhost:8080/"
        },
        "id": "d11ioWN7L76T",
        "outputId": "e1e2a088-9a1b-4e76-e64e-f819b479f98b"
      },
      "execution_count": 4,
      "outputs": [
        {
          "output_type": "execute_result",
          "data": {
            "text/plain": [
              "(40474, 30)"
            ]
          },
          "metadata": {},
          "execution_count": 4
        }
      ]
    },
    {
      "cell_type": "code",
      "source": [
        "train_inpatientdata.columns"
      ],
      "metadata": {
        "colab": {
          "base_uri": "https://localhost:8080/"
        },
        "id": "mPKtAREkf7LK",
        "outputId": "0f787e53-a196-4df6-c678-ea5665eb8b0b"
      },
      "execution_count": 5,
      "outputs": [
        {
          "output_type": "execute_result",
          "data": {
            "text/plain": [
              "Index(['BeneID', 'ClaimID', 'ClaimStartDt', 'ClaimEndDt', 'Provider',\n",
              "       'InscClaimAmtReimbursed', 'AttendingPhysician', 'OperatingPhysician',\n",
              "       'OtherPhysician', 'AdmissionDt', 'ClmAdmitDiagnosisCode',\n",
              "       'DeductibleAmtPaid', 'DischargeDt', 'DiagnosisGroupCode',\n",
              "       'ClmDiagnosisCode_1', 'ClmDiagnosisCode_2', 'ClmDiagnosisCode_3',\n",
              "       'ClmDiagnosisCode_4', 'ClmDiagnosisCode_5', 'ClmDiagnosisCode_6',\n",
              "       'ClmDiagnosisCode_7', 'ClmDiagnosisCode_8', 'ClmDiagnosisCode_9',\n",
              "       'ClmDiagnosisCode_10', 'ClmProcedureCode_1', 'ClmProcedureCode_2',\n",
              "       'ClmProcedureCode_3', 'ClmProcedureCode_4', 'ClmProcedureCode_5',\n",
              "       'ClmProcedureCode_6'],\n",
              "      dtype='object')"
            ]
          },
          "metadata": {},
          "execution_count": 5
        }
      ]
    },
    {
      "cell_type": "code",
      "source": [
        "train_inpatientdata.isnull().sum()"
      ],
      "metadata": {
        "colab": {
          "base_uri": "https://localhost:8080/"
        },
        "id": "HKjpbglWgEqz",
        "outputId": "1c3d96c9-3209-4fce-f686-3b249f817d5b"
      },
      "execution_count": 6,
      "outputs": [
        {
          "output_type": "execute_result",
          "data": {
            "text/plain": [
              "BeneID                        0\n",
              "ClaimID                       0\n",
              "ClaimStartDt                  0\n",
              "ClaimEndDt                    0\n",
              "Provider                      0\n",
              "InscClaimAmtReimbursed        0\n",
              "AttendingPhysician          112\n",
              "OperatingPhysician        16644\n",
              "OtherPhysician            35784\n",
              "AdmissionDt                   0\n",
              "ClmAdmitDiagnosisCode         0\n",
              "DeductibleAmtPaid           899\n",
              "DischargeDt                   0\n",
              "DiagnosisGroupCode            0\n",
              "ClmDiagnosisCode_1            0\n",
              "ClmDiagnosisCode_2          226\n",
              "ClmDiagnosisCode_3          676\n",
              "ClmDiagnosisCode_4         1534\n",
              "ClmDiagnosisCode_5         2894\n",
              "ClmDiagnosisCode_6         4838\n",
              "ClmDiagnosisCode_7         7258\n",
              "ClmDiagnosisCode_8         9942\n",
              "ClmDiagnosisCode_9        13497\n",
              "ClmDiagnosisCode_10       36547\n",
              "ClmProcedureCode_1        17326\n",
              "ClmProcedureCode_2        35020\n",
              "ClmProcedureCode_3        39509\n",
              "ClmProcedureCode_4        40358\n",
              "ClmProcedureCode_5        40465\n",
              "ClmProcedureCode_6        40474\n",
              "dtype: int64"
            ]
          },
          "metadata": {},
          "execution_count": 6
        }
      ]
    },
    {
      "cell_type": "code",
      "source": [
        "train_inpatientdata1=train_inpatientdata\n",
        "cols=['AttendingPhysician','OperatingPhysician','OtherPhysician']\n",
        "train_inpatientdata1[\"claim_has_at_least_one_physician\"] = train_inpatientdata1[cols].notna().any(axis=1).map({True: 'Yes', False: 'No'})\n"
      ],
      "metadata": {
        "id": "a6ka7rBEOjtG"
      },
      "execution_count": 7,
      "outputs": []
    },
    {
      "cell_type": "code",
      "source": [
        "c1=train_inpatientdata1.groupby('claim_has_at_least_one_physician').size()\n",
        "print(c1)"
      ],
      "metadata": {
        "id": "PtbFOVbURDuN",
        "outputId": "9143fd3d-0180-489c-cffb-4316ac506298",
        "colab": {
          "base_uri": "https://localhost:8080/"
        }
      },
      "execution_count": 8,
      "outputs": [
        {
          "output_type": "stream",
          "name": "stdout",
          "text": [
            "claim_has_at_least_one_physician\n",
            "No       106\n",
            "Yes    40368\n",
            "dtype: int64\n"
          ]
        }
      ]
    },
    {
      "cell_type": "markdown",
      "source": [
        "Outcome:\n"
      ],
      "metadata": {
        "id": "bvoWmzq1JWON"
      }
    },
    {
      "cell_type": "code",
      "source": [
        "import matplotlib.pyplot as plt\n",
        "\n",
        "# Count the number of 'Yes' and 'No' values in the column\n",
        "counts = train_inpatientdata1['claim_has_at_least_one_physician'].value_counts()\n",
        "\n",
        "# Create a bar plot\n",
        "plt.bar(counts.index, counts.values)\n",
        "\n",
        "# Set plot title and labels\n",
        "plt.title('Claim Has at Least One Physician')\n",
        "plt.xlabel('Presence of Physician')\n",
        "plt.ylabel('Count')\n",
        "\n",
        "# Display the plot\n",
        "plt.show()\n"
      ],
      "metadata": {
        "id": "PheX65-lUbX9",
        "outputId": "d12e6046-e7fa-45e1-97a0-c964b2b0f766",
        "colab": {
          "base_uri": "https://localhost:8080/",
          "height": 472
        }
      },
      "execution_count": 9,
      "outputs": [
        {
          "output_type": "display_data",
          "data": {
            "text/plain": [
              "<Figure size 640x480 with 1 Axes>"
            ],
            "image/png": "[encoded data removed]"
          },
          "metadata": {}
        }
      ]
    },
    {
      "cell_type": "code",
      "source": [
        "\n",
        "from datetime import datetime\n",
        "def calculate_days_between(df, start_col, end_col):\n",
        "    start_dates = pd.to_datetime(df[start_col])\n",
        "    end_dates = pd.to_datetime(df[end_col])\n",
        "    delta = end_dates - start_dates\n",
        "    return delta.dt.days\n"
      ],
      "metadata": {
        "id": "FtLLKGJ3flhM"
      },
      "execution_count": 10,
      "outputs": []
    },
    {
      "cell_type": "code",
      "source": [
        "\n",
        "train_inpatientdata['claim_days'] = calculate_days_between(train_inpatientdata,'ClaimStartDt','ClaimEndDt')"
      ],
      "metadata": {
        "id": "Mq1pRsmfhQAH"
      },
      "execution_count": 11,
      "outputs": []
    },
    {
      "cell_type": "code",
      "source": [
        "print('Min claimday Train:- ',train_inpatientdata['claim_days'].min())\n",
        "print('Max claimday Train:- ',train_inpatientdata['claim_days'].max())\n"
      ],
      "metadata": {
        "colab": {
          "base_uri": "https://localhost:8080/"
        },
        "id": "ClClBtgTh8X0",
        "outputId": "8a7a4d12-5bc0-4407-fb74-7ef20432124d"
      },
      "execution_count": 13,
      "outputs": [
        {
          "output_type": "stream",
          "name": "stdout",
          "text": [
            "Min claimday Train:-  0\n",
            "Max claimday Train:-  36\n"
          ]
        }
      ]
    },
    {
      "cell_type": "markdown",
      "source": [
        "OUTPATIENT DATA"
      ],
      "metadata": {
        "id": "R9T3bRiFiSAc"
      }
    },
    {
      "cell_type": "code",
      "source": [
        "train_outpatientdata=pd.read_csv('Train_Outpatientdata-1542865627584.csv')\n",
        "train_outpatientdata.head()"
      ],
      "metadata": {
        "colab": {
          "base_uri": "https://localhost:8080/",
          "height": 300
        },
        "id": "AuDVuJz9UUfX",
        "outputId": "083a71c4-30a4-49e6-8607-472abb5475d9"
      },
      "execution_count": 14,
      "outputs": [
        {
          "output_type": "execute_result",
          "data": {
            "text/plain": [
              "      BeneID    ClaimID ClaimStartDt  ClaimEndDt  Provider  \\\n",
              "0  BENE11002  CLM624349   2009-10-11  2009-10-11  PRV56011   \n",
              "1  BENE11003  CLM189947   2009-02-12  2009-02-12  PRV57610   \n",
              "2  BENE11003  CLM438021   2009-06-27  2009-06-27  PRV57595   \n",
              "3  BENE11004  CLM121801   2009-01-06  2009-01-06  PRV56011   \n",
              "4  BENE11004  CLM150998   2009-01-22  2009-01-22  PRV56011   \n",
              "\n",
              "   InscClaimAmtReimbursed AttendingPhysician OperatingPhysician  \\\n",
              "0                      30          PHY326117                NaN   \n",
              "1                      80          PHY362868                NaN   \n",
              "2                      10          PHY328821                NaN   \n",
              "3                      40          PHY334319                NaN   \n",
              "4                     200          PHY403831                NaN   \n",
              "\n",
              "  OtherPhysician ClmDiagnosisCode_1  ... ClmDiagnosisCode_9  \\\n",
              "0            NaN              78943  ...                NaN   \n",
              "1            NaN               6115  ...                NaN   \n",
              "2            NaN               2723  ...                NaN   \n",
              "3            NaN              71988  ...                NaN   \n",
              "4            NaN              82382  ...                NaN   \n",
              "\n",
              "  ClmDiagnosisCode_10 ClmProcedureCode_1 ClmProcedureCode_2  \\\n",
              "0                 NaN                NaN                NaN   \n",
              "1                 NaN                NaN                NaN   \n",
              "2                 NaN                NaN                NaN   \n",
              "3                 NaN                NaN                NaN   \n",
              "4                 NaN                NaN                NaN   \n",
              "\n",
              "  ClmProcedureCode_3 ClmProcedureCode_4 ClmProcedureCode_5 ClmProcedureCode_6  \\\n",
              "0                NaN                NaN                NaN                NaN   \n",
              "1                NaN                NaN                NaN                NaN   \n",
              "2                NaN                NaN                NaN                NaN   \n",
              "3                NaN                NaN                NaN                NaN   \n",
              "4                NaN                NaN                NaN                NaN   \n",
              "\n",
              "  DeductibleAmtPaid  ClmAdmitDiagnosisCode  \n",
              "0               0.0                  56409  \n",
              "1               0.0                  79380  \n",
              "2               0.0                    NaN  \n",
              "3               0.0                    NaN  \n",
              "4               0.0                  71947  \n",
              "\n",
              "[5 rows x 27 columns]"
            ],
            "text/html": [
              "\n",
              "  <div id=\"df-0f7584d0-ecd9-4887-90eb-9b9ef3902615\">\n",
              "    <div class=\"colab-df-container\">\n",
              "      <div>\n",
              "<style scoped>\n",
              "    .dataframe tbody tr th:only-of-type {\n",
              "        vertical-align: middle;\n",
              "    }\n",
              "\n",
              "    .dataframe tbody tr th {\n",
              "        vertical-align: top;\n",
              "    }\n",
              "\n",
              "    .dataframe thead th {\n",
              "        text-align: right;\n",
              "    }\n",
              "</style>\n",
              "<table border=\"1\" class=\"dataframe\">\n",
              "  <thead>\n",
              "    <tr style=\"text-align: right;\">\n",
              "      <th></th>\n",
              "      <th>BeneID</th>\n",
              "      <th>ClaimID</th>\n",
              "      <th>ClaimStartDt</th>\n",
              "      <th>ClaimEndDt</th>\n",
              "      <th>Provider</th>\n",
              "      <th>InscClaimAmtReimbursed</th>\n",
              "      <th>AttendingPhysician</th>\n",
              "      <th>OperatingPhysician</th>\n",
              "      <th>OtherPhysician</th>\n",
              "      <th>ClmDiagnosisCode_1</th>\n",
              "      <th>...</th>\n",
              "      <th>ClmDiagnosisCode_9</th>\n",
              "      <th>ClmDiagnosisCode_10</th>\n",
              "      <th>ClmProcedureCode_1</th>\n",
              "      <th>ClmProcedureCode_2</th>\n",
              "      <th>ClmProcedureCode_3</th>\n",
              "      <th>ClmProcedureCode_4</th>\n",
              "      <th>ClmProcedureCode_5</th>\n",
              "      <th>ClmProcedureCode_6</th>\n",
              "      <th>DeductibleAmtPaid</th>\n",
              "      <th>ClmAdmitDiagnosisCode</th>\n",
              "    </tr>\n",
              "  </thead>\n",
              "  <tbody>\n",
              "    <tr>\n",
              "      <th>0</th>\n",
              "      <td>BENE11002</td>\n",
              "      <td>CLM624349</td>\n",
              "      <td>2009-10-11</td>\n",
              "      <td>2009-10-11</td>\n",
              "      <td>PRV56011</td>\n",
              "      <td>30</td>\n",
              "      <td>PHY326117</td>\n",
              "      <td>NaN</td>\n",
              "      <td>NaN</td>\n",
              "      <td>78943</td>\n",
              "      <td>...</td>\n",
              "      <td>NaN</td>\n",
              "      <td>NaN</td>\n",
              "      <td>NaN</td>\n",
              "      <td>NaN</td>\n",
              "      <td>NaN</td>\n",
              "      <td>NaN</td>\n",
              "      <td>NaN</td>\n",
              "      <td>NaN</td>\n",
              "      <td>0.0</td>\n",
              "      <td>56409</td>\n",
              "    </tr>\n",
              "    <tr>\n",
              "      <th>1</th>\n",
              "      <td>BENE11003</td>\n",
              "      <td>CLM189947</td>\n",
              "      <td>2009-02-12</td>\n",
              "      <td>2009-02-12</td>\n",
              "      <td>PRV57610</td>\n",
              "      <td>80</td>\n",
              "      <td>PHY362868</td>\n",
              "      <td>NaN</td>\n",
              "      <td>NaN</td>\n",
              "      <td>6115</td>\n",
              "      <td>...</td>\n",
              "      <td>NaN</td>\n",
              "      <td>NaN</td>\n",
              "      <td>NaN</td>\n",
              "      <td>NaN</td>\n",
              "      <td>NaN</td>\n",
              "      <td>NaN</td>\n",
              "      <td>NaN</td>\n",
              "      <td>NaN</td>\n",
              "      <td>0.0</td>\n",
              "      <td>79380</td>\n",
              "    </tr>\n",
              "    <tr>\n",
              "      <th>2</th>\n",
              "      <td>BENE11003</td>\n",
              "      <td>CLM438021</td>\n",
              "      <td>2009-06-27</td>\n",
              "      <td>2009-06-27</td>\n",
              "      <td>PRV57595</td>\n",
              "      <td>10</td>\n",
              "      <td>PHY328821</td>\n",
              "      <td>NaN</td>\n",
              "      <td>NaN</td>\n",
              "      <td>2723</td>\n",
              "      <td>...</td>\n",
              "      <td>NaN</td>\n",
              "      <td>NaN</td>\n",
              "      <td>NaN</td>\n",
              "      <td>NaN</td>\n",
              "      <td>NaN</td>\n",
              "      <td>NaN</td>\n",
              "      <td>NaN</td>\n",
              "      <td>NaN</td>\n",
              "      <td>0.0</td>\n",
              "      <td>NaN</td>\n",
              "    </tr>\n",
              "    <tr>\n",
              "      <th>3</th>\n",
              "      <td>BENE11004</td>\n",
              "      <td>CLM121801</td>\n",
              "      <td>2009-01-06</td>\n",
              "      <td>2009-01-06</td>\n",
              "      <td>PRV56011</td>\n",
              "      <td>40</td>\n",
              "      <td>PHY334319</td>\n",
              "      <td>NaN</td>\n",
              "      <td>NaN</td>\n",
              "      <td>71988</td>\n",
              "      <td>...</td>\n",
              "      <td>NaN</td>\n",
              "      <td>NaN</td>\n",
              "      <td>NaN</td>\n",
              "      <td>NaN</td>\n",
              "      <td>NaN</td>\n",
              "      <td>NaN</td>\n",
              "      <td>NaN</td>\n",
              "      <td>NaN</td>\n",
              "      <td>0.0</td>\n",
              "      <td>NaN</td>\n",
              "    </tr>\n",
              "    <tr>\n",
              "      <th>4</th>\n",
              "      <td>BENE11004</td>\n",
              "      <td>CLM150998</td>\n",
              "      <td>2009-01-22</td>\n",
              "      <td>2009-01-22</td>\n",
              "      <td>PRV56011</td>\n",
              "      <td>200</td>\n",
              "      <td>PHY403831</td>\n",
              "      <td>NaN</td>\n",
              "      <td>NaN</td>\n",
              "      <td>82382</td>\n",
              "      <td>...</td>\n",
              "      <td>NaN</td>\n",
              "      <td>NaN</td>\n",
              "      <td>NaN</td>\n",
              "      <td>NaN</td>\n",
              "      <td>NaN</td>\n",
              "      <td>NaN</td>\n",
              "      <td>NaN</td>\n",
              "      <td>NaN</td>\n",
              "      <td>0.0</td>\n",
              "      <td>71947</td>\n",
              "    </tr>\n",
              "  </tbody>\n",
              "</table>\n",
              "<p>5 rows × 27 columns</p>\n",
              "</div>\n",
              "      <button class=\"colab-df-convert\" onclick=\"convertToInteractive('df-0f7584d0-ecd9-4887-90eb-9b9ef3902615')\"\n",
              "              title=\"Convert this dataframe to an interactive table.\"\n",
              "              style=\"display:none;\">\n",
              "        \n",
              "  <svg xmlns=\"http://www.w3.org/2000/svg\" height=\"24px\"viewBox=\"0 0 24 24\"\n",
              "       width=\"24px\">\n",
              "    <path d=\"M0 0h24v24H0V0z\" fill=\"none\"/>\n",
              "    <path d=\"M18.56 5.44l.94 2.06.94-2.06 2.06-.94-2.06-.94-.94-2.06-.94 2.06-2.06.94zm-11 1L8.5 8.5l.94-2.06 2.06-.94-2.06-.94L8.5 2.5l-.94 2.06-2.06.94zm10 10l.94 2.06.94-2.06 2.06-.94-2.06-.94-.94-2.06-.94 2.06-2.06.94z\"/><path d=\"M17.41 7.96l-1.37-1.37c-.4-.4-.92-.59-1.43-.59-.52 0-1.04.2-1.43.59L10.3 9.45l-7.72 7.72c-.78.78-.78 2.05 0 2.83L4 21.41c.39.39.9.59 1.41.59.51 0 1.02-.2 1.41-.59l7.78-7.78 2.81-2.81c.8-.78.8-2.07 0-2.86zM5.41 20L4 18.59l7.72-7.72 1.47 1.35L5.41 20z\"/>\n",
              "  </svg>\n",
              "      </button>\n",
              "      \n",
              "  <style>\n",
              "    .colab-df-container {\n",
              "      display:flex;\n",
              "      flex-wrap:wrap;\n",
              "      gap: 12px;\n",
              "    }\n",
              "\n",
              "    .colab-df-convert {\n",
              "      background-color: #E8F0FE;\n",
              "      border: none;\n",
              "      border-radius: 50%;\n",
              "      cursor: pointer;\n",
              "      display: none;\n",
              "      fill: #1967D2;\n",
              "      height: 32px;\n",
              "      padding: 0 0 0 0;\n",
              "      width: 32px;\n",
              "    }\n",
              "\n",
              "    .colab-df-convert:hover {\n",
              "      background-color: #E2EBFA;\n",
              "      box-shadow: 0px 1px 2px rgba(60, 64, 67, 0.3), 0px 1px 3px 1px rgba(60, 64, 67, 0.15);\n",
              "      fill: #174EA6;\n",
              "    }\n",
              "\n",
              "    [theme=dark] .colab-df-convert {\n",
              "      background-color: #3B4455;\n",
              "      fill: #D2E3FC;\n",
              "    }\n",
              "\n",
              "    [theme=dark] .colab-df-convert:hover {\n",
              "      background-color: #434B5C;\n",
              "      box-shadow: 0px 1px 3px 1px rgba(0, 0, 0, 0.15);\n",
              "      filter: drop-shadow(0px 1px 2px rgba(0, 0, 0, 0.3));\n",
              "      fill: #FFFFFF;\n",
              "    }\n",
              "  </style>\n",
              "\n",
              "      <script>\n",
              "        const buttonEl =\n",
              "          document.querySelector('#df-0f7584d0-ecd9-4887-90eb-9b9ef3902615 button.colab-df-convert');\n",
              "        buttonEl.style.display =\n",
              "          google.colab.kernel.accessAllowed ? 'block' : 'none';\n",
              "\n",
              "        async function convertToInteractive(key) {\n",
              "          const element = document.querySelector('#df-0f7584d0-ecd9-4887-90eb-9b9ef3902615');\n",
              "          const dataTable =\n",
              "            await google.colab.kernel.invokeFunction('convertToInteractive',\n",
              "                                                     [key], {});\n",
              "          if (!dataTable) return;\n",
              "\n",
              "          const docLinkHtml = 'Like what you see? Visit the ' +\n",
              "            '<a target=\"_blank\" href=https://colab.research.google.com/notebooks/data_table.ipynb>data table notebook</a>'\n",
              "            + ' to learn more about interactive tables.';\n",
              "          element.innerHTML = '';\n",
              "          dataTable['output_type'] = 'display_data';\n",
              "          await google.colab.output.renderOutput(dataTable, element);\n",
              "          const docLink = document.createElement('div');\n",
              "          docLink.innerHTML = docLinkHtml;\n",
              "          element.appendChild(docLink);\n",
              "        }\n",
              "      </script>\n",
              "    </div>\n",
              "  </div>\n",
              "  "
            ]
          },
          "metadata": {},
          "execution_count": 14
        }
      ]
    },
    {
      "cell_type": "code",
      "source": [
        "train_outpatientdata.isnull().sum()"
      ],
      "metadata": {
        "colab": {
          "base_uri": "https://localhost:8080/"
        },
        "id": "tor1yvjDjeCv",
        "outputId": "52a8f055-9cae-4b4f-cb8a-f0d0c395a2dc"
      },
      "execution_count": 15,
      "outputs": [
        {
          "output_type": "execute_result",
          "data": {
            "text/plain": [
              "BeneID                         0\n",
              "ClaimID                        0\n",
              "ClaimStartDt                   0\n",
              "ClaimEndDt                     0\n",
              "Provider                       0\n",
              "InscClaimAmtReimbursed         0\n",
              "AttendingPhysician           418\n",
              "OperatingPhysician        133574\n",
              "OtherPhysician            101046\n",
              "ClmDiagnosisCode_1          3292\n",
              "ClmDiagnosisCode_2         61369\n",
              "ClmDiagnosisCode_3         98463\n",
              "ClmDiagnosisCode_4        122698\n",
              "ClmDiagnosisCode_5        138605\n",
              "ClmDiagnosisCode_6        146669\n",
              "ClmDiagnosisCode_7        151589\n",
              "ClmDiagnosisCode_8        154779\n",
              "ClmDiagnosisCode_9        157254\n",
              "ClmDiagnosisCode_10       161478\n",
              "ClmProcedureCode_1        161779\n",
              "ClmProcedureCode_2        161808\n",
              "ClmProcedureCode_3        161818\n",
              "ClmProcedureCode_4        161819\n",
              "ClmProcedureCode_5        161820\n",
              "ClmProcedureCode_6        161820\n",
              "DeductibleAmtPaid              1\n",
              "ClmAdmitDiagnosisCode     128963\n",
              "dtype: int64"
            ]
          },
          "metadata": {},
          "execution_count": 15
        }
      ]
    },
    {
      "cell_type": "code",
      "source": [
        "#Check if all the checkin and  out has happened on same days or not in outpatient data\n",
        "train_outpatientdata['claim_days'] = calculate_days_between(train_outpatientdata,'ClaimStartDt','ClaimEndDt')"
      ],
      "metadata": {
        "id": "1itEofF7kBYg"
      },
      "execution_count": 16,
      "outputs": []
    },
    {
      "cell_type": "code",
      "source": [
        "value_count=train_outpatientdata.groupby('claim_days').size()\n",
        "value_count"
      ],
      "metadata": {
        "colab": {
          "base_uri": "https://localhost:8080/"
        },
        "id": "Yx4iy9_nkSMY",
        "outputId": "443e4be5-431a-47b1-9c06-ff1b1fe53277"
      },
      "execution_count": 17,
      "outputs": [
        {
          "output_type": "execute_result",
          "data": {
            "text/plain": [
              "claim_days\n",
              "0     141995\n",
              "1       3626\n",
              "2       1295\n",
              "3        823\n",
              "4        709\n",
              "5        467\n",
              "6        375\n",
              "7        798\n",
              "8        393\n",
              "9        446\n",
              "10       311\n",
              "11       300\n",
              "12       279\n",
              "13       302\n",
              "14       845\n",
              "15       316\n",
              "16       350\n",
              "17       268\n",
              "18       255\n",
              "19       212\n",
              "20      7453\n",
              "21         1\n",
              "23         1\n",
              "dtype: int64"
            ]
          },
          "metadata": {},
          "execution_count": 17
        }
      ]
    },
    {
      "cell_type": "code",
      "source": [
        "train_inpatientdata[\"is_admitted\"]=1\n",
        "train_outpatientdata[\"is_admitted\"]=0"
      ],
      "metadata": {
        "id": "-wRtLfLXJygK"
      },
      "execution_count": 18,
      "outputs": []
    },
    {
      "cell_type": "code",
      "source": [
        "train_beneficiarydata=pd.read_csv('Train_Beneficiarydata-1542865627584.csv')\n",
        "train_beneficiarydata.head()"
      ],
      "metadata": {
        "colab": {
          "base_uri": "https://localhost:8080/",
          "height": 386
        },
        "id": "zl6eHpE8WaBC",
        "outputId": "846d68fc-6d0b-41c6-9947-e4db4030adc0"
      },
      "execution_count": 19,
      "outputs": [
        {
          "output_type": "execute_result",
          "data": {
            "text/plain": [
              "      BeneID         DOB  DOD  Gender  Race RenalDiseaseIndicator  State  \\\n",
              "0  BENE11001  1943-01-01  NaN       1     1                     0     39   \n",
              "1  BENE11002  1936-09-01  NaN       2     1                     0     39   \n",
              "2  BENE11003  1936-08-01  NaN       1     1                     0     52   \n",
              "3  BENE11004  1922-07-01  NaN       1     1                     0     39   \n",
              "4  BENE11005  1935-09-01  NaN       1     1                     0     24   \n",
              "\n",
              "   County  NoOfMonths_PartACov  NoOfMonths_PartBCov  ...  \\\n",
              "0     230                   12                   12  ...   \n",
              "1     280                   12                   12  ...   \n",
              "2     590                   12                   12  ...   \n",
              "3     270                   12                   12  ...   \n",
              "4     680                   12                   12  ...   \n",
              "\n",
              "   ChronicCond_Depression  ChronicCond_Diabetes  ChronicCond_IschemicHeart  \\\n",
              "0                       1                     1                          1   \n",
              "1                       2                     2                          2   \n",
              "2                       2                     2                          1   \n",
              "3                       2                     1                          1   \n",
              "4                       2                     1                          2   \n",
              "\n",
              "   ChronicCond_Osteoporasis  ChronicCond_rheumatoidarthritis  \\\n",
              "0                         2                                1   \n",
              "1                         2                                2   \n",
              "2                         2                                2   \n",
              "3                         1                                1   \n",
              "4                         2                                2   \n",
              "\n",
              "   ChronicCond_stroke  IPAnnualReimbursementAmt  IPAnnualDeductibleAmt  \\\n",
              "0                   1                     36000                   3204   \n",
              "1                   2                         0                      0   \n",
              "2                   2                         0                      0   \n",
              "3                   2                         0                      0   \n",
              "4                   2                         0                      0   \n",
              "\n",
              "   OPAnnualReimbursementAmt  OPAnnualDeductibleAmt  \n",
              "0                        60                     70  \n",
              "1                        30                     50  \n",
              "2                        90                     40  \n",
              "3                      1810                    760  \n",
              "4                      1790                   1200  \n",
              "\n",
              "[5 rows x 25 columns]"
            ],
            "text/html": [
              "\n",
              "  <div id=\"df-4e016242-3a90-4ac1-b8de-6f0d9e5c7176\">\n",
              "    <div class=\"colab-df-container\">\n",
              "      <div>\n",
              "<style scoped>\n",
              "    .dataframe tbody tr th:only-of-type {\n",
              "        vertical-align: middle;\n",
              "    }\n",
              "\n",
              "    .dataframe tbody tr th {\n",
              "        vertical-align: top;\n",
              "    }\n",
              "\n",
              "    .dataframe thead th {\n",
              "        text-align: right;\n",
              "    }\n",
              "</style>\n",
              "<table border=\"1\" class=\"dataframe\">\n",
              "  <thead>\n",
              "    <tr style=\"text-align: right;\">\n",
              "      <th></th>\n",
              "      <th>BeneID</th>\n",
              "      <th>DOB</th>\n",
              "      <th>DOD</th>\n",
              "      <th>Gender</th>\n",
              "      <th>Race</th>\n",
              "      <th>RenalDiseaseIndicator</th>\n",
              "      <th>State</th>\n",
              "      <th>County</th>\n",
              "      <th>NoOfMonths_PartACov</th>\n",
              "      <th>NoOfMonths_PartBCov</th>\n",
              "      <th>...</th>\n",
              "      <th>ChronicCond_Depression</th>\n",
              "      <th>ChronicCond_Diabetes</th>\n",
              "      <th>ChronicCond_IschemicHeart</th>\n",
              "      <th>ChronicCond_Osteoporasis</th>\n",
              "      <th>ChronicCond_rheumatoidarthritis</th>\n",
              "      <th>ChronicCond_stroke</th>\n",
              "      <th>IPAnnualReimbursementAmt</th>\n",
              "      <th>IPAnnualDeductibleAmt</th>\n",
              "      <th>OPAnnualReimbursementAmt</th>\n",
              "      <th>OPAnnualDeductibleAmt</th>\n",
              "    </tr>\n",
              "  </thead>\n",
              "  <tbody>\n",
              "    <tr>\n",
              "      <th>0</th>\n",
              "      <td>BENE11001</td>\n",
              "      <td>1943-01-01</td>\n",
              "      <td>NaN</td>\n",
              "      <td>1</td>\n",
              "      <td>1</td>\n",
              "      <td>0</td>\n",
              "      <td>39</td>\n",
              "      <td>230</td>\n",
              "      <td>12</td>\n",
              "      <td>12</td>\n",
              "      <td>...</td>\n",
              "      <td>1</td>\n",
              "      <td>1</td>\n",
              "      <td>1</td>\n",
              "      <td>2</td>\n",
              "      <td>1</td>\n",
              "      <td>1</td>\n",
              "      <td>36000</td>\n",
              "      <td>3204</td>\n",
              "      <td>60</td>\n",
              "      <td>70</td>\n",
              "    </tr>\n",
              "    <tr>\n",
              "      <th>1</th>\n",
              "      <td>BENE11002</td>\n",
              "      <td>1936-09-01</td>\n",
              "      <td>NaN</td>\n",
              "      <td>2</td>\n",
              "      <td>1</td>\n",
              "      <td>0</td>\n",
              "      <td>39</td>\n",
              "      <td>280</td>\n",
              "      <td>12</td>\n",
              "      <td>12</td>\n",
              "      <td>...</td>\n",
              "      <td>2</td>\n",
              "      <td>2</td>\n",
              "      <td>2</td>\n",
              "      <td>2</td>\n",
              "      <td>2</td>\n",
              "      <td>2</td>\n",
              "      <td>0</td>\n",
              "      <td>0</td>\n",
              "      <td>30</td>\n",
              "      <td>50</td>\n",
              "    </tr>\n",
              "    <tr>\n",
              "      <th>2</th>\n",
              "      <td>BENE11003</td>\n",
              "      <td>1936-08-01</td>\n",
              "      <td>NaN</td>\n",
              "      <td>1</td>\n",
              "      <td>1</td>\n",
              "      <td>0</td>\n",
              "      <td>52</td>\n",
              "      <td>590</td>\n",
              "      <td>12</td>\n",
              "      <td>12</td>\n",
              "      <td>...</td>\n",
              "      <td>2</td>\n",
              "      <td>2</td>\n",
              "      <td>1</td>\n",
              "      <td>2</td>\n",
              "      <td>2</td>\n",
              "      <td>2</td>\n",
              "      <td>0</td>\n",
              "      <td>0</td>\n",
              "      <td>90</td>\n",
              "      <td>40</td>\n",
              "    </tr>\n",
              "    <tr>\n",
              "      <th>3</th>\n",
              "      <td>BENE11004</td>\n",
              "      <td>1922-07-01</td>\n",
              "      <td>NaN</td>\n",
              "      <td>1</td>\n",
              "      <td>1</td>\n",
              "      <td>0</td>\n",
              "      <td>39</td>\n",
              "      <td>270</td>\n",
              "      <td>12</td>\n",
              "      <td>12</td>\n",
              "      <td>...</td>\n",
              "      <td>2</td>\n",
              "      <td>1</td>\n",
              "      <td>1</td>\n",
              "      <td>1</td>\n",
              "      <td>1</td>\n",
              "      <td>2</td>\n",
              "      <td>0</td>\n",
              "      <td>0</td>\n",
              "      <td>1810</td>\n",
              "      <td>760</td>\n",
              "    </tr>\n",
              "    <tr>\n",
              "      <th>4</th>\n",
              "      <td>BENE11005</td>\n",
              "      <td>1935-09-01</td>\n",
              "      <td>NaN</td>\n",
              "      <td>1</td>\n",
              "      <td>1</td>\n",
              "      <td>0</td>\n",
              "      <td>24</td>\n",
              "      <td>680</td>\n",
              "      <td>12</td>\n",
              "      <td>12</td>\n",
              "      <td>...</td>\n",
              "      <td>2</td>\n",
              "      <td>1</td>\n",
              "      <td>2</td>\n",
              "      <td>2</td>\n",
              "      <td>2</td>\n",
              "      <td>2</td>\n",
              "      <td>0</td>\n",
              "      <td>0</td>\n",
              "      <td>1790</td>\n",
              "      <td>1200</td>\n",
              "    </tr>\n",
              "  </tbody>\n",
              "</table>\n",
              "<p>5 rows × 25 columns</p>\n",
              "</div>\n",
              "      <button class=\"colab-df-convert\" onclick=\"convertToInteractive('df-4e016242-3a90-4ac1-b8de-6f0d9e5c7176')\"\n",
              "              title=\"Convert this dataframe to an interactive table.\"\n",
              "              style=\"display:none;\">\n",
              "        \n",
              "  <svg xmlns=\"http://www.w3.org/2000/svg\" height=\"24px\"viewBox=\"0 0 24 24\"\n",
              "       width=\"24px\">\n",
              "    <path d=\"M0 0h24v24H0V0z\" fill=\"none\"/>\n",
              "    <path d=\"M18.56 5.44l.94 2.06.94-2.06 2.06-.94-2.06-.94-.94-2.06-.94 2.06-2.06.94zm-11 1L8.5 8.5l.94-2.06 2.06-.94-2.06-.94L8.5 2.5l-.94 2.06-2.06.94zm10 10l.94 2.06.94-2.06 2.06-.94-2.06-.94-.94-2.06-.94 2.06-2.06.94z\"/><path d=\"M17.41 7.96l-1.37-1.37c-.4-.4-.92-.59-1.43-.59-.52 0-1.04.2-1.43.59L10.3 9.45l-7.72 7.72c-.78.78-.78 2.05 0 2.83L4 21.41c.39.39.9.59 1.41.59.51 0 1.02-.2 1.41-.59l7.78-7.78 2.81-2.81c.8-.78.8-2.07 0-2.86zM5.41 20L4 18.59l7.72-7.72 1.47 1.35L5.41 20z\"/>\n",
              "  </svg>\n",
              "      </button>\n",
              "      \n",
              "  <style>\n",
              "    .colab-df-container {\n",
              "      display:flex;\n",
              "      flex-wrap:wrap;\n",
              "      gap: 12px;\n",
              "    }\n",
              "\n",
              "    .colab-df-convert {\n",
              "      background-color: #E8F0FE;\n",
              "      border: none;\n",
              "      border-radius: 50%;\n",
              "      cursor: pointer;\n",
              "      display: none;\n",
              "      fill: #1967D2;\n",
              "      height: 32px;\n",
              "      padding: 0 0 0 0;\n",
              "      width: 32px;\n",
              "    }\n",
              "\n",
              "    .colab-df-convert:hover {\n",
              "      background-color: #E2EBFA;\n",
              "      box-shadow: 0px 1px 2px rgba(60, 64, 67, 0.3), 0px 1px 3px 1px rgba(60, 64, 67, 0.15);\n",
              "      fill: #174EA6;\n",
              "    }\n",
              "\n",
              "    [theme=dark] .colab-df-convert {\n",
              "      background-color: #3B4455;\n",
              "      fill: #D2E3FC;\n",
              "    }\n",
              "\n",
              "    [theme=dark] .colab-df-convert:hover {\n",
              "      background-color: #434B5C;\n",
              "      box-shadow: 0px 1px 3px 1px rgba(0, 0, 0, 0.15);\n",
              "      filter: drop-shadow(0px 1px 2px rgba(0, 0, 0, 0.3));\n",
              "      fill: #FFFFFF;\n",
              "    }\n",
              "  </style>\n",
              "\n",
              "      <script>\n",
              "        const buttonEl =\n",
              "          document.querySelector('#df-4e016242-3a90-4ac1-b8de-6f0d9e5c7176 button.colab-df-convert');\n",
              "        buttonEl.style.display =\n",
              "          google.colab.kernel.accessAllowed ? 'block' : 'none';\n",
              "\n",
              "        async function convertToInteractive(key) {\n",
              "          const element = document.querySelector('#df-4e016242-3a90-4ac1-b8de-6f0d9e5c7176');\n",
              "          const dataTable =\n",
              "            await google.colab.kernel.invokeFunction('convertToInteractive',\n",
              "                                                     [key], {});\n",
              "          if (!dataTable) return;\n",
              "\n",
              "          const docLinkHtml = 'Like what you see? Visit the ' +\n",
              "            '<a target=\"_blank\" href=https://colab.research.google.com/notebooks/data_table.ipynb>data table notebook</a>'\n",
              "            + ' to learn more about interactive tables.';\n",
              "          element.innerHTML = '';\n",
              "          dataTable['output_type'] = 'display_data';\n",
              "          await google.colab.output.renderOutput(dataTable, element);\n",
              "          const docLink = document.createElement('div');\n",
              "          docLink.innerHTML = docLinkHtml;\n",
              "          element.appendChild(docLink);\n",
              "        }\n",
              "      </script>\n",
              "    </div>\n",
              "  </div>\n",
              "  "
            ]
          },
          "metadata": {},
          "execution_count": 19
        }
      ]
    },
    {
      "cell_type": "code",
      "source": [
        "train_beneficiarydata.shape"
      ],
      "metadata": {
        "colab": {
          "base_uri": "https://localhost:8080/"
        },
        "id": "Tqbzv3yScXFU",
        "outputId": "4f7b1de5-8e46-4e92-d395-2aa0c913bdac"
      },
      "execution_count": 20,
      "outputs": [
        {
          "output_type": "execute_result",
          "data": {
            "text/plain": [
              "(138556, 25)"
            ]
          },
          "metadata": {},
          "execution_count": 20
        }
      ]
    },
    {
      "cell_type": "code",
      "source": [
        "train_beneficiarydata.isnull().sum()"
      ],
      "metadata": {
        "colab": {
          "base_uri": "https://localhost:8080/"
        },
        "id": "SMqeZx7QcRqK",
        "outputId": "7c1a850f-be26-43e4-895f-0e65102a2b9e"
      },
      "execution_count": 21,
      "outputs": [
        {
          "output_type": "execute_result",
          "data": {
            "text/plain": [
              "BeneID                                  0\n",
              "DOB                                     0\n",
              "DOD                                137135\n",
              "Gender                                  0\n",
              "Race                                    0\n",
              "RenalDiseaseIndicator                   0\n",
              "State                                   0\n",
              "County                                  0\n",
              "NoOfMonths_PartACov                     0\n",
              "NoOfMonths_PartBCov                     0\n",
              "ChronicCond_Alzheimer                   0\n",
              "ChronicCond_Heartfailure                0\n",
              "ChronicCond_KidneyDisease               0\n",
              "ChronicCond_Cancer                      0\n",
              "ChronicCond_ObstrPulmonary              0\n",
              "ChronicCond_Depression                  0\n",
              "ChronicCond_Diabetes                    0\n",
              "ChronicCond_IschemicHeart               0\n",
              "ChronicCond_Osteoporasis                0\n",
              "ChronicCond_rheumatoidarthritis         0\n",
              "ChronicCond_stroke                      0\n",
              "IPAnnualReimbursementAmt                0\n",
              "IPAnnualDeductibleAmt                   0\n",
              "OPAnnualReimbursementAmt                0\n",
              "OPAnnualDeductibleAmt                   0\n",
              "dtype: int64"
            ]
          },
          "metadata": {},
          "execution_count": 21
        }
      ]
    },
    {
      "cell_type": "markdown",
      "source": [
        "The code lacks DOD but it cannot be removed or filtered.We will get the age which might play role in the datset model\n"
      ],
      "metadata": {
        "id": "faKdHGgPcct3"
      }
    },
    {
      "cell_type": "code",
      "source": [
        "#Adding a column is_dead  = 1  DOD is given else is_dead = 0\n",
        "train_beneficiarydata.loc[train_beneficiarydata['DOD'].isnull(), 'Is_Dead'] = '0'\n",
        "train_beneficiarydata.loc[(train_beneficiarydata['DOD'].notnull()), 'Is_Dead'] = '1'\n"
      ],
      "metadata": {
        "id": "a7u7GFMUc9QR"
      },
      "execution_count": 22,
      "outputs": []
    },
    {
      "cell_type": "code",
      "source": [
        "train_beneficiarydata.isnull().sum()"
      ],
      "metadata": {
        "colab": {
          "base_uri": "https://localhost:8080/"
        },
        "id": "5ySv6uj2c9AF",
        "outputId": "d3d09509-b3e1-4e1b-d818-a24c4de0ee78"
      },
      "execution_count": 23,
      "outputs": [
        {
          "output_type": "execute_result",
          "data": {
            "text/plain": [
              "BeneID                                  0\n",
              "DOB                                     0\n",
              "DOD                                137135\n",
              "Gender                                  0\n",
              "Race                                    0\n",
              "RenalDiseaseIndicator                   0\n",
              "State                                   0\n",
              "County                                  0\n",
              "NoOfMonths_PartACov                     0\n",
              "NoOfMonths_PartBCov                     0\n",
              "ChronicCond_Alzheimer                   0\n",
              "ChronicCond_Heartfailure                0\n",
              "ChronicCond_KidneyDisease               0\n",
              "ChronicCond_Cancer                      0\n",
              "ChronicCond_ObstrPulmonary              0\n",
              "ChronicCond_Depression                  0\n",
              "ChronicCond_Diabetes                    0\n",
              "ChronicCond_IschemicHeart               0\n",
              "ChronicCond_Osteoporasis                0\n",
              "ChronicCond_rheumatoidarthritis         0\n",
              "ChronicCond_stroke                      0\n",
              "IPAnnualReimbursementAmt                0\n",
              "IPAnnualDeductibleAmt                   0\n",
              "OPAnnualReimbursementAmt                0\n",
              "OPAnnualDeductibleAmt                   0\n",
              "Is_Dead                                 0\n",
              "dtype: int64"
            ]
          },
          "metadata": {},
          "execution_count": 23
        }
      ]
    },
    {
      "cell_type": "code",
      "source": [
        "#Let's work on the beneficiary dataset\n",
        "train_beneficiarydata['RenalDiseaseIndicator'].unique()\n"
      ],
      "metadata": {
        "colab": {
          "base_uri": "https://localhost:8080/"
        },
        "id": "BhIeWsgQWmME",
        "outputId": "797614a3-2dee-4061-8ec4-c0ea2d856c3c"
      },
      "execution_count": 24,
      "outputs": [
        {
          "output_type": "execute_result",
          "data": {
            "text/plain": [
              "array(['0', 'Y'], dtype=object)"
            ]
          },
          "metadata": {},
          "execution_count": 24
        }
      ]
    },
    {
      "cell_type": "code",
      "source": [
        "#Lets change tehe RenalDisease Indicator to 0 and 1\n",
        "train_beneficiarydata = train_beneficiarydata.replace({'RenalDiseaseIndicator': 'Y'}, 1)\n"
      ],
      "metadata": {
        "id": "d0HvimK-W3a0"
      },
      "execution_count": 25,
      "outputs": []
    },
    {
      "cell_type": "code",
      "source": [
        "#Lets look at other categorical  columns\n",
        "train_beneficiarydata['ChronicCond_Alzheimer'].unique()"
      ],
      "metadata": {
        "colab": {
          "base_uri": "https://localhost:8080/"
        },
        "id": "jIF6bmzKXDZi",
        "outputId": "29bd03fd-0bc8-40cb-896f-8baa1436dde0"
      },
      "execution_count": 26,
      "outputs": [
        {
          "output_type": "execute_result",
          "data": {
            "text/plain": [
              "array([1, 2])"
            ]
          },
          "metadata": {},
          "execution_count": 26
        }
      ]
    },
    {
      "cell_type": "markdown",
      "source": [
        "We observed that the dataset has eiter 1 or 2 so for false which is 2 we changed it to 0\n"
      ],
      "metadata": {
        "id": "Lt3ZuriCXTkc"
      }
    },
    {
      "cell_type": "code",
      "source": [
        "##Replacing 2 with 0 for chronic conditions ,that means chroniv condition No is 0 and yes is 1\n",
        "train_beneficiarydata = train_beneficiarydata.replace({'ChronicCond_Alzheimer': 2, 'ChronicCond_Heartfailure': 2, 'ChronicCond_KidneyDisease': 2,\n",
        "                           'ChronicCond_Cancer': 2, 'ChronicCond_ObstrPulmonary': 2, 'ChronicCond_Depression': 2,\n",
        "                           'ChronicCond_Diabetes': 2, 'ChronicCond_IschemicHeart': 2, 'ChronicCond_Osteoporasis': 2,\n",
        "                           'ChronicCond_rheumatoidarthritis': 2, 'ChronicCond_stroke': 2 }, 0)"
      ],
      "metadata": {
        "id": "C-LHG7A5XKZE"
      },
      "execution_count": 27,
      "outputs": []
    },
    {
      "cell_type": "markdown",
      "source": [
        "MERGE THIS TWO DATASET INTO SINGLE DATASET\n"
      ],
      "metadata": {
        "id": "WUxzkzSzUhnA"
      }
    },
    {
      "cell_type": "code",
      "source": [
        "#MERGING INPATENT AND OUTPATIENT DATASET\n",
        "train_allpatient=pd.merge(train_outpatientdata,train_inpatientdata,\n",
        "                              left_on=['BeneID', 'ClaimID', 'ClaimStartDt', 'ClaimEndDt', 'Provider',\n",
        "       'InscClaimAmtReimbursed', 'AttendingPhysician', 'OperatingPhysician',\n",
        "       'OtherPhysician', 'ClmDiagnosisCode_1', 'ClmDiagnosisCode_2',\n",
        "       'ClmDiagnosisCode_3', 'ClmDiagnosisCode_4', 'ClmDiagnosisCode_5',\n",
        "       'ClmDiagnosisCode_6', 'ClmDiagnosisCode_7', 'ClmDiagnosisCode_8',\n",
        "       'ClmDiagnosisCode_9', 'ClmDiagnosisCode_10', 'ClmProcedureCode_1',\n",
        "       'ClmProcedureCode_2', 'ClmProcedureCode_3', 'ClmProcedureCode_4',\n",
        "       'ClmProcedureCode_5', 'ClmProcedureCode_6', 'DeductibleAmtPaid',\n",
        "       'ClmAdmitDiagnosisCode','is_admitted','claim_days'],\n",
        "                              right_on=['BeneID', 'ClaimID', 'ClaimStartDt', 'ClaimEndDt', 'Provider',\n",
        "       'InscClaimAmtReimbursed', 'AttendingPhysician', 'OperatingPhysician',\n",
        "       'OtherPhysician', 'ClmDiagnosisCode_1', 'ClmDiagnosisCode_2',\n",
        "       'ClmDiagnosisCode_3', 'ClmDiagnosisCode_4', 'ClmDiagnosisCode_5',\n",
        "       'ClmDiagnosisCode_6', 'ClmDiagnosisCode_7', 'ClmDiagnosisCode_8',\n",
        "       'ClmDiagnosisCode_9', 'ClmDiagnosisCode_10', 'ClmProcedureCode_1',\n",
        "       'ClmProcedureCode_2', 'ClmProcedureCode_3', 'ClmProcedureCode_4',\n",
        "       'ClmProcedureCode_5', 'ClmProcedureCode_6', 'DeductibleAmtPaid',\n",
        "       'ClmAdmitDiagnosisCode','is_admitted','claim_days']\n",
        "                              ,how='outer')"
      ],
      "metadata": {
        "id": "lHvEBMbpUd23"
      },
      "execution_count": 28,
      "outputs": []
    },
    {
      "cell_type": "code",
      "source": [
        "train_allpatient.shape"
      ],
      "metadata": {
        "colab": {
          "base_uri": "https://localhost:8080/"
        },
        "id": "7CG5pfHzA_tE",
        "outputId": "f86917e0-cd09-4047-e3b3-be7f7bccef6c"
      },
      "execution_count": 29,
      "outputs": [
        {
          "output_type": "execute_result",
          "data": {
            "text/plain": [
              "(202294, 33)"
            ]
          },
          "metadata": {},
          "execution_count": 29
        }
      ]
    },
    {
      "cell_type": "code",
      "source": [
        "train_allpatient.columns"
      ],
      "metadata": {
        "colab": {
          "base_uri": "https://localhost:8080/"
        },
        "id": "0bD6qUNldXlt",
        "outputId": "225af224-255a-4e68-a1c6-7db2316d5705"
      },
      "execution_count": 30,
      "outputs": [
        {
          "output_type": "execute_result",
          "data": {
            "text/plain": [
              "Index(['BeneID', 'ClaimID', 'ClaimStartDt', 'ClaimEndDt', 'Provider',\n",
              "       'InscClaimAmtReimbursed', 'AttendingPhysician', 'OperatingPhysician',\n",
              "       'OtherPhysician', 'ClmDiagnosisCode_1', 'ClmDiagnosisCode_2',\n",
              "       'ClmDiagnosisCode_3', 'ClmDiagnosisCode_4', 'ClmDiagnosisCode_5',\n",
              "       'ClmDiagnosisCode_6', 'ClmDiagnosisCode_7', 'ClmDiagnosisCode_8',\n",
              "       'ClmDiagnosisCode_9', 'ClmDiagnosisCode_10', 'ClmProcedureCode_1',\n",
              "       'ClmProcedureCode_2', 'ClmProcedureCode_3', 'ClmProcedureCode_4',\n",
              "       'ClmProcedureCode_5', 'ClmProcedureCode_6', 'DeductibleAmtPaid',\n",
              "       'ClmAdmitDiagnosisCode', 'claim_days', 'is_admitted', 'AdmissionDt',\n",
              "       'DischargeDt', 'DiagnosisGroupCode',\n",
              "       'claim_has_at_least_one_physician'],\n",
              "      dtype='object')"
            ]
          },
          "metadata": {},
          "execution_count": 30
        }
      ]
    },
    {
      "cell_type": "code",
      "source": [
        "train_allpatient.isnull().sum()"
      ],
      "metadata": {
        "colab": {
          "base_uri": "https://localhost:8080/"
        },
        "id": "Emx9Ju_xdk9H",
        "outputId": "72330c24-3f82-4a86-9178-13caa8da0078"
      },
      "execution_count": 31,
      "outputs": [
        {
          "output_type": "execute_result",
          "data": {
            "text/plain": [
              "BeneID                                   0\n",
              "ClaimID                                  0\n",
              "ClaimStartDt                             0\n",
              "ClaimEndDt                               0\n",
              "Provider                                 0\n",
              "InscClaimAmtReimbursed                   0\n",
              "AttendingPhysician                     530\n",
              "OperatingPhysician                  150218\n",
              "OtherPhysician                      136830\n",
              "ClmDiagnosisCode_1                    3292\n",
              "ClmDiagnosisCode_2                   61595\n",
              "ClmDiagnosisCode_3                   99139\n",
              "ClmDiagnosisCode_4                  124232\n",
              "ClmDiagnosisCode_5                  141499\n",
              "ClmDiagnosisCode_6                  151507\n",
              "ClmDiagnosisCode_7                  158847\n",
              "ClmDiagnosisCode_8                  164721\n",
              "ClmDiagnosisCode_9                  170751\n",
              "ClmDiagnosisCode_10                 198025\n",
              "ClmProcedureCode_1                  179105\n",
              "ClmProcedureCode_2                  196828\n",
              "ClmProcedureCode_3                  201327\n",
              "ClmProcedureCode_4                  202177\n",
              "ClmProcedureCode_5                  202285\n",
              "ClmProcedureCode_6                  202294\n",
              "DeductibleAmtPaid                      900\n",
              "ClmAdmitDiagnosisCode               128963\n",
              "claim_days                               0\n",
              "is_admitted                              0\n",
              "AdmissionDt                         161820\n",
              "DischargeDt                         161820\n",
              "DiagnosisGroupCode                  161820\n",
              "claim_has_at_least_one_physician    161820\n",
              "dtype: int64"
            ]
          },
          "metadata": {},
          "execution_count": 31
        }
      ]
    },
    {
      "cell_type": "code",
      "source": [
        "#MERGE THE DATASET WITH BENEFICIARY DATASET\n",
        "train_withbeneficiary=pd.merge(train_allpatient,train_beneficiarydata,on='BeneID')\n",
        "train_withbeneficiary.head()"
      ],
      "metadata": {
        "colab": {
          "base_uri": "https://localhost:8080/",
          "height": 300
        },
        "id": "gngEHqcWd7H8",
        "outputId": "9d96925d-8e47-481e-e7a7-dc8623416854"
      },
      "execution_count": 32,
      "outputs": [
        {
          "output_type": "execute_result",
          "data": {
            "text/plain": [
              "      BeneID    ClaimID ClaimStartDt  ClaimEndDt  Provider  \\\n",
              "0  BENE11002  CLM624349   2009-10-11  2009-10-11  PRV56011   \n",
              "1  BENE11003  CLM189947   2009-02-12  2009-02-12  PRV57610   \n",
              "2  BENE11003  CLM438021   2009-06-27  2009-06-27  PRV57595   \n",
              "3  BENE11004  CLM121801   2009-01-06  2009-01-06  PRV56011   \n",
              "4  BENE11004  CLM150998   2009-01-22  2009-01-22  PRV56011   \n",
              "\n",
              "   InscClaimAmtReimbursed AttendingPhysician OperatingPhysician  \\\n",
              "0                      30          PHY326117                NaN   \n",
              "1                      80          PHY362868                NaN   \n",
              "2                      10          PHY328821                NaN   \n",
              "3                      40          PHY334319                NaN   \n",
              "4                     200          PHY403831                NaN   \n",
              "\n",
              "  OtherPhysician ClmDiagnosisCode_1  ... ChronicCond_Diabetes  \\\n",
              "0            NaN              78943  ...                    0   \n",
              "1            NaN               6115  ...                    0   \n",
              "2            NaN               2723  ...                    0   \n",
              "3            NaN              71988  ...                    1   \n",
              "4            NaN              82382  ...                    1   \n",
              "\n",
              "  ChronicCond_IschemicHeart ChronicCond_Osteoporasis  \\\n",
              "0                         0                        0   \n",
              "1                         1                        0   \n",
              "2                         1                        0   \n",
              "3                         1                        1   \n",
              "4                         1                        1   \n",
              "\n",
              "  ChronicCond_rheumatoidarthritis ChronicCond_stroke IPAnnualReimbursementAmt  \\\n",
              "0                               0                  0                        0   \n",
              "1                               0                  0                        0   \n",
              "2                               0                  0                        0   \n",
              "3                               1                  0                        0   \n",
              "4                               1                  0                        0   \n",
              "\n",
              "  IPAnnualDeductibleAmt OPAnnualReimbursementAmt OPAnnualDeductibleAmt  \\\n",
              "0                     0                       30                    50   \n",
              "1                     0                       90                    40   \n",
              "2                     0                       90                    40   \n",
              "3                     0                     1810                   760   \n",
              "4                     0                     1810                   760   \n",
              "\n",
              "   Is_Dead  \n",
              "0        0  \n",
              "1        0  \n",
              "2        0  \n",
              "3        0  \n",
              "4        0  \n",
              "\n",
              "[5 rows x 58 columns]"
            ],
            "text/html": [
              "\n",
              "  <div id=\"df-faea1e52-f65a-4c65-ba04-60aef85bd157\">\n",
              "    <div class=\"colab-df-container\">\n",
              "      <div>\n",
              "<style scoped>\n",
              "    .dataframe tbody tr th:only-of-type {\n",
              "        vertical-align: middle;\n",
              "    }\n",
              "\n",
              "    .dataframe tbody tr th {\n",
              "        vertical-align: top;\n",
              "    }\n",
              "\n",
              "    .dataframe thead th {\n",
              "        text-align: right;\n",
              "    }\n",
              "</style>\n",
              "<table border=\"1\" class=\"dataframe\">\n",
              "  <thead>\n",
              "    <tr style=\"text-align: right;\">\n",
              "      <th></th>\n",
              "      <th>BeneID</th>\n",
              "      <th>ClaimID</th>\n",
              "      <th>ClaimStartDt</th>\n",
              "      <th>ClaimEndDt</th>\n",
              "      <th>Provider</th>\n",
              "      <th>InscClaimAmtReimbursed</th>\n",
              "      <th>AttendingPhysician</th>\n",
              "      <th>OperatingPhysician</th>\n",
              "      <th>OtherPhysician</th>\n",
              "      <th>ClmDiagnosisCode_1</th>\n",
              "      <th>...</th>\n",
              "      <th>ChronicCond_Diabetes</th>\n",
              "      <th>ChronicCond_IschemicHeart</th>\n",
              "      <th>ChronicCond_Osteoporasis</th>\n",
              "      <th>ChronicCond_rheumatoidarthritis</th>\n",
              "      <th>ChronicCond_stroke</th>\n",
              "      <th>IPAnnualReimbursementAmt</th>\n",
              "      <th>IPAnnualDeductibleAmt</th>\n",
              "      <th>OPAnnualReimbursementAmt</th>\n",
              "      <th>OPAnnualDeductibleAmt</th>\n",
              "      <th>Is_Dead</th>\n",
              "    </tr>\n",
              "  </thead>\n",
              "  <tbody>\n",
              "    <tr>\n",
              "      <th>0</th>\n",
              "      <td>BENE11002</td>\n",
              "      <td>CLM624349</td>\n",
              "      <td>2009-10-11</td>\n",
              "      <td>2009-10-11</td>\n",
              "      <td>PRV56011</td>\n",
              "      <td>30</td>\n",
              "      <td>PHY326117</td>\n",
              "      <td>NaN</td>\n",
              "      <td>NaN</td>\n",
              "      <td>78943</td>\n",
              "      <td>...</td>\n",
              "      <td>0</td>\n",
              "      <td>0</td>\n",
              "      <td>0</td>\n",
              "      <td>0</td>\n",
              "      <td>0</td>\n",
              "      <td>0</td>\n",
              "      <td>0</td>\n",
              "      <td>30</td>\n",
              "      <td>50</td>\n",
              "      <td>0</td>\n",
              "    </tr>\n",
              "    <tr>\n",
              "      <th>1</th>\n",
              "      <td>BENE11003</td>\n",
              "      <td>CLM189947</td>\n",
              "      <td>2009-02-12</td>\n",
              "      <td>2009-02-12</td>\n",
              "      <td>PRV57610</td>\n",
              "      <td>80</td>\n",
              "      <td>PHY362868</td>\n",
              "      <td>NaN</td>\n",
              "      <td>NaN</td>\n",
              "      <td>6115</td>\n",
              "      <td>...</td>\n",
              "      <td>0</td>\n",
              "      <td>1</td>\n",
              "      <td>0</td>\n",
              "      <td>0</td>\n",
              "      <td>0</td>\n",
              "      <td>0</td>\n",
              "      <td>0</td>\n",
              "      <td>90</td>\n",
              "      <td>40</td>\n",
              "      <td>0</td>\n",
              "    </tr>\n",
              "    <tr>\n",
              "      <th>2</th>\n",
              "      <td>BENE11003</td>\n",
              "      <td>CLM438021</td>\n",
              "      <td>2009-06-27</td>\n",
              "      <td>2009-06-27</td>\n",
              "      <td>PRV57595</td>\n",
              "      <td>10</td>\n",
              "      <td>PHY328821</td>\n",
              "      <td>NaN</td>\n",
              "      <td>NaN</td>\n",
              "      <td>2723</td>\n",
              "      <td>...</td>\n",
              "      <td>0</td>\n",
              "      <td>1</td>\n",
              "      <td>0</td>\n",
              "      <td>0</td>\n",
              "      <td>0</td>\n",
              "      <td>0</td>\n",
              "      <td>0</td>\n",
              "      <td>90</td>\n",
              "      <td>40</td>\n",
              "      <td>0</td>\n",
              "    </tr>\n",
              "    <tr>\n",
              "      <th>3</th>\n",
              "      <td>BENE11004</td>\n",
              "      <td>CLM121801</td>\n",
              "      <td>2009-01-06</td>\n",
              "      <td>2009-01-06</td>\n",
              "      <td>PRV56011</td>\n",
              "      <td>40</td>\n",
              "      <td>PHY334319</td>\n",
              "      <td>NaN</td>\n",
              "      <td>NaN</td>\n",
              "      <td>71988</td>\n",
              "      <td>...</td>\n",
              "      <td>1</td>\n",
              "      <td>1</td>\n",
              "      <td>1</td>\n",
              "      <td>1</td>\n",
              "      <td>0</td>\n",
              "      <td>0</td>\n",
              "      <td>0</td>\n",
              "      <td>1810</td>\n",
              "      <td>760</td>\n",
              "      <td>0</td>\n",
              "    </tr>\n",
              "    <tr>\n",
              "      <th>4</th>\n",
              "      <td>BENE11004</td>\n",
              "      <td>CLM150998</td>\n",
              "      <td>2009-01-22</td>\n",
              "      <td>2009-01-22</td>\n",
              "      <td>PRV56011</td>\n",
              "      <td>200</td>\n",
              "      <td>PHY403831</td>\n",
              "      <td>NaN</td>\n",
              "      <td>NaN</td>\n",
              "      <td>82382</td>\n",
              "      <td>...</td>\n",
              "      <td>1</td>\n",
              "      <td>1</td>\n",
              "      <td>1</td>\n",
              "      <td>1</td>\n",
              "      <td>0</td>\n",
              "      <td>0</td>\n",
              "      <td>0</td>\n",
              "      <td>1810</td>\n",
              "      <td>760</td>\n",
              "      <td>0</td>\n",
              "    </tr>\n",
              "  </tbody>\n",
              "</table>\n",
              "<p>5 rows × 58 columns</p>\n",
              "</div>\n",
              "      <button class=\"colab-df-convert\" onclick=\"convertToInteractive('df-faea1e52-f65a-4c65-ba04-60aef85bd157')\"\n",
              "              title=\"Convert this dataframe to an interactive table.\"\n",
              "              style=\"display:none;\">\n",
              "        \n",
              "  <svg xmlns=\"http://www.w3.org/2000/svg\" height=\"24px\"viewBox=\"0 0 24 24\"\n",
              "       width=\"24px\">\n",
              "    <path d=\"M0 0h24v24H0V0z\" fill=\"none\"/>\n",
              "    <path d=\"M18.56 5.44l.94 2.06.94-2.06 2.06-.94-2.06-.94-.94-2.06-.94 2.06-2.06.94zm-11 1L8.5 8.5l.94-2.06 2.06-.94-2.06-.94L8.5 2.5l-.94 2.06-2.06.94zm10 10l.94 2.06.94-2.06 2.06-.94-2.06-.94-.94-2.06-.94 2.06-2.06.94z\"/><path d=\"M17.41 7.96l-1.37-1.37c-.4-.4-.92-.59-1.43-.59-.52 0-1.04.2-1.43.59L10.3 9.45l-7.72 7.72c-.78.78-.78 2.05 0 2.83L4 21.41c.39.39.9.59 1.41.59.51 0 1.02-.2 1.41-.59l7.78-7.78 2.81-2.81c.8-.78.8-2.07 0-2.86zM5.41 20L4 18.59l7.72-7.72 1.47 1.35L5.41 20z\"/>\n",
              "  </svg>\n",
              "      </button>\n",
              "      \n",
              "  <style>\n",
              "    .colab-df-container {\n",
              "      display:flex;\n",
              "      flex-wrap:wrap;\n",
              "      gap: 12px;\n",
              "    }\n",
              "\n",
              "    .colab-df-convert {\n",
              "      background-color: #E8F0FE;\n",
              "      border: none;\n",
              "      border-radius: 50%;\n",
              "      cursor: pointer;\n",
              "      display: none;\n",
              "      fill: #1967D2;\n",
              "      height: 32px;\n",
              "      padding: 0 0 0 0;\n",
              "      width: 32px;\n",
              "    }\n",
              "\n",
              "    .colab-df-convert:hover {\n",
              "      background-color: #E2EBFA;\n",
              "      box-shadow: 0px 1px 2px rgba(60, 64, 67, 0.3), 0px 1px 3px 1px rgba(60, 64, 67, 0.15);\n",
              "      fill: #174EA6;\n",
              "    }\n",
              "\n",
              "    [theme=dark] .colab-df-convert {\n",
              "      background-color: #3B4455;\n",
              "      fill: #D2E3FC;\n",
              "    }\n",
              "\n",
              "    [theme=dark] .colab-df-convert:hover {\n",
              "      background-color: #434B5C;\n",
              "      box-shadow: 0px 1px 3px 1px rgba(0, 0, 0, 0.15);\n",
              "      filter: drop-shadow(0px 1px 2px rgba(0, 0, 0, 0.3));\n",
              "      fill: #FFFFFF;\n",
              "    }\n",
              "  </style>\n",
              "\n",
              "      <script>\n",
              "        const buttonEl =\n",
              "          document.querySelector('#df-faea1e52-f65a-4c65-ba04-60aef85bd157 button.colab-df-convert');\n",
              "        buttonEl.style.display =\n",
              "          google.colab.kernel.accessAllowed ? 'block' : 'none';\n",
              "\n",
              "        async function convertToInteractive(key) {\n",
              "          const element = document.querySelector('#df-faea1e52-f65a-4c65-ba04-60aef85bd157');\n",
              "          const dataTable =\n",
              "            await google.colab.kernel.invokeFunction('convertToInteractive',\n",
              "                                                     [key], {});\n",
              "          if (!dataTable) return;\n",
              "\n",
              "          const docLinkHtml = 'Like what you see? Visit the ' +\n",
              "            '<a target=\"_blank\" href=https://colab.research.google.com/notebooks/data_table.ipynb>data table notebook</a>'\n",
              "            + ' to learn more about interactive tables.';\n",
              "          element.innerHTML = '';\n",
              "          dataTable['output_type'] = 'display_data';\n",
              "          await google.colab.output.renderOutput(dataTable, element);\n",
              "          const docLink = document.createElement('div');\n",
              "          docLink.innerHTML = docLinkHtml;\n",
              "          element.appendChild(docLink);\n",
              "        }\n",
              "      </script>\n",
              "    </div>\n",
              "  </div>\n",
              "  "
            ]
          },
          "metadata": {},
          "execution_count": 32
        }
      ]
    },
    {
      "cell_type": "code",
      "source": [
        "train_allpatient.shape"
      ],
      "metadata": {
        "colab": {
          "base_uri": "https://localhost:8080/"
        },
        "id": "I2XyzM8oBqvn",
        "outputId": "f60077d8-9c70-40af-d87b-aa7c2771d297"
      },
      "execution_count": 119,
      "outputs": [
        {
          "output_type": "execute_result",
          "data": {
            "text/plain": [
              "(558211, 34)"
            ]
          },
          "metadata": {},
          "execution_count": 119
        }
      ]
    },
    {
      "cell_type": "code",
      "source": [
        "train_beneficiarydata.shape"
      ],
      "metadata": {
        "colab": {
          "base_uri": "https://localhost:8080/"
        },
        "id": "j7mKTvyABw0d",
        "outputId": "8913e237-36bc-4a9f-dd86-e26f0f9c7630"
      },
      "execution_count": 120,
      "outputs": [
        {
          "output_type": "execute_result",
          "data": {
            "text/plain": [
              "(138556, 26)"
            ]
          },
          "metadata": {},
          "execution_count": 120
        }
      ]
    },
    {
      "cell_type": "code",
      "source": [
        "train_withbeneficiary.shape"
      ],
      "metadata": {
        "colab": {
          "base_uri": "https://localhost:8080/"
        },
        "id": "aVC9H3-gB0DQ",
        "outputId": "81b39c98-4d3c-468b-9c6c-d429f250e92d"
      },
      "execution_count": 121,
      "outputs": [
        {
          "output_type": "execute_result",
          "data": {
            "text/plain": [
              "(558211, 59)"
            ]
          },
          "metadata": {},
          "execution_count": 121
        }
      ]
    },
    {
      "cell_type": "code",
      "source": [
        "train_withbeneficiary.columns"
      ],
      "metadata": {
        "colab": {
          "base_uri": "https://localhost:8080/"
        },
        "id": "jGHAnG2YnZZj",
        "outputId": "d17b7fc1-ea0b-412b-8291-a5d88222d167"
      },
      "execution_count": 33,
      "outputs": [
        {
          "output_type": "execute_result",
          "data": {
            "text/plain": [
              "Index(['BeneID', 'ClaimID', 'ClaimStartDt', 'ClaimEndDt', 'Provider',\n",
              "       'InscClaimAmtReimbursed', 'AttendingPhysician', 'OperatingPhysician',\n",
              "       'OtherPhysician', 'ClmDiagnosisCode_1', 'ClmDiagnosisCode_2',\n",
              "       'ClmDiagnosisCode_3', 'ClmDiagnosisCode_4', 'ClmDiagnosisCode_5',\n",
              "       'ClmDiagnosisCode_6', 'ClmDiagnosisCode_7', 'ClmDiagnosisCode_8',\n",
              "       'ClmDiagnosisCode_9', 'ClmDiagnosisCode_10', 'ClmProcedureCode_1',\n",
              "       'ClmProcedureCode_2', 'ClmProcedureCode_3', 'ClmProcedureCode_4',\n",
              "       'ClmProcedureCode_5', 'ClmProcedureCode_6', 'DeductibleAmtPaid',\n",
              "       'ClmAdmitDiagnosisCode', 'claim_days', 'is_admitted', 'AdmissionDt',\n",
              "       'DischargeDt', 'DiagnosisGroupCode', 'claim_has_at_least_one_physician',\n",
              "       'DOB', 'DOD', 'Gender', 'Race', 'RenalDiseaseIndicator', 'State',\n",
              "       'County', 'NoOfMonths_PartACov', 'NoOfMonths_PartBCov',\n",
              "       'ChronicCond_Alzheimer', 'ChronicCond_Heartfailure',\n",
              "       'ChronicCond_KidneyDisease', 'ChronicCond_Cancer',\n",
              "       'ChronicCond_ObstrPulmonary', 'ChronicCond_Depression',\n",
              "       'ChronicCond_Diabetes', 'ChronicCond_IschemicHeart',\n",
              "       'ChronicCond_Osteoporasis', 'ChronicCond_rheumatoidarthritis',\n",
              "       'ChronicCond_stroke', 'IPAnnualReimbursementAmt',\n",
              "       'IPAnnualDeductibleAmt', 'OPAnnualReimbursementAmt',\n",
              "       'OPAnnualDeductibleAmt', 'Is_Dead'],\n",
              "      dtype='object')"
            ]
          },
          "metadata": {},
          "execution_count": 33
        }
      ]
    },
    {
      "cell_type": "code",
      "source": [
        "train_withbeneficiary.isnull().sum()"
      ],
      "metadata": {
        "colab": {
          "base_uri": "https://localhost:8080/"
        },
        "id": "MHQ65oAXnfgT",
        "outputId": "1db560e7-8f67-4066-ffad-d83b685f29b6"
      },
      "execution_count": 123,
      "outputs": [
        {
          "output_type": "execute_result",
          "data": {
            "text/plain": [
              "BeneID                                   0\n",
              "ClaimID                                  0\n",
              "ClaimStartDt                             0\n",
              "ClaimEndDt                               0\n",
              "Provider                                 0\n",
              "InscClaimAmtReimbursed                   0\n",
              "AttendingPhysician                    1508\n",
              "OperatingPhysician                  443764\n",
              "OtherPhysician                      358475\n",
              "ClmDiagnosisCode_1                   10453\n",
              "ClmDiagnosisCode_2                  195606\n",
              "ClmDiagnosisCode_3                  315156\n",
              "ClmDiagnosisCode_4                  393675\n",
              "ClmDiagnosisCode_5                  446287\n",
              "ClmDiagnosisCode_6                  473819\n",
              "ClmDiagnosisCode_7                  492034\n",
              "ClmDiagnosisCode_8                  504767\n",
              "ClmDiagnosisCode_9                  516396\n",
              "ClmDiagnosisCode_10                 553201\n",
              "ClmProcedureCode_1                  534901\n",
              "ClmProcedureCode_2                  552721\n",
              "ClmProcedureCode_3                  557242\n",
              "ClmProcedureCode_4                  558093\n",
              "ClmProcedureCode_5                  558202\n",
              "ClmProcedureCode_6                  558211\n",
              "DeductibleAmtPaid                      899\n",
              "ClmAdmitDiagnosisCode               412312\n",
              "claim_duration                       40474\n",
              "is_admitted                              0\n",
              "AdmissionDt                         517737\n",
              "DischargeDt                         517737\n",
              "DiagnosisGroupCode                  517737\n",
              "claim_has_at_least_one_physician    517737\n",
              "admitted_days                       517737\n",
              "DOB                                      0\n",
              "DOD                                 554080\n",
              "Gender                                   0\n",
              "Race                                     0\n",
              "RenalDiseaseIndicator                    0\n",
              "State                                    0\n",
              "County                                   0\n",
              "NoOfMonths_PartACov                      0\n",
              "NoOfMonths_PartBCov                      0\n",
              "ChronicCond_Alzheimer                    0\n",
              "ChronicCond_Heartfailure                 0\n",
              "ChronicCond_KidneyDisease                0\n",
              "ChronicCond_Cancer                       0\n",
              "ChronicCond_ObstrPulmonary               0\n",
              "ChronicCond_Depression                   0\n",
              "ChronicCond_Diabetes                     0\n",
              "ChronicCond_IschemicHeart                0\n",
              "ChronicCond_Osteoporasis                 0\n",
              "ChronicCond_rheumatoidarthritis          0\n",
              "ChronicCond_stroke                       0\n",
              "IPAnnualReimbursementAmt                 0\n",
              "IPAnnualDeductibleAmt                    0\n",
              "OPAnnualReimbursementAmt                 0\n",
              "OPAnnualDeductibleAmt                    0\n",
              "Is_Dead                                  0\n",
              "dtype: int64"
            ]
          },
          "metadata": {},
          "execution_count": 123
        }
      ]
    },
    {
      "cell_type": "code",
      "source": [
        "#lets get the age for each beneficiary since there is no dod for all we will calcualte age with the claim start date\n",
        "train_withbeneficiary['DOB'] =  pd.to_datetime(train_withbeneficiary['DOB'], format='%Y-%m-%d')\n",
        "train_withbeneficiary['ClaimEndDt'] = pd.to_datetime(train_withbeneficiary['ClaimEndDt'], format='%Y-%m-%d')\n",
        "\n",
        "#now = pd.to_datetime('2020-09-01' , format = '%Y-%m-%d')\n",
        "train_withbeneficiary['DOB'] = train_withbeneficiary['DOB'].where(train_withbeneficiary['DOB'] < train_withbeneficiary['ClaimStartDt'])\n",
        "train_withbeneficiary['age'] = (train_withbeneficiary['ClaimEndDt'] - train_withbeneficiary['DOB']).astype('<m8[Y]')\n"
      ],
      "metadata": {
        "id": "I8bFJbNznnSc"
      },
      "execution_count": 34,
      "outputs": []
    },
    {
      "cell_type": "markdown",
      "source": [
        "FINAL MERGE\n",
        "# Lets merge patient data with fradulent providers details data with \"Provider\" as joining key for inner join"
      ],
      "metadata": {
        "id": "TEaSWl_OrHmy"
      }
    },
    {
      "cell_type": "code",
      "source": [
        "train=pd.read_csv('Train-1542865627584.csv')\n",
        "train.head()"
      ],
      "metadata": {
        "colab": {
          "base_uri": "https://localhost:8080/",
          "height": 206
        },
        "id": "EuYg3z3prS_y",
        "outputId": "103d0e35-7365-43e2-d287-bf9ae65103c5"
      },
      "execution_count": 35,
      "outputs": [
        {
          "output_type": "execute_result",
          "data": {
            "text/plain": [
              "   Provider PotentialFraud\n",
              "0  PRV51001             No\n",
              "1  PRV51003            Yes\n",
              "2  PRV51004             No\n",
              "3  PRV51005            Yes\n",
              "4  PRV51007             No"
            ],
            "text/html": [
              "\n",
              "  <div id=\"df-7df0631b-e6a3-4513-abf3-6a7f8ce6fe45\">\n",
              "    <div class=\"colab-df-container\">\n",
              "      <div>\n",
              "<style scoped>\n",
              "    .dataframe tbody tr th:only-of-type {\n",
              "        vertical-align: middle;\n",
              "    }\n",
              "\n",
              "    .dataframe tbody tr th {\n",
              "        vertical-align: top;\n",
              "    }\n",
              "\n",
              "    .dataframe thead th {\n",
              "        text-align: right;\n",
              "    }\n",
              "</style>\n",
              "<table border=\"1\" class=\"dataframe\">\n",
              "  <thead>\n",
              "    <tr style=\"text-align: right;\">\n",
              "      <th></th>\n",
              "      <th>Provider</th>\n",
              "      <th>PotentialFraud</th>\n",
              "    </tr>\n",
              "  </thead>\n",
              "  <tbody>\n",
              "    <tr>\n",
              "      <th>0</th>\n",
              "      <td>PRV51001</td>\n",
              "      <td>No</td>\n",
              "    </tr>\n",
              "    <tr>\n",
              "      <th>1</th>\n",
              "      <td>PRV51003</td>\n",
              "      <td>Yes</td>\n",
              "    </tr>\n",
              "    <tr>\n",
              "      <th>2</th>\n",
              "      <td>PRV51004</td>\n",
              "      <td>No</td>\n",
              "    </tr>\n",
              "    <tr>\n",
              "      <th>3</th>\n",
              "      <td>PRV51005</td>\n",
              "      <td>Yes</td>\n",
              "    </tr>\n",
              "    <tr>\n",
              "      <th>4</th>\n",
              "      <td>PRV51007</td>\n",
              "      <td>No</td>\n",
              "    </tr>\n",
              "  </tbody>\n",
              "</table>\n",
              "</div>\n",
              "      <button class=\"colab-df-convert\" onclick=\"convertToInteractive('df-7df0631b-e6a3-4513-abf3-6a7f8ce6fe45')\"\n",
              "              title=\"Convert this dataframe to an interactive table.\"\n",
              "              style=\"display:none;\">\n",
              "        \n",
              "  <svg xmlns=\"http://www.w3.org/2000/svg\" height=\"24px\"viewBox=\"0 0 24 24\"\n",
              "       width=\"24px\">\n",
              "    <path d=\"M0 0h24v24H0V0z\" fill=\"none\"/>\n",
              "    <path d=\"M18.56 5.44l.94 2.06.94-2.06 2.06-.94-2.06-.94-.94-2.06-.94 2.06-2.06.94zm-11 1L8.5 8.5l.94-2.06 2.06-.94-2.06-.94L8.5 2.5l-.94 2.06-2.06.94zm10 10l.94 2.06.94-2.06 2.06-.94-2.06-.94-.94-2.06-.94 2.06-2.06.94z\"/><path d=\"M17.41 7.96l-1.37-1.37c-.4-.4-.92-.59-1.43-.59-.52 0-1.04.2-1.43.59L10.3 9.45l-7.72 7.72c-.78.78-.78 2.05 0 2.83L4 21.41c.39.39.9.59 1.41.59.51 0 1.02-.2 1.41-.59l7.78-7.78 2.81-2.81c.8-.78.8-2.07 0-2.86zM5.41 20L4 18.59l7.72-7.72 1.47 1.35L5.41 20z\"/>\n",
              "  </svg>\n",
              "      </button>\n",
              "      \n",
              "  <style>\n",
              "    .colab-df-container {\n",
              "      display:flex;\n",
              "      flex-wrap:wrap;\n",
              "      gap: 12px;\n",
              "    }\n",
              "\n",
              "    .colab-df-convert {\n",
              "      background-color: #E8F0FE;\n",
              "      border: none;\n",
              "      border-radius: 50%;\n",
              "      cursor: pointer;\n",
              "      display: none;\n",
              "      fill: #1967D2;\n",
              "      height: 32px;\n",
              "      padding: 0 0 0 0;\n",
              "      width: 32px;\n",
              "    }\n",
              "\n",
              "    .colab-df-convert:hover {\n",
              "      background-color: #E2EBFA;\n",
              "      box-shadow: 0px 1px 2px rgba(60, 64, 67, 0.3), 0px 1px 3px 1px rgba(60, 64, 67, 0.15);\n",
              "      fill: #174EA6;\n",
              "    }\n",
              "\n",
              "    [theme=dark] .colab-df-convert {\n",
              "      background-color: #3B4455;\n",
              "      fill: #D2E3FC;\n",
              "    }\n",
              "\n",
              "    [theme=dark] .colab-df-convert:hover {\n",
              "      background-color: #434B5C;\n",
              "      box-shadow: 0px 1px 3px 1px rgba(0, 0, 0, 0.15);\n",
              "      filter: drop-shadow(0px 1px 2px rgba(0, 0, 0, 0.3));\n",
              "      fill: #FFFFFF;\n",
              "    }\n",
              "  </style>\n",
              "\n",
              "      <script>\n",
              "        const buttonEl =\n",
              "          document.querySelector('#df-7df0631b-e6a3-4513-abf3-6a7f8ce6fe45 button.colab-df-convert');\n",
              "        buttonEl.style.display =\n",
              "          google.colab.kernel.accessAllowed ? 'block' : 'none';\n",
              "\n",
              "        async function convertToInteractive(key) {\n",
              "          const element = document.querySelector('#df-7df0631b-e6a3-4513-abf3-6a7f8ce6fe45');\n",
              "          const dataTable =\n",
              "            await google.colab.kernel.invokeFunction('convertToInteractive',\n",
              "                                                     [key], {});\n",
              "          if (!dataTable) return;\n",
              "\n",
              "          const docLinkHtml = 'Like what you see? Visit the ' +\n",
              "            '<a target=\"_blank\" href=https://colab.research.google.com/notebooks/data_table.ipynb>data table notebook</a>'\n",
              "            + ' to learn more about interactive tables.';\n",
              "          element.innerHTML = '';\n",
              "          dataTable['output_type'] = 'display_data';\n",
              "          await google.colab.output.renderOutput(dataTable, element);\n",
              "          const docLink = document.createElement('div');\n",
              "          docLink.innerHTML = docLinkHtml;\n",
              "          element.appendChild(docLink);\n",
              "        }\n",
              "      </script>\n",
              "    </div>\n",
              "  </div>\n",
              "  "
            ]
          },
          "metadata": {},
          "execution_count": 35
        }
      ]
    },
    {
      "cell_type": "code",
      "source": [
        "train_ProviderWithPatientDetailsdata=pd.merge(train,train_withbeneficiary,on='Provider')"
      ],
      "metadata": {
        "id": "RdltDLElq8g-"
      },
      "execution_count": 36,
      "outputs": []
    },
    {
      "cell_type": "code",
      "source": [
        "train_ProviderWithPatientDetailsdata.head()"
      ],
      "metadata": {
        "colab": {
          "base_uri": "https://localhost:8080/",
          "height": 300
        },
        "id": "Jg1hYb-Oreyj",
        "outputId": "26b3399f-7b06-4a50-e867-2f922ca08c64"
      },
      "execution_count": 37,
      "outputs": [
        {
          "output_type": "execute_result",
          "data": {
            "text/plain": [
              "   Provider PotentialFraud     BeneID    ClaimID ClaimStartDt ClaimEndDt  \\\n",
              "0  PRV51001             No  BENE11727  CLM733300   2009-12-17 2009-12-17   \n",
              "1  PRV51001             No  BENE24646  CLM372475   2009-05-22 2009-05-23   \n",
              "2  PRV51001             No  BENE31617  CLM748221   2009-12-28 2009-12-28   \n",
              "3  PRV51001             No  BENE32715  CLM272936   2009-03-29 2009-03-30   \n",
              "4  PRV51001             No  BENE36012   CLM58316   2009-07-04 2009-07-08   \n",
              "\n",
              "   InscClaimAmtReimbursed AttendingPhysician OperatingPhysician  \\\n",
              "0                      20          PHY383007                NaN   \n",
              "1                     700          PHY405682                NaN   \n",
              "2                     900          PHY345302                NaN   \n",
              "3                     500          PHY318842          PHY392882   \n",
              "4                   36000          PHY340163                NaN   \n",
              "\n",
              "  OtherPhysician  ... ChronicCond_IschemicHeart ChronicCond_Osteoporasis  \\\n",
              "0      PHY383007  ...                         1                        0   \n",
              "1      PHY402512  ...                         1                        1   \n",
              "2            NaN  ...                         1                        0   \n",
              "3            NaN  ...                         1                        0   \n",
              "4            NaN  ...                         1                        0   \n",
              "\n",
              "  ChronicCond_rheumatoidarthritis ChronicCond_stroke IPAnnualReimbursementAmt  \\\n",
              "0                               0                  0                        0   \n",
              "1                               0                  1                        0   \n",
              "2                               1                  0                        0   \n",
              "3                               0                  0                     2020   \n",
              "4                               0                  1                    36000   \n",
              "\n",
              "  IPAnnualDeductibleAmt OPAnnualReimbursementAmt OPAnnualDeductibleAmt  \\\n",
              "0                     0                      300                   110   \n",
              "1                     0                      720                    10   \n",
              "2                     0                     1380                   370   \n",
              "3                  1068                     6700                  2700   \n",
              "4                  1068                     3520                   140   \n",
              "\n",
              "  Is_Dead   age  \n",
              "0       0  79.0  \n",
              "1       0  66.0  \n",
              "2       0  76.0  \n",
              "3       0  73.0  \n",
              "4       0  69.0  \n",
              "\n",
              "[5 rows x 60 columns]"
            ],
            "text/html": [
              "\n",
              "  <div id=\"df-0523f665-f003-4b0b-8b87-b7fa36207fca\">\n",
              "    <div class=\"colab-df-container\">\n",
              "      <div>\n",
              "<style scoped>\n",
              "    .dataframe tbody tr th:only-of-type {\n",
              "        vertical-align: middle;\n",
              "    }\n",
              "\n",
              "    .dataframe tbody tr th {\n",
              "        vertical-align: top;\n",
              "    }\n",
              "\n",
              "    .dataframe thead th {\n",
              "        text-align: right;\n",
              "    }\n",
              "</style>\n",
              "<table border=\"1\" class=\"dataframe\">\n",
              "  <thead>\n",
              "    <tr style=\"text-align: right;\">\n",
              "      <th></th>\n",
              "      <th>Provider</th>\n",
              "      <th>PotentialFraud</th>\n",
              "      <th>BeneID</th>\n",
              "      <th>ClaimID</th>\n",
              "      <th>ClaimStartDt</th>\n",
              "      <th>ClaimEndDt</th>\n",
              "      <th>InscClaimAmtReimbursed</th>\n",
              "      <th>AttendingPhysician</th>\n",
              "      <th>OperatingPhysician</th>\n",
              "      <th>OtherPhysician</th>\n",
              "      <th>...</th>\n",
              "      <th>ChronicCond_IschemicHeart</th>\n",
              "      <th>ChronicCond_Osteoporasis</th>\n",
              "      <th>ChronicCond_rheumatoidarthritis</th>\n",
              "      <th>ChronicCond_stroke</th>\n",
              "      <th>IPAnnualReimbursementAmt</th>\n",
              "      <th>IPAnnualDeductibleAmt</th>\n",
              "      <th>OPAnnualReimbursementAmt</th>\n",
              "      <th>OPAnnualDeductibleAmt</th>\n",
              "      <th>Is_Dead</th>\n",
              "      <th>age</th>\n",
              "    </tr>\n",
              "  </thead>\n",
              "  <tbody>\n",
              "    <tr>\n",
              "      <th>0</th>\n",
              "      <td>PRV51001</td>\n",
              "      <td>No</td>\n",
              "      <td>BENE11727</td>\n",
              "      <td>CLM733300</td>\n",
              "      <td>2009-12-17</td>\n",
              "      <td>2009-12-17</td>\n",
              "      <td>20</td>\n",
              "      <td>PHY383007</td>\n",
              "      <td>NaN</td>\n",
              "      <td>PHY383007</td>\n",
              "      <td>...</td>\n",
              "      <td>1</td>\n",
              "      <td>0</td>\n",
              "      <td>0</td>\n",
              "      <td>0</td>\n",
              "      <td>0</td>\n",
              "      <td>0</td>\n",
              "      <td>300</td>\n",
              "      <td>110</td>\n",
              "      <td>0</td>\n",
              "      <td>79.0</td>\n",
              "    </tr>\n",
              "    <tr>\n",
              "      <th>1</th>\n",
              "      <td>PRV51001</td>\n",
              "      <td>No</td>\n",
              "      <td>BENE24646</td>\n",
              "      <td>CLM372475</td>\n",
              "      <td>2009-05-22</td>\n",
              "      <td>2009-05-23</td>\n",
              "      <td>700</td>\n",
              "      <td>PHY405682</td>\n",
              "      <td>NaN</td>\n",
              "      <td>PHY402512</td>\n",
              "      <td>...</td>\n",
              "      <td>1</td>\n",
              "      <td>1</td>\n",
              "      <td>0</td>\n",
              "      <td>1</td>\n",
              "      <td>0</td>\n",
              "      <td>0</td>\n",
              "      <td>720</td>\n",
              "      <td>10</td>\n",
              "      <td>0</td>\n",
              "      <td>66.0</td>\n",
              "    </tr>\n",
              "    <tr>\n",
              "      <th>2</th>\n",
              "      <td>PRV51001</td>\n",
              "      <td>No</td>\n",
              "      <td>BENE31617</td>\n",
              "      <td>CLM748221</td>\n",
              "      <td>2009-12-28</td>\n",
              "      <td>2009-12-28</td>\n",
              "      <td>900</td>\n",
              "      <td>PHY345302</td>\n",
              "      <td>NaN</td>\n",
              "      <td>NaN</td>\n",
              "      <td>...</td>\n",
              "      <td>1</td>\n",
              "      <td>0</td>\n",
              "      <td>1</td>\n",
              "      <td>0</td>\n",
              "      <td>0</td>\n",
              "      <td>0</td>\n",
              "      <td>1380</td>\n",
              "      <td>370</td>\n",
              "      <td>0</td>\n",
              "      <td>76.0</td>\n",
              "    </tr>\n",
              "    <tr>\n",
              "      <th>3</th>\n",
              "      <td>PRV51001</td>\n",
              "      <td>No</td>\n",
              "      <td>BENE32715</td>\n",
              "      <td>CLM272936</td>\n",
              "      <td>2009-03-29</td>\n",
              "      <td>2009-03-30</td>\n",
              "      <td>500</td>\n",
              "      <td>PHY318842</td>\n",
              "      <td>PHY392882</td>\n",
              "      <td>NaN</td>\n",
              "      <td>...</td>\n",
              "      <td>1</td>\n",
              "      <td>0</td>\n",
              "      <td>0</td>\n",
              "      <td>0</td>\n",
              "      <td>2020</td>\n",
              "      <td>1068</td>\n",
              "      <td>6700</td>\n",
              "      <td>2700</td>\n",
              "      <td>0</td>\n",
              "      <td>73.0</td>\n",
              "    </tr>\n",
              "    <tr>\n",
              "      <th>4</th>\n",
              "      <td>PRV51001</td>\n",
              "      <td>No</td>\n",
              "      <td>BENE36012</td>\n",
              "      <td>CLM58316</td>\n",
              "      <td>2009-07-04</td>\n",
              "      <td>2009-07-08</td>\n",
              "      <td>36000</td>\n",
              "      <td>PHY340163</td>\n",
              "      <td>NaN</td>\n",
              "      <td>NaN</td>\n",
              "      <td>...</td>\n",
              "      <td>1</td>\n",
              "      <td>0</td>\n",
              "      <td>0</td>\n",
              "      <td>1</td>\n",
              "      <td>36000</td>\n",
              "      <td>1068</td>\n",
              "      <td>3520</td>\n",
              "      <td>140</td>\n",
              "      <td>0</td>\n",
              "      <td>69.0</td>\n",
              "    </tr>\n",
              "  </tbody>\n",
              "</table>\n",
              "<p>5 rows × 60 columns</p>\n",
              "</div>\n",
              "      <button class=\"colab-df-convert\" onclick=\"convertToInteractive('df-0523f665-f003-4b0b-8b87-b7fa36207fca')\"\n",
              "              title=\"Convert this dataframe to an interactive table.\"\n",
              "              style=\"display:none;\">\n",
              "        \n",
              "  <svg xmlns=\"http://www.w3.org/2000/svg\" height=\"24px\"viewBox=\"0 0 24 24\"\n",
              "       width=\"24px\">\n",
              "    <path d=\"M0 0h24v24H0V0z\" fill=\"none\"/>\n",
              "    <path d=\"M18.56 5.44l.94 2.06.94-2.06 2.06-.94-2.06-.94-.94-2.06-.94 2.06-2.06.94zm-11 1L8.5 8.5l.94-2.06 2.06-.94-2.06-.94L8.5 2.5l-.94 2.06-2.06.94zm10 10l.94 2.06.94-2.06 2.06-.94-2.06-.94-.94-2.06-.94 2.06-2.06.94z\"/><path d=\"M17.41 7.96l-1.37-1.37c-.4-.4-.92-.59-1.43-.59-.52 0-1.04.2-1.43.59L10.3 9.45l-7.72 7.72c-.78.78-.78 2.05 0 2.83L4 21.41c.39.39.9.59 1.41.59.51 0 1.02-.2 1.41-.59l7.78-7.78 2.81-2.81c.8-.78.8-2.07 0-2.86zM5.41 20L4 18.59l7.72-7.72 1.47 1.35L5.41 20z\"/>\n",
              "  </svg>\n",
              "      </button>\n",
              "      \n",
              "  <style>\n",
              "    .colab-df-container {\n",
              "      display:flex;\n",
              "      flex-wrap:wrap;\n",
              "      gap: 12px;\n",
              "    }\n",
              "\n",
              "    .colab-df-convert {\n",
              "      background-color: #E8F0FE;\n",
              "      border: none;\n",
              "      border-radius: 50%;\n",
              "      cursor: pointer;\n",
              "      display: none;\n",
              "      fill: #1967D2;\n",
              "      height: 32px;\n",
              "      padding: 0 0 0 0;\n",
              "      width: 32px;\n",
              "    }\n",
              "\n",
              "    .colab-df-convert:hover {\n",
              "      background-color: #E2EBFA;\n",
              "      box-shadow: 0px 1px 2px rgba(60, 64, 67, 0.3), 0px 1px 3px 1px rgba(60, 64, 67, 0.15);\n",
              "      fill: #174EA6;\n",
              "    }\n",
              "\n",
              "    [theme=dark] .colab-df-convert {\n",
              "      background-color: #3B4455;\n",
              "      fill: #D2E3FC;\n",
              "    }\n",
              "\n",
              "    [theme=dark] .colab-df-convert:hover {\n",
              "      background-color: #434B5C;\n",
              "      box-shadow: 0px 1px 3px 1px rgba(0, 0, 0, 0.15);\n",
              "      filter: drop-shadow(0px 1px 2px rgba(0, 0, 0, 0.3));\n",
              "      fill: #FFFFFF;\n",
              "    }\n",
              "  </style>\n",
              "\n",
              "      <script>\n",
              "        const buttonEl =\n",
              "          document.querySelector('#df-0523f665-f003-4b0b-8b87-b7fa36207fca button.colab-df-convert');\n",
              "        buttonEl.style.display =\n",
              "          google.colab.kernel.accessAllowed ? 'block' : 'none';\n",
              "\n",
              "        async function convertToInteractive(key) {\n",
              "          const element = document.querySelector('#df-0523f665-f003-4b0b-8b87-b7fa36207fca');\n",
              "          const dataTable =\n",
              "            await google.colab.kernel.invokeFunction('convertToInteractive',\n",
              "                                                     [key], {});\n",
              "          if (!dataTable) return;\n",
              "\n",
              "          const docLinkHtml = 'Like what you see? Visit the ' +\n",
              "            '<a target=\"_blank\" href=https://colab.research.google.com/notebooks/data_table.ipynb>data table notebook</a>'\n",
              "            + ' to learn more about interactive tables.';\n",
              "          element.innerHTML = '';\n",
              "          dataTable['output_type'] = 'display_data';\n",
              "          await google.colab.output.renderOutput(dataTable, element);\n",
              "          const docLink = document.createElement('div');\n",
              "          docLink.innerHTML = docLinkHtml;\n",
              "          element.appendChild(docLink);\n",
              "        }\n",
              "      </script>\n",
              "    </div>\n",
              "  </div>\n",
              "  "
            ]
          },
          "metadata": {},
          "execution_count": 37
        }
      ]
    },
    {
      "cell_type": "code",
      "source": [
        "train_ProviderWithPatientDetailsdata.shape"
      ],
      "metadata": {
        "id": "bAUJ-bjNK_qo",
        "outputId": "7f76e4f0-e933-4074-cd81-0fa8ff46259e",
        "colab": {
          "base_uri": "https://localhost:8080/"
        }
      },
      "execution_count": 39,
      "outputs": [
        {
          "output_type": "execute_result",
          "data": {
            "text/plain": [
              "(202294, 60)"
            ]
          },
          "metadata": {},
          "execution_count": 39
        }
      ]
    },
    {
      "cell_type": "code",
      "source": [
        "pd.set_option('display.max_rows', None)\n",
        "pd.set_option('display.max_columns', None)\n",
        "a=train_ProviderWithPatientDetailsdata.isnull().sum()\n",
        "print(a)"
      ],
      "metadata": {
        "colab": {
          "base_uri": "https://localhost:8080/"
        },
        "id": "wsp6w6HyrheQ",
        "outputId": "a93789ad-8e6f-4e85-ea9b-455861c86ca3"
      },
      "execution_count": 38,
      "outputs": [
        {
          "output_type": "stream",
          "name": "stdout",
          "text": [
            "Provider                                 0\n",
            "PotentialFraud                           0\n",
            "BeneID                                   0\n",
            "ClaimID                                  0\n",
            "ClaimStartDt                             0\n",
            "ClaimEndDt                               0\n",
            "InscClaimAmtReimbursed                   0\n",
            "AttendingPhysician                     530\n",
            "OperatingPhysician                  150218\n",
            "OtherPhysician                      136830\n",
            "ClmDiagnosisCode_1                    3292\n",
            "ClmDiagnosisCode_2                   61595\n",
            "ClmDiagnosisCode_3                   99139\n",
            "ClmDiagnosisCode_4                  124232\n",
            "ClmDiagnosisCode_5                  141499\n",
            "ClmDiagnosisCode_6                  151507\n",
            "ClmDiagnosisCode_7                  158847\n",
            "ClmDiagnosisCode_8                  164721\n",
            "ClmDiagnosisCode_9                  170751\n",
            "ClmDiagnosisCode_10                 198025\n",
            "ClmProcedureCode_1                  179105\n",
            "ClmProcedureCode_2                  196828\n",
            "ClmProcedureCode_3                  201327\n",
            "ClmProcedureCode_4                  202177\n",
            "ClmProcedureCode_5                  202285\n",
            "ClmProcedureCode_6                  202294\n",
            "DeductibleAmtPaid                      900\n",
            "ClmAdmitDiagnosisCode               128963\n",
            "claim_days                               0\n",
            "is_admitted                              0\n",
            "AdmissionDt                         161820\n",
            "DischargeDt                         161820\n",
            "DiagnosisGroupCode                  161820\n",
            "claim_has_at_least_one_physician    161820\n",
            "DOB                                      0\n",
            "DOD                                 200763\n",
            "Gender                                   0\n",
            "Race                                     0\n",
            "RenalDiseaseIndicator                    0\n",
            "State                                    0\n",
            "County                                   0\n",
            "NoOfMonths_PartACov                      0\n",
            "NoOfMonths_PartBCov                      0\n",
            "ChronicCond_Alzheimer                    0\n",
            "ChronicCond_Heartfailure                 0\n",
            "ChronicCond_KidneyDisease                0\n",
            "ChronicCond_Cancer                       0\n",
            "ChronicCond_ObstrPulmonary               0\n",
            "ChronicCond_Depression                   0\n",
            "ChronicCond_Diabetes                     0\n",
            "ChronicCond_IschemicHeart                0\n",
            "ChronicCond_Osteoporasis                 0\n",
            "ChronicCond_rheumatoidarthritis          0\n",
            "ChronicCond_stroke                       0\n",
            "IPAnnualReimbursementAmt                 0\n",
            "IPAnnualDeductibleAmt                    0\n",
            "OPAnnualReimbursementAmt                 0\n",
            "OPAnnualDeductibleAmt                    0\n",
            "Is_Dead                                  0\n",
            "age                                      0\n",
            "dtype: int64\n"
          ]
        }
      ]
    },
    {
      "cell_type": "markdown",
      "source": [
        "LETS DROP SOME COLUMN FROM THE FINAL DATASET"
      ],
      "metadata": {
        "id": "01sW6Uoav4o-"
      }
    },
    {
      "cell_type": "code",
      "source": [
        "columns_to_drop=[]"
      ],
      "metadata": {
        "id": "jnjHerPMrleu"
      },
      "execution_count": 129,
      "outputs": []
    },
    {
      "cell_type": "code",
      "source": [],
      "metadata": {
        "id": "GqWlAR4KzvVN"
      },
      "execution_count": 129,
      "outputs": []
    }
  ]
}