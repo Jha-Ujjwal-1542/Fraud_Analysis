{
 "cells": [
  {
   "cell_type": "code",
   "execution_count": 6,
   "metadata": {},
   "outputs": [],
   "source": [
    "import pandas as pd"
   ]
  },
  {
   "cell_type": "code",
   "execution_count": 7,
   "metadata": {},
   "outputs": [],
   "source": [
    "target_data = pd.read_csv('fraud_analysis_data\\Train_data.csv')\n",
    "IP_target_data=pd.read_csv('fraud_analysis_data\\Train_IP_data.csv')\n",
    "OP_target_data=pd.read_csv('fraud_analysis_data\\Train_OP_data.csv')\n",
    "Benef_target_data=pd.read_csv('fraud_analysis_data\\Train_Benef_data.csv')"
   ]
  },
  {
   "cell_type": "code",
   "execution_count": 9,
   "metadata": {},
   "outputs": [
    {
     "name": "stdout",
     "output_type": "stream",
     "text": [
      "Shape of target data:  (5410, 2)\n",
      "Shape of IP target data:  (40474, 30)\n",
      "Shape of OP target data:  (517737, 27)\n",
      "Shape of Beneficiary target data:  (138556, 25)\n"
     ]
    }
   ],
   "source": [
    "print(\"Shape of target data: \",target_data.shape)\n",
    "print(\"Shape of IP target data: \",IP_target_data.shape)\n",
    "print(\"Shape of OP target data: \",OP_target_data.shape)\n",
    "print(\"Shape of Beneficiary target data: \",Benef_target_data.shape)"
   ]
  },
  {
   "cell_type": "code",
   "execution_count": 18,
   "metadata": {},
   "outputs": [
    {
     "name": "stdout",
     "output_type": "stream",
     "text": [
      "Columns of IP train data: Index(['BeneID', 'ClaimID', 'ClaimStartDt', 'ClaimEndDt', 'Provider',\n",
      "       'InscClaimAmtReimbursed', 'AttendingPhysician', 'OperatingPhysician',\n",
      "       'OtherPhysician', 'AdmissionDt', 'ClmAdmitDiagnosisCode',\n",
      "       'DeductibleAmtPaid', 'DischargeDt', 'DiagnosisGroupCode',\n",
      "       'ClmDiagnosisCode_1', 'ClmDiagnosisCode_2', 'ClmDiagnosisCode_3',\n",
      "       'ClmDiagnosisCode_4', 'ClmDiagnosisCode_5', 'ClmDiagnosisCode_6',\n",
      "       'ClmDiagnosisCode_7', 'ClmDiagnosisCode_8', 'ClmDiagnosisCode_9',\n",
      "       'ClmDiagnosisCode_10', 'ClmProcedureCode_1', 'ClmProcedureCode_2',\n",
      "       'ClmProcedureCode_3', 'ClmProcedureCode_4', 'ClmProcedureCode_5',\n",
      "       'ClmProcedureCode_6'],\n",
      "      dtype='object')\n"
     ]
    }
   ],
   "source": [
    "print(\"Columns of IP train data:\",IP_target_data.columns)"
   ]
  },
  {
   "cell_type": "code",
   "execution_count": 19,
   "metadata": {},
   "outputs": [
    {
     "name": "stdout",
     "output_type": "stream",
     "text": [
      "Columns of IP train data: Index(['BeneID', 'ClaimID', 'ClaimStartDt', 'ClaimEndDt', 'Provider',\n",
      "       'InscClaimAmtReimbursed', 'AttendingPhysician', 'OperatingPhysician',\n",
      "       'OtherPhysician', 'ClmDiagnosisCode_1', 'ClmDiagnosisCode_2',\n",
      "       'ClmDiagnosisCode_3', 'ClmDiagnosisCode_4', 'ClmDiagnosisCode_5',\n",
      "       'ClmDiagnosisCode_6', 'ClmDiagnosisCode_7', 'ClmDiagnosisCode_8',\n",
      "       'ClmDiagnosisCode_9', 'ClmDiagnosisCode_10', 'ClmProcedureCode_1',\n",
      "       'ClmProcedureCode_2', 'ClmProcedureCode_3', 'ClmProcedureCode_4',\n",
      "       'ClmProcedureCode_5', 'ClmProcedureCode_6', 'DeductibleAmtPaid',\n",
      "       'ClmAdmitDiagnosisCode'],\n",
      "      dtype='object')\n"
     ]
    }
   ],
   "source": [
    "print(\"Columns of IP train data:\",OP_target_data.columns)"
   ]
  },
  {
   "cell_type": "code",
   "execution_count": 20,
   "metadata": {},
   "outputs": [
    {
     "name": "stdout",
     "output_type": "stream",
     "text": [
      "Columns of IP train data: Index(['BeneID', 'DOB', 'DOD', 'Gender', 'Race', 'RenalDiseaseIndicator',\n",
      "       'State', 'County', 'NoOfMonths_PartACov', 'NoOfMonths_PartBCov',\n",
      "       'ChronicCond_Alzheimer', 'ChronicCond_Heartfailure',\n",
      "       'ChronicCond_KidneyDisease', 'ChronicCond_Cancer',\n",
      "       'ChronicCond_ObstrPulmonary', 'ChronicCond_Depression',\n",
      "       'ChronicCond_Diabetes', 'ChronicCond_IschemicHeart',\n",
      "       'ChronicCond_Osteoporasis', 'ChronicCond_rheumatoidarthritis',\n",
      "       'ChronicCond_stroke', 'IPAnnualReimbursementAmt',\n",
      "       'IPAnnualDeductibleAmt', 'OPAnnualReimbursementAmt',\n",
      "       'OPAnnualDeductibleAmt'],\n",
      "      dtype='object')\n"
     ]
    }
   ],
   "source": [
    "print(\"Columns of IP train data:\",Benef_target_data.columns)"
   ]
  },
  {
   "cell_type": "code",
   "execution_count": null,
   "metadata": {},
   "outputs": [],
   "source": []
  }
 ],
 "metadata": {
  "kernelspec": {
   "display_name": "base",
   "language": "python",
   "name": "python3"
  },
  "language_info": {
   "codemirror_mode": {
    "name": "ipython",
    "version": 3
   },
   "file_extension": ".py",
   "mimetype": "text/x-python",
   "name": "python",
   "nbconvert_exporter": "python",
   "pygments_lexer": "ipython3",
   "version": "3.9.13"
  },
  "orig_nbformat": 4
 },
 "nbformat": 4,
 "nbformat_minor": 2
}
